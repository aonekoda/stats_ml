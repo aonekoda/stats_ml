{
 "cells": [
  {
   "cell_type": "markdown",
   "metadata": {},
   "source": [
    "# 확률의 기본"
   ]
  },
  {
   "cell_type": "markdown",
   "metadata": {},
   "source": [
    "### 주사위 시뮬레이션\n",
    "임의의 수를 뽑는 랜덤 함수를 활용해 간단한 주사위 시뮬레이션을 만들어 보자.  \n",
    "\n",
    "주사위 시뮬레이션은 다음과 같은 과정으로 진행합니다.\n",
    "\n",
    "1. 주사위를 굴린다.\n",
    "\n",
    "2. 나온 결과를 기록한다.\n",
    "\n",
    "3. 1~2 과정을 n번 반복한다.\n",
    "\n",
    "4. 주사위의 눈이 나온 횟수를 히스토그램으로 그린다.\n",
    "\n",
    "주사위 굴리는 것을 시뮬레이션하기 위해 random 모듈의 randint() 함수를 사용한다.  \n",
    "다음 코드가 실행되면 1~6 중 하나의 숫자가 무작위로 출력된다."
   ]
  },
  {
   "cell_type": "code",
   "execution_count": 6,
   "metadata": {},
   "outputs": [
    {
     "name": "stdout",
     "output_type": "stream",
     "text": [
      "3\n"
     ]
    }
   ],
   "source": [
    "import random\n",
    "print(random.randint(1, 6))"
   ]
  },
  {
   "cell_type": "markdown",
   "metadata": {},
   "source": [
    "주사위를 여러 번 굴리는 상황을 시뮬레이션하기 위해 for 반복문을 사용하고, 생성된 랜덤 숫자는 dice라는 이름의 리스트에 순서대로 저장한다."
   ]
  },
  {
   "cell_type": "code",
   "execution_count": 7,
   "metadata": {},
   "outputs": [
    {
     "name": "stdout",
     "output_type": "stream",
     "text": [
      "[2, 5, 4, 4, 3]\n"
     ]
    }
   ],
   "source": [
    "import random\n",
    "dice = []\n",
    "for i in range(5) :\n",
    "    dice.append(random.randint(1,6))\n",
    "print(dice)"
   ]
  },
  {
   "cell_type": "code",
   "execution_count": 8,
   "metadata": {},
   "outputs": [
    {
     "data": {
      "image/png": "[encoded data removed]",
      "text/plain": [
       "<Figure size 432x288 with 1 Axes>"
      ]
     },
     "metadata": {
      "needs_background": "light"
     },
     "output_type": "display_data"
    }
   ],
   "source": [
    "import matplotlib.pyplot as plt\n",
    "\n",
    "plt.hist(dice, bins=6)\n",
    "plt.show()"
   ]
  },
  {
   "cell_type": "markdown",
   "metadata": {},
   "source": [
    "이번에는 주사위를 10000번 굴린 결과를 시뮬레이션해보자. 주사위 눈의 수는 1부터 6까지이므로 특정 값이 나올 확률은 1/6이다. "
   ]
  },
  {
   "cell_type": "code",
   "execution_count": 4,
   "metadata": {},
   "outputs": [
    {
     "data": {
      "image/png": "[encoded data removed]",
      "text/plain": [
       "<Figure size 432x288 with 1 Axes>"
      ]
     },
     "metadata": {
      "needs_background": "light"
     },
     "output_type": "display_data"
    }
   ],
   "source": [
    "dice = []\n",
    "for i in range(10000) :    # 5를 10000으로 수정\n",
    "    dice.append(random.randint(1,6))\n",
    "\n",
    "plt.hist(dice, bins=6)\n",
    "plt.show()"
   ]
  },
  {
   "cell_type": "markdown",
   "metadata": {},
   "source": [
    "* 확률의 상대도수적 정의 : n번의 시행 중 사건 A가 a번 일어 났다면, 사건 A가 일어날 확률 P(A) = a/n 으로 정의할 수 있다.  \n",
    "\n",
    "반복 실행 횟수가 1~6까지 거의 1/6씩 (10000/6 = 1666.6666) 균등한 빈도로 나온 것을 확인할 수 있다."
   ]
  },
  {
   "cell_type": "markdown",
   "metadata": {},
   "source": [
    "## 확률의 계산 - 경우의 수"
   ]
  },
  {
   "cell_type": "markdown",
   "metadata": {},
   "source": [
    "### 순열(=permutations)\n",
    "* 반복 가능한 객체(=길이가 n인)에 대해서 중복을 허용하지 않고 r개를 뽑아서 나열한다.\n",
    "* 뽑힌 순서대로 나열하기 때문에 순서가 의미가 있다. (즉, 같은 값이 뽑히더라도 순서가 다르면 다른 경우의 수로 취급한다.)\n",
    "* permutations(반복 가능한 객체, r)\n"
   ]
  },
  {
   "cell_type": "code",
   "execution_count": 5,
   "metadata": {},
   "outputs": [
    {
     "name": "stdout",
     "output_type": "stream",
     "text": [
      "(1, 2) (1, 3) (1, 4) (2, 1) (2, 3) (2, 4) (3, 1) (3, 2) (3, 4) (4, 1) (4, 2) (4, 3) "
     ]
    }
   ],
   "source": [
    "from itertools import permutations\n",
    "\n",
    "for i in permutations([1,2,3,4], 2):\n",
    "    print(i, end=\" \")"
   ]
  },
  {
   "cell_type": "markdown",
   "metadata": {},
   "source": [
    "### 조합(=combinations)\n",
    "\n",
    "* 반복 가능한 객체(=길이가 n인)에 대해서 중복을 허용하지 않고 r개를 뽑는다.\n",
    "* 어떤 것을 뽑는지만 중요하게 보기 때문에 뽑은 순서는 고려하지 않는다.\n",
    "* combinations(반복 가능한 객체, r)\n"
   ]
  },
  {
   "cell_type": "code",
   "execution_count": 6,
   "metadata": {},
   "outputs": [
    {
     "name": "stdout",
     "output_type": "stream",
     "text": [
      "(1, 2) (1, 3) (1, 4) (2, 3) (2, 4) (3, 4) "
     ]
    }
   ],
   "source": [
    "from itertools import combinations\n",
    "\n",
    "for i in combinations([1,2,3,4], 2):\n",
    "    print(i, end=\" \")\n"
   ]
  },
  {
   "cell_type": "code",
   "execution_count": null,
   "metadata": {},
   "outputs": [],
   "source": []
  }
 ],
 "metadata": {
  "kernelspec": {
   "display_name": "Python 3",
   "language": "python",
   "name": "python3"
  },
  "language_info": {
   "codemirror_mode": {
    "name": "ipython",
    "version": 3
   },
   "file_extension": ".py",
   "mimetype": "text/x-python",
   "name": "python",
   "nbconvert_exporter": "python",
   "pygments_lexer": "ipython3",
   "version": "3.8.5"
  }
 },
 "nbformat": 4,
 "nbformat_minor": 4
}

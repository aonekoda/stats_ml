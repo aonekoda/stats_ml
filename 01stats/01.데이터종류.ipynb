{
 "cells": [
  {
   "cell_type": "markdown",
   "metadata": {
    "id": "IGtw7tH_92vw"
   },
   "source": [
    "# 데이터 종류\n",
    "\n",
    "\n",
    "* 범주형 데이터 Categorical Data\n",
    "    * 명목형 자료(nominal data) : 숫자로 바꾸어도 그 값이 크고 작음을 나타내는 것이 아니라 단순히 범주를 표시\n",
    "        * 예) 성별(주민번호), 혈액형\n",
    "    * 순서형 자료(ordinal data) : 범주의 순서가 상대적으로 비교 가능, \n",
    "        * 예) 비만도(저체중, 정상, 과체중, 비만, 고도비만), 학점,선호\n",
    "* 수치형 데이터 Numerical Data\n",
    "    * 이산형(discrete data) : 셀 수 있는 형태의 자료(countable data) \n",
    "        * 예) 멤버의 수\n",
    "    * 연속형(continuous data) : 연속적인 속성을 가지는 자료\n",
    "        * 예) 신장, 체중\n"
   ]
  },
  {
   "cell_type": "code",
   "execution_count": 1,
   "metadata": {
    "ExecuteTime": {
     "end_time": "2018-08-03T08:26:15.690793Z",
     "start_time": "2018-08-03T08:26:15.507201Z"
    },
    "id": "ZzoDhrPY92vy"
   },
   "outputs": [],
   "source": [
    "# Pandas를 pd라는 이름으로 임포트한다\n",
    "import pandas as pd"
   ]
  },
  {
   "cell_type": "code",
   "execution_count": 2,
   "metadata": {
    "ExecuteTime": {
     "end_time": "2018-08-03T08:26:15.708374Z",
     "start_time": "2018-08-03T08:26:15.691921Z"
    },
    "id": "PfH1b1be92vy",
    "outputId": "e89f2a13-2d99-4b7c-dfad-712cde0a196e"
   },
   "outputs": [
    {
     "data": {
      "text/html": [
       "<div>\n",
       "<style scoped>\n",
       "    .dataframe tbody tr th:only-of-type {\n",
       "        vertical-align: middle;\n",
       "    }\n",
       "\n",
       "    .dataframe tbody tr th {\n",
       "        vertical-align: top;\n",
       "    }\n",
       "\n",
       "    .dataframe thead th {\n",
       "        text-align: right;\n",
       "    }\n",
       "</style>\n",
       "<table border=\"1\" class=\"dataframe\">\n",
       "  <thead>\n",
       "    <tr style=\"text-align: right;\">\n",
       "      <th></th>\n",
       "      <th>학년</th>\n",
       "      <th>악력</th>\n",
       "      <th>윗몸일으키기</th>\n",
       "      <th>점수</th>\n",
       "      <th>순위</th>\n",
       "    </tr>\n",
       "    <tr>\n",
       "      <th>학생번호</th>\n",
       "      <th></th>\n",
       "      <th></th>\n",
       "      <th></th>\n",
       "      <th></th>\n",
       "      <th></th>\n",
       "    </tr>\n",
       "  </thead>\n",
       "  <tbody>\n",
       "    <tr>\n",
       "      <th>1</th>\n",
       "      <td>1</td>\n",
       "      <td>40.2</td>\n",
       "      <td>34</td>\n",
       "      <td>15</td>\n",
       "      <td>4</td>\n",
       "    </tr>\n",
       "    <tr>\n",
       "      <th>2</th>\n",
       "      <td>1</td>\n",
       "      <td>34.2</td>\n",
       "      <td>14</td>\n",
       "      <td>7</td>\n",
       "      <td>10</td>\n",
       "    </tr>\n",
       "    <tr>\n",
       "      <th>3</th>\n",
       "      <td>1</td>\n",
       "      <td>28.8</td>\n",
       "      <td>27</td>\n",
       "      <td>11</td>\n",
       "      <td>7</td>\n",
       "    </tr>\n",
       "    <tr>\n",
       "      <th>4</th>\n",
       "      <td>2</td>\n",
       "      <td>39.0</td>\n",
       "      <td>27</td>\n",
       "      <td>14</td>\n",
       "      <td>5</td>\n",
       "    </tr>\n",
       "    <tr>\n",
       "      <th>5</th>\n",
       "      <td>2</td>\n",
       "      <td>50.9</td>\n",
       "      <td>32</td>\n",
       "      <td>17</td>\n",
       "      <td>2</td>\n",
       "    </tr>\n",
       "    <tr>\n",
       "      <th>6</th>\n",
       "      <td>2</td>\n",
       "      <td>36.5</td>\n",
       "      <td>20</td>\n",
       "      <td>9</td>\n",
       "      <td>9</td>\n",
       "    </tr>\n",
       "    <tr>\n",
       "      <th>7</th>\n",
       "      <td>3</td>\n",
       "      <td>36.6</td>\n",
       "      <td>31</td>\n",
       "      <td>13</td>\n",
       "      <td>6</td>\n",
       "    </tr>\n",
       "    <tr>\n",
       "      <th>8</th>\n",
       "      <td>3</td>\n",
       "      <td>49.2</td>\n",
       "      <td>37</td>\n",
       "      <td>18</td>\n",
       "      <td>1</td>\n",
       "    </tr>\n",
       "    <tr>\n",
       "      <th>9</th>\n",
       "      <td>3</td>\n",
       "      <td>26.0</td>\n",
       "      <td>28</td>\n",
       "      <td>10</td>\n",
       "      <td>8</td>\n",
       "    </tr>\n",
       "    <tr>\n",
       "      <th>10</th>\n",
       "      <td>3</td>\n",
       "      <td>47.4</td>\n",
       "      <td>32</td>\n",
       "      <td>16</td>\n",
       "      <td>3</td>\n",
       "    </tr>\n",
       "  </tbody>\n",
       "</table>\n",
       "</div>"
      ],
      "text/plain": [
       "      학년    악력  윗몸일으키기  점수  순위\n",
       "학생번호                          \n",
       "1      1  40.2      34  15   4\n",
       "2      1  34.2      14   7  10\n",
       "3      1  28.8      27  11   7\n",
       "4      2  39.0      27  14   5\n",
       "5      2  50.9      32  17   2\n",
       "6      2  36.5      20   9   9\n",
       "7      3  36.6      31  13   6\n",
       "8      3  49.2      37  18   1\n",
       "9      3  26.0      28  10   8\n",
       "10     3  47.4      32  16   3"
      ]
     },
     "execution_count": 2,
     "metadata": {},
     "output_type": "execute_result"
    }
   ],
   "source": [
    "# 학생번호를 인덱스로 csv 파일을 읽어들여, 변수 df에 저장\n",
    "df = pd.read_csv('./data/ch1_sport_test.csv',\n",
    "                 index_col='학생번호')\n",
    "# 변수 df를 표시\n",
    "df"
   ]
  },
  {
   "cell_type": "markdown",
   "metadata": {
    "id": "GpJWCRJD92vz"
   },
   "source": [
    "### 데이터의 종류"
   ]
  },
  {
   "cell_type": "code",
   "execution_count": 3,
   "metadata": {
    "id": "gEyz4QKo92vz",
    "outputId": "45c4c4d2-f7cd-4447-d1aa-9b0442548b56"
   },
   "outputs": [
    {
     "name": "stdout",
     "output_type": "stream",
     "text": [
      "<class 'pandas.core.frame.DataFrame'>\n",
      "Int64Index: 10 entries, 1 to 10\n",
      "Data columns (total 5 columns):\n",
      " #   Column  Non-Null Count  Dtype  \n",
      "---  ------  --------------  -----  \n",
      " 0   학년      10 non-null     int64  \n",
      " 1   악력      10 non-null     float64\n",
      " 2   윗몸일으키기  10 non-null     int64  \n",
      " 3   점수      10 non-null     int64  \n",
      " 4   순위      10 non-null     int64  \n",
      "dtypes: float64(1), int64(4)\n",
      "memory usage: 480.0 bytes\n"
     ]
    }
   ],
   "source": [
    "# 읽어들인 데이터의 기본 구조를 확인한다.\n",
    "df.info()"
   ]
  },
  {
   "cell_type": "code",
   "execution_count": 4,
   "metadata": {
    "ExecuteTime": {
     "end_time": "2018-08-03T08:26:15.712890Z",
     "start_time": "2018-08-03T08:26:15.709417Z"
    },
    "id": "MDHCfrfG92v0",
    "outputId": "63070077-3f46-48d7-c4b9-9d0a718f3020"
   },
   "outputs": [
    {
     "data": {
      "text/plain": [
       "학생번호\n",
       "1     40.2\n",
       "2     34.2\n",
       "3     28.8\n",
       "4     39.0\n",
       "5     50.9\n",
       "6     36.5\n",
       "7     36.6\n",
       "8     49.2\n",
       "9     26.0\n",
       "10    47.4\n",
       "Name: 악력, dtype: float64"
      ]
     },
     "execution_count": 4,
     "metadata": {},
     "output_type": "execute_result"
    }
   ],
   "source": [
    "# 특정 컬럼만 표시한다.\n",
    "df['악력']"
   ]
  },
  {
   "cell_type": "markdown",
   "metadata": {
    "id": "P-9CqYPR92v0"
   },
   "source": [
    "* 학년 : 1,2,3학년 띄엄띄엄한 값으로 이산형 변수이다. 학년이라는 범주(categorical)데이터로 볼 수도 있다.\n",
    "* 악력 : 양적 변수이다. 연속형 변수이다. \n",
    "* 윗몸일으키기 : 1회 2회 처럼 횟수이므로 이산형 변수이다.\n",
    "* 점수 : 점수는 연속형 변수이다.\n",
    "* 순위 : 이산형 변수이다."
   ]
  },
  {
   "cell_type": "markdown",
   "metadata": {
    "id": "uoEeT4NM92v0"
   },
   "source": [
    "### 범주형 데이터\n",
    "df['학년'] 컬럼을 범주형 변수로 데이터 타입을 변환할 수 있다."
   ]
  },
  {
   "cell_type": "code",
   "execution_count": 5,
   "metadata": {
    "id": "LnVsZPZd92v1"
   },
   "outputs": [],
   "source": [
    "df['학년'] = df['학년'].astype('category')"
   ]
  },
  {
   "cell_type": "code",
   "execution_count": 6,
   "metadata": {
    "id": "dmUTzJ0A92v1",
    "outputId": "aaf1dc4f-1bd7-4857-dc28-67f301477caf"
   },
   "outputs": [
    {
     "data": {
      "text/plain": [
       "학생번호\n",
       "1     1\n",
       "2     1\n",
       "3     1\n",
       "4     2\n",
       "5     2\n",
       "6     2\n",
       "7     3\n",
       "8     3\n",
       "9     3\n",
       "10    3\n",
       "Name: 학년, dtype: category\n",
       "Categories (3, int64): [1, 2, 3]"
      ]
     },
     "execution_count": 6,
     "metadata": {},
     "output_type": "execute_result"
    }
   ],
   "source": [
    "df['학년']"
   ]
  },
  {
   "cell_type": "code",
   "execution_count": 7,
   "metadata": {
    "id": "Wx4rb6w592v1",
    "outputId": "dc0f83f6-5707-4ae7-cc16-8793e36fc673"
   },
   "outputs": [
    {
     "data": {
      "text/plain": [
       "Int64Index([1, 2, 3], dtype='int64')"
      ]
     },
     "execution_count": 7,
     "metadata": {},
     "output_type": "execute_result"
    }
   ],
   "source": [
    "df['학년'].cat.categories"
   ]
  },
  {
   "cell_type": "code",
   "execution_count": 8,
   "metadata": {
    "id": "NusCOl8w92v2",
    "outputId": "ead87618-6b01-473b-c2fb-266189e9bb40"
   },
   "outputs": [
    {
     "data": {
      "text/plain": [
       "1    3\n",
       "2    3\n",
       "3    4\n",
       "Name: 학년, dtype: int64"
      ]
     },
     "execution_count": 8,
     "metadata": {},
     "output_type": "execute_result"
    }
   ],
   "source": [
    "df['학년'].value_counts().sort_index()"
   ]
  },
  {
   "cell_type": "markdown",
   "metadata": {
    "id": "CHbyxwL992v2"
   },
   "source": [
    "### 수치형 데이터를 범주형 데이터로 변환하기\n",
    "\n",
    "수치형 데이터를 구간으로 나누어 범주형 데이터로 변환하는 것이 가능하다."
   ]
  },
  {
   "cell_type": "code",
   "execution_count": 9,
   "metadata": {
    "id": "FGYrdtfw92v2",
    "outputId": "79e5931d-3875-496b-ac6b-0d1523d168a2"
   },
   "outputs": [
    {
     "data": {
      "text/plain": [
       "학생번호\n",
       "1     15\n",
       "2      7\n",
       "3     11\n",
       "4     14\n",
       "5     17\n",
       "6      9\n",
       "7     13\n",
       "8     18\n",
       "9     10\n",
       "10    16\n",
       "Name: 점수, dtype: int64"
      ]
     },
     "execution_count": 9,
     "metadata": {},
     "output_type": "execute_result"
    }
   ],
   "source": [
    "df['점수'] # 연속형 수치데이터"
   ]
  },
  {
   "cell_type": "markdown",
   "metadata": {
    "id": "V5TJNT9a92v2"
   },
   "source": [
    "`pd.cut()`함수의 `bins`옵션으로 구간의 범위를 지정할 수 있다. \n",
    "\n",
    "`labels`옵션으로 구간의 label을 지정할 수 있다."
   ]
  },
  {
   "cell_type": "code",
   "execution_count": 10,
   "metadata": {
    "id": "Uq8F0YJV92v3"
   },
   "outputs": [],
   "source": [
    "df['등급'] = pd.cut(df['점수'], bins=[0,10,15,20], labels=['하','중','상'])"
   ]
  },
  {
   "cell_type": "code",
   "execution_count": 11,
   "metadata": {
    "id": "u8BxyGTv92v3",
    "outputId": "06693d31-ec1b-4f0b-edc7-b8aab6f92564"
   },
   "outputs": [
    {
     "data": {
      "text/html": [
       "<div>\n",
       "<style scoped>\n",
       "    .dataframe tbody tr th:only-of-type {\n",
       "        vertical-align: middle;\n",
       "    }\n",
       "\n",
       "    .dataframe tbody tr th {\n",
       "        vertical-align: top;\n",
       "    }\n",
       "\n",
       "    .dataframe thead th {\n",
       "        text-align: right;\n",
       "    }\n",
       "</style>\n",
       "<table border=\"1\" class=\"dataframe\">\n",
       "  <thead>\n",
       "    <tr style=\"text-align: right;\">\n",
       "      <th></th>\n",
       "      <th>점수</th>\n",
       "      <th>등급</th>\n",
       "    </tr>\n",
       "    <tr>\n",
       "      <th>학생번호</th>\n",
       "      <th></th>\n",
       "      <th></th>\n",
       "    </tr>\n",
       "  </thead>\n",
       "  <tbody>\n",
       "    <tr>\n",
       "      <th>1</th>\n",
       "      <td>15</td>\n",
       "      <td>중</td>\n",
       "    </tr>\n",
       "    <tr>\n",
       "      <th>2</th>\n",
       "      <td>7</td>\n",
       "      <td>하</td>\n",
       "    </tr>\n",
       "    <tr>\n",
       "      <th>3</th>\n",
       "      <td>11</td>\n",
       "      <td>중</td>\n",
       "    </tr>\n",
       "    <tr>\n",
       "      <th>4</th>\n",
       "      <td>14</td>\n",
       "      <td>중</td>\n",
       "    </tr>\n",
       "    <tr>\n",
       "      <th>5</th>\n",
       "      <td>17</td>\n",
       "      <td>상</td>\n",
       "    </tr>\n",
       "    <tr>\n",
       "      <th>6</th>\n",
       "      <td>9</td>\n",
       "      <td>하</td>\n",
       "    </tr>\n",
       "    <tr>\n",
       "      <th>7</th>\n",
       "      <td>13</td>\n",
       "      <td>중</td>\n",
       "    </tr>\n",
       "    <tr>\n",
       "      <th>8</th>\n",
       "      <td>18</td>\n",
       "      <td>상</td>\n",
       "    </tr>\n",
       "    <tr>\n",
       "      <th>9</th>\n",
       "      <td>10</td>\n",
       "      <td>하</td>\n",
       "    </tr>\n",
       "    <tr>\n",
       "      <th>10</th>\n",
       "      <td>16</td>\n",
       "      <td>상</td>\n",
       "    </tr>\n",
       "  </tbody>\n",
       "</table>\n",
       "</div>"
      ],
      "text/plain": [
       "      점수 등급\n",
       "학생번호       \n",
       "1     15  중\n",
       "2      7  하\n",
       "3     11  중\n",
       "4     14  중\n",
       "5     17  상\n",
       "6      9  하\n",
       "7     13  중\n",
       "8     18  상\n",
       "9     10  하\n",
       "10    16  상"
      ]
     },
     "execution_count": 11,
     "metadata": {},
     "output_type": "execute_result"
    }
   ],
   "source": [
    "df[['점수', '등급']]"
   ]
  },
  {
   "cell_type": "markdown",
   "metadata": {
    "id": "PucLdmcR92v3"
   },
   "source": [
    "### 데이터의 크기 확인"
   ]
  },
  {
   "cell_type": "code",
   "execution_count": 12,
   "metadata": {
    "ExecuteTime": {
     "end_time": "2018-08-03T08:26:15.716635Z",
     "start_time": "2018-08-03T08:26:15.714019Z"
    },
    "id": "KgH1ufX692v3",
    "outputId": "989a34d0-618a-47fd-b45f-494d38edbb7c"
   },
   "outputs": [
    {
     "data": {
      "text/plain": [
       "(10, 6)"
      ]
     },
     "execution_count": 12,
     "metadata": {},
     "output_type": "execute_result"
    }
   ],
   "source": [
    "df.shape"
   ]
  },
  {
   "cell_type": "markdown",
   "metadata": {
    "id": "T9HE7H1992v3"
   },
   "source": [
    "# 실습\n",
    "\n",
    "다음의 ages를 bins의 구간으로 나누어 보세요. (hint. pd.cut()을 사용하세요.)\n",
    "```\n",
    "ages = [20, 22, 25, 27, 21, 23, 37, 31, 61, 45, 41, 32]\n",
    "bins = [18, 25, 35, 60, 100]\n",
    "\n",
    "```\n"
   ]
  },
  {
   "cell_type": "code",
   "execution_count": null,
   "metadata": {},
   "outputs": [],
   "source": [
    "# TODO"
   ]
  }
 ],
 "metadata": {
  "colab": {
   "name": "01.데이터종류.ipynb",
   "provenance": []
  },
  "kernelspec": {
   "display_name": "Python 3",
   "language": "python",
   "name": "python3"
  },
  "language_info": {
   "codemirror_mode": {
    "name": "ipython",
    "version": 3
   },
   "file_extension": ".py",
   "mimetype": "text/x-python",
   "name": "python",
   "nbconvert_exporter": "python",
   "pygments_lexer": "ipython3",
   "version": "3.8.5"
  },
  "toc": {
   "nav_menu": {},
   "number_sections": true,
   "sideBar": true,
   "skip_h1_title": false,
   "toc_cell": false,
   "toc_position": {},
   "toc_section_display": "block",
   "toc_window_display": false
  }
 },
 "nbformat": 4,
 "nbformat_minor": 1
}

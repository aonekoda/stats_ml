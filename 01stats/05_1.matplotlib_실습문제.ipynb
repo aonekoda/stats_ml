{
 "cells": [
  {
   "cell_type": "markdown",
   "metadata": {
    "colab_type": "text",
    "id": "_naKj2LUZNM5"
   },
   "source": [
    "# Matplotlib 연습문제\n",
    "\n",
    "일단 필요한 package를 import하고 매직 명령어를 사용하여 jupyter notebook에서 그래프가 표시 될 수 있도록 한다."
   ]
  },
  {
   "cell_type": "code",
   "execution_count": 1,
   "metadata": {
    "colab": {},
    "colab_type": "code",
    "id": "Y2HuhttsZNM6"
   },
   "outputs": [],
   "source": [
    "import matplotlib.pyplot as plt\n",
    "import numpy as np\n",
    "\n",
    "%matplotlib inline"
   ]
  },
  {
   "cell_type": "markdown",
   "metadata": {
    "colab_type": "text",
    "id": "EMac0d3tZNM9"
   },
   "source": [
    "1. 아래의 코드를 수행하여 그래프로 표시할 데이터를 만드시오.   \n",
    "subplot을 활용하여 아래와 같은 결과를 그래프로 그리시오.\n",
    "\n",
    "```\n",
    "x1 = np.linspace(0.0, 5.0)\n",
    "x2 = np.linspace(0.0, 2.0)\n",
    "\n",
    "y1 = np.cos(2 * np.pi * x1) * np.exp(-x1)\n",
    "y2 = np.cos(2 * np.pi * x2)\n",
    "```"
   ]
  },
  {
   "cell_type": "code",
   "execution_count": 2,
   "metadata": {
    "colab": {},
    "colab_type": "code",
    "id": "WBeT5-sGZNM-",
    "outputId": "233eb831-f5d8-423b-8a2f-4a40eab138f2"
   },
   "outputs": [],
   "source": [
    "x1 = np.linspace(0.0, 5.0)\n",
    "x2 = np.linspace(0.0, 2.0)\n",
    "\n",
    "y1 = np.cos(2 * np.pi * x1) * np.exp(-x1)\n",
    "y2 = np.cos(2 * np.pi * x2)\n",
    "\n",
    "# TODO"
   ]
  },
  {
   "cell_type": "markdown",
   "metadata": {
    "colab_type": "text",
    "id": "A7cNZdY_ZNNB"
   },
   "source": [
    "2. 다음과 같이 sine 그래프와 cosine 그래프를 하나의 그래프로 표시하시오.  \n",
    "선의 모양, 색깔을 다르게 하고 legend를 표시하시오."
   ]
  },
  {
   "cell_type": "code",
   "execution_count": 3,
   "metadata": {
    "colab": {},
    "colab_type": "code",
    "id": "E5u6L8BhZNNC",
    "outputId": "8049b829-8621-4423-bf29-9d100064a042"
   },
   "outputs": [],
   "source": [
    "x = np.linspace(0,10,100)\n",
    "\n",
    "# TODO\n"
   ]
  },
  {
   "cell_type": "markdown",
   "metadata": {
    "colab_type": "text",
    "id": "6YawlGhjZNNE"
   },
   "source": [
    "3. 다음과 같은 정규분포 데이터를 만들고 histogram을 그려보시오.\n",
    "```\n",
    "data = np.random.normal(5,3,1000)\n",
    "```"
   ]
  },
  {
   "cell_type": "code",
   "execution_count": null,
   "metadata": {
    "colab": {},
    "colab_type": "code",
    "id": "x6Prz8ldZNNF"
   },
   "outputs": [],
   "source": []
  },
  {
   "cell_type": "markdown",
   "metadata": {
    "colab_type": "text",
    "id": "T1XDxFSFZNNH"
   },
   "source": [
    "4. 다음과 같은 데이터를 만들고 산점도를 그려보시오. \n",
    "\n",
    "```\n",
    "x = np.random.rand(30)\n",
    "y = 2*x + 3 + np.random.randn(30)\n",
    "```"
   ]
  },
  {
   "cell_type": "code",
   "execution_count": null,
   "metadata": {
    "colab": {},
    "colab_type": "code",
    "id": "owIAEZyvZNNI"
   },
   "outputs": [],
   "source": []
  }
 ],
 "metadata": {
  "colab": {
   "collapsed_sections": [],
   "name": "04matplotlib_실습문제.ipynb",
   "provenance": []
  },
  "kernelspec": {
   "display_name": "Python 3",
   "language": "python",
   "name": "python3"
  },
  "language_info": {
   "codemirror_mode": {
    "name": "ipython",
    "version": 3
   },
   "file_extension": ".py",
   "mimetype": "text/x-python",
   "name": "python",
   "nbconvert_exporter": "python",
   "pygments_lexer": "ipython3",
   "version": "3.8.5"
  }
 },
 "nbformat": 4,
 "nbformat_minor": 1
}

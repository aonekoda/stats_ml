{
 "cells": [
  {
   "cell_type": "markdown",
   "metadata": {
    "id": "T9HE7H1992v3"
   },
   "source": [
    "## 01실습\n",
    "\n",
    "다음의 ages를 bins의 구간으로 나누어 보세요. (hint. pd.cut()을 사용하세요.)\n",
    "```\n",
    "ages = [20, 22, 25, 27, 21, 23, 37, 31, 61, 45, 41, 32]\n",
    "bins = [18, 25, 35, 60, 100]\n",
    "\n",
    "```\n"
   ]
  },
  {
   "cell_type": "code",
   "execution_count": 7,
   "metadata": {},
   "outputs": [
    {
     "data": {
      "text/plain": [
       "[(18, 25], (18, 25], (18, 25], (25, 35], (18, 25], ..., (25, 35], (60, 100], (35, 60], (35, 60], (25, 35]]\n",
       "Length: 12\n",
       "Categories (4, interval[int64]): [(18, 25] < (25, 35] < (35, 60] < (60, 100]]"
      ]
     },
     "execution_count": 7,
     "metadata": {},
     "output_type": "execute_result"
    }
   ],
   "source": [
    "import pandas as pd\n",
    "\n",
    "ages = [20, 22, 25, 27, 21, 23, 37, 31, 61, 45, 41, 32]\n",
    "bins = [18, 25, 35, 60, 100]\n",
    "\n",
    "pd.cut(ages, bins)"
   ]
  },
  {
   "cell_type": "markdown",
   "metadata": {
    "id": "aTtOpJ686OwM"
   },
   "source": [
    "# 02실습\n",
    "\n",
    "다음과 같은 물고기의 크기와 관련된 데이터가 있다. \n",
    "\n",
    "```\n",
    "fish_data = np.array([2,3,3,4,4,4,4,5,5,6])\n",
    "fish_data\n",
    "```\n",
    "\n"
   ]
  },
  {
   "cell_type": "code",
   "execution_count": 9,
   "metadata": {},
   "outputs": [
    {
     "data": {
      "text/plain": [
       "array([2, 3, 3, 4, 4, 4, 4, 5, 5, 6])"
      ]
     },
     "execution_count": 9,
     "metadata": {},
     "output_type": "execute_result"
    }
   ],
   "source": [
    "import numpy as np\n",
    "fish_data = np.array([2,3,3,4,4,4,4,5,5,6])\n",
    "fish_data"
   ]
  },
  {
   "cell_type": "markdown",
   "metadata": {},
   "source": [
    "1. fish_data의 합계와 fish_data의 사이즈를 구하시오. (np.sum(), len()) "
   ]
  },
  {
   "cell_type": "code",
   "execution_count": 10,
   "metadata": {},
   "outputs": [
    {
     "data": {
      "text/plain": [
       "(40, 10)"
      ]
     },
     "execution_count": 10,
     "metadata": {},
     "output_type": "execute_result"
    }
   ],
   "source": [
    "np.sum(fish_data), len(fish_data)"
   ]
  },
  {
   "cell_type": "markdown",
   "metadata": {},
   "source": [
    "2. fish_data 의 평균을 구하시오."
   ]
  },
  {
   "cell_type": "code",
   "execution_count": 11,
   "metadata": {},
   "outputs": [
    {
     "data": {
      "text/plain": [
       "(4.0, 4.0)"
      ]
     },
     "execution_count": 11,
     "metadata": {},
     "output_type": "execute_result"
    }
   ],
   "source": [
    "np.sum(fish_data)/len(fish_data), np.mean(fish_data)"
   ]
  },
  {
   "cell_type": "markdown",
   "metadata": {},
   "source": [
    "3. fish_data의 중위수(중앙값)을 구하시오."
   ]
  },
  {
   "cell_type": "code",
   "execution_count": 12,
   "metadata": {},
   "outputs": [
    {
     "data": {
      "text/plain": [
       "4.0"
      ]
     },
     "execution_count": 12,
     "metadata": {},
     "output_type": "execute_result"
    }
   ],
   "source": [
    "np.median(fish_data)"
   ]
  },
  {
   "cell_type": "markdown",
   "metadata": {},
   "source": [
    "4. fish_data 의 최빈값을 구하시오."
   ]
  },
  {
   "cell_type": "code",
   "execution_count": 19,
   "metadata": {},
   "outputs": [
    {
     "data": {
      "text/plain": [
       "ModeResult(mode=array([4]), count=array([4]))"
      ]
     },
     "execution_count": 19,
     "metadata": {},
     "output_type": "execute_result"
    }
   ],
   "source": [
    "from scipy import stats\n",
    "stats.mode(fish_data)"
   ]
  },
  {
   "cell_type": "code",
   "execution_count": 20,
   "metadata": {},
   "outputs": [
    {
     "data": {
      "text/plain": [
       "0    4\n",
       "dtype: int32"
      ]
     },
     "execution_count": 20,
     "metadata": {},
     "output_type": "execute_result"
    }
   ],
   "source": [
    "pd.Series(fish_data).mode()"
   ]
  },
  {
   "cell_type": "markdown",
   "metadata": {
    "id": "aTtOpJ686OwM"
   },
   "source": [
    "# 03실습\n",
    "\n",
    "다음과 같은 물고기의 크기와 관련된 데이터가 있다. \n",
    "\n",
    "```\n",
    "fish_data = np.array([2,3,3,4,4,4,4,5,5,6])\n",
    "fish_data\n",
    "```\n",
    "\n"
   ]
  },
  {
   "cell_type": "code",
   "execution_count": 21,
   "metadata": {},
   "outputs": [
    {
     "data": {
      "text/plain": [
       "array([2, 3, 3, 4, 4, 4, 4, 5, 5, 6])"
      ]
     },
     "execution_count": 21,
     "metadata": {},
     "output_type": "execute_result"
    }
   ],
   "source": [
    "fish_data = np.array([2,3,3,4,4,4,4,5,5,6])\n",
    "fish_data"
   ]
  },
  {
   "cell_type": "markdown",
   "metadata": {},
   "source": [
    "1. fish_data 의 분산을 구하시오"
   ]
  },
  {
   "cell_type": "code",
   "execution_count": 22,
   "metadata": {},
   "outputs": [
    {
     "data": {
      "text/plain": [
       "1.2"
      ]
     },
     "execution_count": 22,
     "metadata": {},
     "output_type": "execute_result"
    }
   ],
   "source": [
    "fish_data.var()"
   ]
  },
  {
   "cell_type": "markdown",
   "metadata": {},
   "source": [
    "2. fish_data의 불편분산을 구하시오."
   ]
  },
  {
   "cell_type": "code",
   "execution_count": 23,
   "metadata": {},
   "outputs": [
    {
     "data": {
      "text/plain": [
       "1.3333333333333333"
      ]
     },
     "execution_count": 23,
     "metadata": {},
     "output_type": "execute_result"
    }
   ],
   "source": [
    "fish_data.var(ddof=1)"
   ]
  },
  {
   "cell_type": "markdown",
   "metadata": {},
   "source": [
    "3. fish_data의 표준편차를 구하시오."
   ]
  },
  {
   "cell_type": "code",
   "execution_count": 24,
   "metadata": {},
   "outputs": [
    {
     "data": {
      "text/plain": [
       "1.0954451150103321"
      ]
     },
     "execution_count": 24,
     "metadata": {},
     "output_type": "execute_result"
    }
   ],
   "source": [
    "fish_data.std()"
   ]
  },
  {
   "cell_type": "markdown",
   "metadata": {},
   "source": [
    "4. fish_data의 사분위수를 구하시오."
   ]
  },
  {
   "cell_type": "code",
   "execution_count": 32,
   "metadata": {},
   "outputs": [
    {
     "name": "stdout",
     "output_type": "stream",
     "text": [
      "2.0225 2.045 2.0675\n"
     ]
    }
   ],
   "source": [
    "Q1,Q2,Q3 = np.percentile(fish_data, [0.25, 0.5, 0.75])\n",
    "print(Q1, Q2, Q3)"
   ]
  },
  {
   "cell_type": "markdown",
   "metadata": {},
   "source": [
    "5. fish_data의 IQR값을 구하시오."
   ]
  },
  {
   "cell_type": "code",
   "execution_count": 33,
   "metadata": {},
   "outputs": [
    {
     "data": {
      "text/plain": [
       "0.04499999999999993"
      ]
     },
     "execution_count": 33,
     "metadata": {},
     "output_type": "execute_result"
    }
   ],
   "source": [
    "IQR = Q3 - Q1\n",
    "IQR"
   ]
  },
  {
   "cell_type": "markdown",
   "metadata": {},
   "source": [
    "# 04실습 \n",
    "\n",
    "다음과 같이 물고기의 크기와 무게에 관련된 데이터가 있다.\n",
    "\n",
    "```\n",
    "data = pd.DataFrame({'length':[18.5, 18.7, 19.1, 19.7, 21.5, 21.7, 21.8, 22. , 23.4, 23.8], \n",
    "                     'weight':[34, 39, 41, 38, 45, 41, 52, 44, 44, 49]})\n",
    "data\n",
    "```"
   ]
  },
  {
   "cell_type": "code",
   "execution_count": 42,
   "metadata": {},
   "outputs": [
    {
     "data": {
      "text/html": [
       "<div>\n",
       "<style scoped>\n",
       "    .dataframe tbody tr th:only-of-type {\n",
       "        vertical-align: middle;\n",
       "    }\n",
       "\n",
       "    .dataframe tbody tr th {\n",
       "        vertical-align: top;\n",
       "    }\n",
       "\n",
       "    .dataframe thead th {\n",
       "        text-align: right;\n",
       "    }\n",
       "</style>\n",
       "<table border=\"1\" class=\"dataframe\">\n",
       "  <thead>\n",
       "    <tr style=\"text-align: right;\">\n",
       "      <th></th>\n",
       "      <th>length</th>\n",
       "      <th>weight</th>\n",
       "    </tr>\n",
       "  </thead>\n",
       "  <tbody>\n",
       "    <tr>\n",
       "      <th>0</th>\n",
       "      <td>18.5</td>\n",
       "      <td>34</td>\n",
       "    </tr>\n",
       "    <tr>\n",
       "      <th>1</th>\n",
       "      <td>18.7</td>\n",
       "      <td>39</td>\n",
       "    </tr>\n",
       "    <tr>\n",
       "      <th>2</th>\n",
       "      <td>19.1</td>\n",
       "      <td>41</td>\n",
       "    </tr>\n",
       "    <tr>\n",
       "      <th>3</th>\n",
       "      <td>19.7</td>\n",
       "      <td>38</td>\n",
       "    </tr>\n",
       "    <tr>\n",
       "      <th>4</th>\n",
       "      <td>21.5</td>\n",
       "      <td>45</td>\n",
       "    </tr>\n",
       "    <tr>\n",
       "      <th>5</th>\n",
       "      <td>21.7</td>\n",
       "      <td>41</td>\n",
       "    </tr>\n",
       "    <tr>\n",
       "      <th>6</th>\n",
       "      <td>21.8</td>\n",
       "      <td>52</td>\n",
       "    </tr>\n",
       "    <tr>\n",
       "      <th>7</th>\n",
       "      <td>22.0</td>\n",
       "      <td>44</td>\n",
       "    </tr>\n",
       "    <tr>\n",
       "      <th>8</th>\n",
       "      <td>23.4</td>\n",
       "      <td>44</td>\n",
       "    </tr>\n",
       "    <tr>\n",
       "      <th>9</th>\n",
       "      <td>23.8</td>\n",
       "      <td>49</td>\n",
       "    </tr>\n",
       "  </tbody>\n",
       "</table>\n",
       "</div>"
      ],
      "text/plain": [
       "   length  weight\n",
       "0    18.5      34\n",
       "1    18.7      39\n",
       "2    19.1      41\n",
       "3    19.7      38\n",
       "4    21.5      45\n",
       "5    21.7      41\n",
       "6    21.8      52\n",
       "7    22.0      44\n",
       "8    23.4      44\n",
       "9    23.8      49"
      ]
     },
     "execution_count": 42,
     "metadata": {},
     "output_type": "execute_result"
    }
   ],
   "source": [
    "data = pd.DataFrame({'length':[18.5, 18.7, 19.1, 19.7, 21.5, 21.7, 21.8, 22. , 23.4, 23.8], \n",
    "                     'weight':[34, 39, 41, 38, 45, 41, 52, 44, 44, 49]})\n",
    "data"
   ]
  },
  {
   "cell_type": "markdown",
   "metadata": {},
   "source": [
    "1. 물고기 데이터에서 length와 weight 간의 공분산을 구하시오."
   ]
  },
  {
   "cell_type": "code",
   "execution_count": 43,
   "metadata": {},
   "outputs": [
    {
     "data": {
      "text/plain": [
       "array([[ 3.64622222,  7.67333333],\n",
       "       [ 7.67333333, 28.01111111]])"
      ]
     },
     "execution_count": 43,
     "metadata": {},
     "output_type": "execute_result"
    }
   ],
   "source": [
    "np.cov(data.length, data.weight)"
   ]
  },
  {
   "cell_type": "code",
   "execution_count": 45,
   "metadata": {},
   "outputs": [
    {
     "data": {
      "text/html": [
       "<div>\n",
       "<style scoped>\n",
       "    .dataframe tbody tr th:only-of-type {\n",
       "        vertical-align: middle;\n",
       "    }\n",
       "\n",
       "    .dataframe tbody tr th {\n",
       "        vertical-align: top;\n",
       "    }\n",
       "\n",
       "    .dataframe thead th {\n",
       "        text-align: right;\n",
       "    }\n",
       "</style>\n",
       "<table border=\"1\" class=\"dataframe\">\n",
       "  <thead>\n",
       "    <tr style=\"text-align: right;\">\n",
       "      <th></th>\n",
       "      <th>length</th>\n",
       "      <th>weight</th>\n",
       "    </tr>\n",
       "  </thead>\n",
       "  <tbody>\n",
       "    <tr>\n",
       "      <th>length</th>\n",
       "      <td>3.646222</td>\n",
       "      <td>7.673333</td>\n",
       "    </tr>\n",
       "    <tr>\n",
       "      <th>weight</th>\n",
       "      <td>7.673333</td>\n",
       "      <td>28.011111</td>\n",
       "    </tr>\n",
       "  </tbody>\n",
       "</table>\n",
       "</div>"
      ],
      "text/plain": [
       "          length     weight\n",
       "length  3.646222   7.673333\n",
       "weight  7.673333  28.011111"
      ]
     },
     "execution_count": 45,
     "metadata": {},
     "output_type": "execute_result"
    }
   ],
   "source": [
    "data.cov()"
   ]
  },
  {
   "cell_type": "markdown",
   "metadata": {},
   "source": [
    "2. 물고기 데이터에서  length와 weight 간의 상관계수를 구하시오."
   ]
  },
  {
   "cell_type": "code",
   "execution_count": 46,
   "metadata": {},
   "outputs": [
    {
     "data": {
      "text/plain": [
       "array([[1.       , 0.7592719],\n",
       "       [0.7592719, 1.       ]])"
      ]
     },
     "execution_count": 46,
     "metadata": {},
     "output_type": "execute_result"
    }
   ],
   "source": [
    "np.corrcoef(data.length, data.weight)"
   ]
  },
  {
   "cell_type": "code",
   "execution_count": 47,
   "metadata": {},
   "outputs": [
    {
     "data": {
      "text/html": [
       "<div>\n",
       "<style scoped>\n",
       "    .dataframe tbody tr th:only-of-type {\n",
       "        vertical-align: middle;\n",
       "    }\n",
       "\n",
       "    .dataframe tbody tr th {\n",
       "        vertical-align: top;\n",
       "    }\n",
       "\n",
       "    .dataframe thead th {\n",
       "        text-align: right;\n",
       "    }\n",
       "</style>\n",
       "<table border=\"1\" class=\"dataframe\">\n",
       "  <thead>\n",
       "    <tr style=\"text-align: right;\">\n",
       "      <th></th>\n",
       "      <th>length</th>\n",
       "      <th>weight</th>\n",
       "    </tr>\n",
       "  </thead>\n",
       "  <tbody>\n",
       "    <tr>\n",
       "      <th>length</th>\n",
       "      <td>1.000000</td>\n",
       "      <td>0.759272</td>\n",
       "    </tr>\n",
       "    <tr>\n",
       "      <th>weight</th>\n",
       "      <td>0.759272</td>\n",
       "      <td>1.000000</td>\n",
       "    </tr>\n",
       "  </tbody>\n",
       "</table>\n",
       "</div>"
      ],
      "text/plain": [
       "          length    weight\n",
       "length  1.000000  0.759272\n",
       "weight  0.759272  1.000000"
      ]
     },
     "execution_count": 47,
     "metadata": {},
     "output_type": "execute_result"
    }
   ],
   "source": [
    "data.corr()"
   ]
  },
  {
   "cell_type": "markdown",
   "metadata": {},
   "source": [
    "# 06.실습\n",
    "\n"
   ]
  },
  {
   "cell_type": "markdown",
   "metadata": {},
   "source": [
    "1. 10개의 제비중에 4개의 당첨 제비가 포함되어 있다. 이 중 3개의 제비를 임의로 뽑을 때 다음을 구하시오.\n",
    "\n",
    "    1) 3개 모두가 당첨 제비가 아닐 확률은?  \n",
    "    2) 적어도 1개 이상이 제비일 확률은?"
   ]
  },
  {
   "cell_type": "code",
   "execution_count": 15,
   "metadata": {},
   "outputs": [],
   "source": [
    "from itertools import combinations\n",
    "\n",
    "lottery = list(combinations([1,1,1,1,0,0,0,0,0,0], 3))\n",
    "N = len(list(lottery))"
   ]
  },
  {
   "cell_type": "code",
   "execution_count": 16,
   "metadata": {},
   "outputs": [
    {
     "data": {
      "text/plain": [
       "[(1, 1, 1),\n",
       " (1, 1, 1),\n",
       " (1, 1, 0),\n",
       " (1, 1, 0),\n",
       " (1, 1, 0),\n",
       " (1, 1, 0),\n",
       " (1, 1, 0),\n",
       " (1, 1, 0),\n",
       " (1, 1, 1),\n",
       " (1, 1, 0),\n",
       " (1, 1, 0),\n",
       " (1, 1, 0),\n",
       " (1, 1, 0),\n",
       " (1, 1, 0),\n",
       " (1, 1, 0),\n",
       " (1, 1, 0),\n",
       " (1, 1, 0),\n",
       " (1, 1, 0),\n",
       " (1, 1, 0),\n",
       " (1, 1, 0),\n",
       " (1, 1, 0),\n",
       " (1, 0, 0),\n",
       " (1, 0, 0),\n",
       " (1, 0, 0),\n",
       " (1, 0, 0),\n",
       " (1, 0, 0),\n",
       " (1, 0, 0),\n",
       " (1, 0, 0),\n",
       " (1, 0, 0),\n",
       " (1, 0, 0),\n",
       " (1, 0, 0),\n",
       " (1, 0, 0),\n",
       " (1, 0, 0),\n",
       " (1, 0, 0),\n",
       " (1, 0, 0),\n",
       " (1, 0, 0),\n",
       " (1, 1, 1),\n",
       " (1, 1, 0),\n",
       " (1, 1, 0),\n",
       " (1, 1, 0),\n",
       " (1, 1, 0),\n",
       " (1, 1, 0),\n",
       " (1, 1, 0),\n",
       " (1, 1, 0),\n",
       " (1, 1, 0),\n",
       " (1, 1, 0),\n",
       " (1, 1, 0),\n",
       " (1, 1, 0),\n",
       " (1, 1, 0),\n",
       " (1, 0, 0),\n",
       " (1, 0, 0),\n",
       " (1, 0, 0),\n",
       " (1, 0, 0),\n",
       " (1, 0, 0),\n",
       " (1, 0, 0),\n",
       " (1, 0, 0),\n",
       " (1, 0, 0),\n",
       " (1, 0, 0),\n",
       " (1, 0, 0),\n",
       " (1, 0, 0),\n",
       " (1, 0, 0),\n",
       " (1, 0, 0),\n",
       " (1, 0, 0),\n",
       " (1, 0, 0),\n",
       " (1, 1, 0),\n",
       " (1, 1, 0),\n",
       " (1, 1, 0),\n",
       " (1, 1, 0),\n",
       " (1, 1, 0),\n",
       " (1, 1, 0),\n",
       " (1, 0, 0),\n",
       " (1, 0, 0),\n",
       " (1, 0, 0),\n",
       " (1, 0, 0),\n",
       " (1, 0, 0),\n",
       " (1, 0, 0),\n",
       " (1, 0, 0),\n",
       " (1, 0, 0),\n",
       " (1, 0, 0),\n",
       " (1, 0, 0),\n",
       " (1, 0, 0),\n",
       " (1, 0, 0),\n",
       " (1, 0, 0),\n",
       " (1, 0, 0),\n",
       " (1, 0, 0),\n",
       " (1, 0, 0),\n",
       " (1, 0, 0),\n",
       " (1, 0, 0),\n",
       " (1, 0, 0),\n",
       " (1, 0, 0),\n",
       " (1, 0, 0),\n",
       " (1, 0, 0),\n",
       " (1, 0, 0),\n",
       " (1, 0, 0),\n",
       " (1, 0, 0),\n",
       " (1, 0, 0),\n",
       " (1, 0, 0),\n",
       " (1, 0, 0),\n",
       " (1, 0, 0),\n",
       " (1, 0, 0),\n",
       " (0, 0, 0),\n",
       " (0, 0, 0),\n",
       " (0, 0, 0),\n",
       " (0, 0, 0),\n",
       " (0, 0, 0),\n",
       " (0, 0, 0),\n",
       " (0, 0, 0),\n",
       " (0, 0, 0),\n",
       " (0, 0, 0),\n",
       " (0, 0, 0),\n",
       " (0, 0, 0),\n",
       " (0, 0, 0),\n",
       " (0, 0, 0),\n",
       " (0, 0, 0),\n",
       " (0, 0, 0),\n",
       " (0, 0, 0),\n",
       " (0, 0, 0),\n",
       " (0, 0, 0),\n",
       " (0, 0, 0),\n",
       " (0, 0, 0)]"
      ]
     },
     "execution_count": 16,
     "metadata": {},
     "output_type": "execute_result"
    }
   ],
   "source": [
    "lottery"
   ]
  },
  {
   "cell_type": "code",
   "execution_count": 46,
   "metadata": {},
   "outputs": [
    {
     "name": "stdout",
     "output_type": "stream",
     "text": [
      "3개 모두가 당첨 제비가 아닐 확률 =  0.16666666666666666\n"
     ]
    }
   ],
   "source": [
    "wins = 0\n",
    "\n",
    "for i in lottery:\n",
    "    if (i.count(0) == 3):\n",
    "        wins += 1\n",
    "\n",
    "print('3개 모두가 당첨 제비가 아닐 확률 = ', wins/N)"
   ]
  },
  {
   "cell_type": "code",
   "execution_count": 45,
   "metadata": {},
   "outputs": [
    {
     "name": "stdout",
     "output_type": "stream",
     "text": [
      "적어도 1개 이상이 제비일 확률 =  0.8333333333333334\n"
     ]
    }
   ],
   "source": [
    "wins = 0\n",
    "\n",
    "for i in lottery:\n",
    "    if (i.count(1) == 1) or (i.count(1) == 2) or (i.count(1) == 3):\n",
    "        wins += 1\n",
    "\n",
    "print('적어도 1개 이상이 제비일 확률 = ', wins/N)"
   ]
  },
  {
   "cell_type": "code",
   "execution_count": 43,
   "metadata": {},
   "outputs": [
    {
     "data": {
      "text/plain": [
       "0.8333333333333334"
      ]
     },
     "execution_count": 43,
     "metadata": {},
     "output_type": "execute_result"
    }
   ],
   "source": [
    "1-(20/120)"
   ]
  },
  {
   "cell_type": "markdown",
   "metadata": {},
   "source": [
    "# 07 실습\n",
    "\n",
    "1. 조건부 확률을 이용하여 다음 확률을 계산해 보자.  \n",
    "백만명($10^6$)당 5명 꼴로 어떤 질병에 걸린다.  이 병의 진단 키트는 99.99%의 민감도로 질병을 판단한다.(0.01%의 확률로 잘못 판정한다.) A라는 사람이 이 검사에서 양성으로 나왔다면 실제로 이 사람이 이 질병에 걸렸을 확률은 얼마인가?"
   ]
  },
  {
   "cell_type": "code",
   "execution_count": null,
   "metadata": {},
   "outputs": [],
   "source": [
    "p_병 = 0.000005\n",
    "\n",
    "p_가능도 = 0.9999 # 진단 키트의 민감도\n",
    "\n",
    "# p_양성 ==> 병 유무와 관계없이 양성이 나올 확률\n",
    "# p_양성 = 병에 걸려서 양성 + 병에 안걸렸는데 양성\n",
    "p_양성 = 0.000005 * 0.9999 + (1-0.000005)*0.0001\n",
    "\n",
    "p_병_양성 = (0.9999 * 0.000005) / p_양성\n",
    "\n",
    "p_병_양성\n"
   ]
  },
  {
   "cell_type": "markdown",
   "metadata": {
    "id": "gBnTfXXf5M8d"
   },
   "source": [
    "# 10실습\n",
    "\n",
    "1. 복권의 당첨률이 30% 라고 한다. 복권을 8장 구입했다. 이항분포로 다음의 확률을 구하시오.\n",
    "    - 4장이 당첨될 확률은? ($P=4$)\n",
    "    - 3장에서 7장 당첨될 확률은? ( $P(3\\le X \\le 7$ )\n",
    "    - 6장 이상 당첨될 확률은? ( $P \\ge 6$ )"
   ]
  },
  {
   "cell_type": "code",
   "execution_count": 38,
   "metadata": {},
   "outputs": [
    {
     "data": {
      "text/plain": [
       "(0.1361367, 0.44816058000000014, 0.011292210000000025)"
      ]
     },
     "execution_count": 38,
     "metadata": {},
     "output_type": "execute_result"
    }
   ],
   "source": [
    "rv = stats.binom(8, 0.3)\n",
    "rv.pmf(4), rv.cdf(7)-rv.cdf(2), 1-rv.cdf(5)"
   ]
  },
  {
   "cell_type": "markdown",
   "metadata": {
    "id": "6SPsXU0VVSKX"
   },
   "source": [
    "# 11실습\n",
    "\n",
    "1. 확률변수 X가 평균이 70, 표준편차가 10인 정규분포를 따를때 다음의 확률을 구하시오.\n",
    "    \n",
    "    - P(X < 94.3)\n",
    "    - P(X > 57.5)\n",
    "    - P(57.7 < X < 94.3)"
   ]
  },
  {
   "cell_type": "code",
   "execution_count": 35,
   "metadata": {},
   "outputs": [
    {
     "data": {
      "text/plain": [
       "(0.9924505885836908, 0.8943502263331446, 0.8868008149168355)"
      ]
     },
     "execution_count": 35,
     "metadata": {},
     "output_type": "execute_result"
    }
   ],
   "source": [
    "rv = stats.norm(loc = 70, scale=10)\n",
    "\n",
    "rv.cdf(94.3), 1-rv.cdf(57.5), rv.cdf(94.3)-rv.cdf(57.5)"
   ]
  },
  {
   "cell_type": "markdown",
   "metadata": {
    "id": "hnpBsS0IY9rD"
   },
   "source": [
    "# 14실습\n",
    "\n",
    "1. 다음과 같은 물고기 10마리의 크기에 대한 표본 데이터가 있다. \n",
    "\n",
    "    - 물고기 크기의 표본평균과 분산, 표준편차를 구하시오.\n",
    "    - 물고기 크기의 모평균의 점추정값을 구하시오.\n",
    "    - 물고기 크기의 모평균에 대하여 신뢰수준 95% 신뢰구간을 구하시오.\n",
    "    \n",
    "    \n",
    "```\n",
    "data = pd.Series([4.353, 3.735, 5.945, 3.798, 4.088, 5.266, 3.273, 3.527, 4.15 ,3.736])\n",
    "\n",
    "data\n",
    "```"
   ]
  },
  {
   "cell_type": "code",
   "execution_count": 15,
   "metadata": {},
   "outputs": [
    {
     "data": {
      "text/plain": [
       "0    4.353\n",
       "1    3.735\n",
       "2    5.945\n",
       "3    3.798\n",
       "4    4.088\n",
       "5    5.266\n",
       "6    3.273\n",
       "7    3.527\n",
       "8    4.150\n",
       "9    3.736\n",
       "dtype: float64"
      ]
     },
     "execution_count": 15,
     "metadata": {},
     "output_type": "execute_result"
    }
   ],
   "source": [
    "data = pd.Series([4.353, 3.735, 5.945, 3.798, 4.088, 5.266, 3.273, 3.527, 4.15 ,3.736])\n",
    "\n",
    "data"
   ]
  },
  {
   "cell_type": "code",
   "execution_count": 19,
   "metadata": {},
   "outputs": [
    {
     "data": {
      "text/plain": [
       "(4.187099999999999, 0.6803947666666669, 0.8248604528443989)"
      ]
     },
     "execution_count": 19,
     "metadata": {},
     "output_type": "execute_result"
    }
   ],
   "source": [
    "data.mean(), data.var(), data.std()"
   ]
  },
  {
   "cell_type": "code",
   "execution_count": 20,
   "metadata": {},
   "outputs": [
    {
     "data": {
      "text/plain": [
       "4.187099999999999"
      ]
     },
     "execution_count": 20,
     "metadata": {},
     "output_type": "execute_result"
    }
   ],
   "source": [
    "data.mean()"
   ]
  },
  {
   "cell_type": "code",
   "execution_count": 29,
   "metadata": {},
   "outputs": [
    {
     "data": {
      "text/plain": [
       "(3.5970303786105924, 4.777169621389406)"
      ]
     },
     "execution_count": 29,
     "metadata": {},
     "output_type": "execute_result"
    }
   ],
   "source": [
    "import numpy as np\n",
    "n = len(data)\n",
    "s_mean = data.mean()\n",
    "u_var = data.var(ddof=1)\n",
    "stats.t.interval(alpha=0.95, df=n-1, loc=s_mean, scale=np.sqrt(u_var/n))"
   ]
  },
  {
   "cell_type": "markdown",
   "metadata": {},
   "source": [
    "# 15실습\n",
    "\n",
    "1. 다음과 같은 과자 무게 데이터가 있다.\n",
    "\n",
    "    * 과자 무게의 평균을 구하시오.\n",
    "    * \"과자의 평균 무게는 50g이다\"라는 귀무가설을 유의수준 5%에서 검정하시오.(stats.ttest_1samp 함수를 사용하시오)\n",
    "\n",
    "```\n",
    "data = pd.Series([58.53 , 52.353, 74.446, 52.983, 55.877, 67.66 , 47.726, 50.267,\n",
    "       56.501, 52.361, 45.458, 53.361, 52.129, 59.828, 41.682, 49.399,\n",
    "       64.211, 69.859, 42.911, 60.159])\n",
    "       \n",
    "data\n",
    "```\n",
    "\n",
    "    "
   ]
  },
  {
   "cell_type": "code",
   "execution_count": 12,
   "metadata": {},
   "outputs": [
    {
     "data": {
      "text/plain": [
       "0     58.530\n",
       "1     52.353\n",
       "2     74.446\n",
       "3     52.983\n",
       "4     55.877\n",
       "5     67.660\n",
       "6     47.726\n",
       "7     50.267\n",
       "8     56.501\n",
       "9     52.361\n",
       "10    45.458\n",
       "11    53.361\n",
       "12    52.129\n",
       "13    59.828\n",
       "14    41.682\n",
       "15    49.399\n",
       "16    64.211\n",
       "17    69.859\n",
       "18    42.911\n",
       "19    60.159\n",
       "dtype: float64"
      ]
     },
     "execution_count": 12,
     "metadata": {},
     "output_type": "execute_result"
    }
   ],
   "source": [
    "data = pd.Series([58.53 , 52.353, 74.446, 52.983, 55.877, 67.66 , 47.726, 50.267,\n",
    "       56.501, 52.361, 45.458, 53.361, 52.129, 59.828, 41.682, 49.399,\n",
    "       64.211, 69.859, 42.911, 60.159])\n",
    "\n",
    "data\n"
   ]
  },
  {
   "cell_type": "code",
   "execution_count": 13,
   "metadata": {},
   "outputs": [
    {
     "data": {
      "text/plain": [
       "55.385050000000014"
      ]
     },
     "execution_count": 13,
     "metadata": {},
     "output_type": "execute_result"
    }
   ],
   "source": [
    "data.mean()"
   ]
  },
  {
   "cell_type": "code",
   "execution_count": 14,
   "metadata": {},
   "outputs": [
    {
     "data": {
      "text/plain": [
       "Ttest_1sampResult(statistic=2.7503924976265512, pvalue=0.01272413288213529)"
      ]
     },
     "execution_count": 14,
     "metadata": {},
     "output_type": "execute_result"
    }
   ],
   "source": [
    "stats.ttest_1samp(data, 50)"
   ]
  },
  {
   "cell_type": "markdown",
   "metadata": {},
   "source": [
    "# 16실습\n",
    "\n",
    "1. 다음과 같은 데이터가 있다. 특정약을 복용하기 전/후의 체온이 차이가 있는지 검정해 보자.\n",
    "\n",
    "```\n",
    "data = pd.DataFrame({'medicine':['before', 'before', 'before', 'before', 'before', 'after', 'after','after', 'after', 'after'],\n",
    "                     'body_temperature':[36.2, 36.2, 35.3, 36.1, 36.1, 36.8, 36.1, 36.8, 37.1, 36.9]})\n",
    "                 \n",
    "data                 \n",
    "```\n"
   ]
  },
  {
   "cell_type": "code",
   "execution_count": 9,
   "metadata": {},
   "outputs": [
    {
     "data": {
      "text/html": [
       "<div>\n",
       "<style scoped>\n",
       "    .dataframe tbody tr th:only-of-type {\n",
       "        vertical-align: middle;\n",
       "    }\n",
       "\n",
       "    .dataframe tbody tr th {\n",
       "        vertical-align: top;\n",
       "    }\n",
       "\n",
       "    .dataframe thead th {\n",
       "        text-align: right;\n",
       "    }\n",
       "</style>\n",
       "<table border=\"1\" class=\"dataframe\">\n",
       "  <thead>\n",
       "    <tr style=\"text-align: right;\">\n",
       "      <th></th>\n",
       "      <th>medicine</th>\n",
       "      <th>body_temperature</th>\n",
       "    </tr>\n",
       "  </thead>\n",
       "  <tbody>\n",
       "    <tr>\n",
       "      <th>0</th>\n",
       "      <td>before</td>\n",
       "      <td>36.2</td>\n",
       "    </tr>\n",
       "    <tr>\n",
       "      <th>1</th>\n",
       "      <td>before</td>\n",
       "      <td>36.2</td>\n",
       "    </tr>\n",
       "    <tr>\n",
       "      <th>2</th>\n",
       "      <td>before</td>\n",
       "      <td>35.3</td>\n",
       "    </tr>\n",
       "    <tr>\n",
       "      <th>3</th>\n",
       "      <td>before</td>\n",
       "      <td>36.1</td>\n",
       "    </tr>\n",
       "    <tr>\n",
       "      <th>4</th>\n",
       "      <td>before</td>\n",
       "      <td>36.1</td>\n",
       "    </tr>\n",
       "    <tr>\n",
       "      <th>5</th>\n",
       "      <td>after</td>\n",
       "      <td>36.8</td>\n",
       "    </tr>\n",
       "    <tr>\n",
       "      <th>6</th>\n",
       "      <td>after</td>\n",
       "      <td>36.1</td>\n",
       "    </tr>\n",
       "    <tr>\n",
       "      <th>7</th>\n",
       "      <td>after</td>\n",
       "      <td>36.8</td>\n",
       "    </tr>\n",
       "    <tr>\n",
       "      <th>8</th>\n",
       "      <td>after</td>\n",
       "      <td>37.1</td>\n",
       "    </tr>\n",
       "    <tr>\n",
       "      <th>9</th>\n",
       "      <td>after</td>\n",
       "      <td>36.9</td>\n",
       "    </tr>\n",
       "  </tbody>\n",
       "</table>\n",
       "</div>"
      ],
      "text/plain": [
       "  medicine  body_temperature\n",
       "0   before              36.2\n",
       "1   before              36.2\n",
       "2   before              35.3\n",
       "3   before              36.1\n",
       "4   before              36.1\n",
       "5    after              36.8\n",
       "6    after              36.1\n",
       "7    after              36.8\n",
       "8    after              37.1\n",
       "9    after              36.9"
      ]
     },
     "execution_count": 9,
     "metadata": {},
     "output_type": "execute_result"
    }
   ],
   "source": [
    "data = pd.DataFrame({'medicine':['before', 'before', 'before', 'before', 'before', 'after', 'after','after', 'after', 'after'],\n",
    "                     'body_temperature':[36.2, 36.2, 35.3, 36.1, 36.1, 36.8, 36.1, 36.8, 37.1, 36.9]})\n",
    "\n",
    "data"
   ]
  },
  {
   "cell_type": "code",
   "execution_count": 11,
   "metadata": {},
   "outputs": [
    {
     "data": {
      "text/plain": [
       "Ttest_relResult(statistic=2.901693483620596, pvalue=0.044043109730074276)"
      ]
     },
     "execution_count": 11,
     "metadata": {},
     "output_type": "execute_result"
    }
   ],
   "source": [
    "before = data[data.medicine=='before'].body_temperature\n",
    "after = data[data.medicine=='after'].body_temperature\n",
    "\n",
    "stats.ttest_rel(after, before)"
   ]
  },
  {
   "cell_type": "markdown",
   "metadata": {},
   "source": [
    "# 17.실습\n",
    "\n",
    "1. 다음과 같은 데이터가 있다. 버튼의 클릭률이 버튼색에 따라 달라지는지 검정해 보자. \n",
    "\n",
    "```\n",
    "data = pd.DataFrame({'color':['blue', 'blue', 'red', 'red'],\n",
    "                     'click':['click', 'not', 'click', 'not'],\n",
    "                     'freq':[ 20, 230,  10,  40]})\n",
    "data             \n",
    "```\n",
    "\n",
    "- pd.crosstab()을 사용하여 교차표를 만드시오.\n",
    "- scipy.stats.chi2_countigency 함수를 사용하여 카이제곱 검정을 시행하시오."
   ]
  },
  {
   "cell_type": "code",
   "execution_count": 1,
   "metadata": {},
   "outputs": [],
   "source": [
    "from scipy import stats"
   ]
  },
  {
   "cell_type": "code",
   "execution_count": 2,
   "metadata": {},
   "outputs": [
    {
     "data": {
      "text/html": [
       "<div>\n",
       "<style scoped>\n",
       "    .dataframe tbody tr th:only-of-type {\n",
       "        vertical-align: middle;\n",
       "    }\n",
       "\n",
       "    .dataframe tbody tr th {\n",
       "        vertical-align: top;\n",
       "    }\n",
       "\n",
       "    .dataframe thead th {\n",
       "        text-align: right;\n",
       "    }\n",
       "</style>\n",
       "<table border=\"1\" class=\"dataframe\">\n",
       "  <thead>\n",
       "    <tr style=\"text-align: right;\">\n",
       "      <th></th>\n",
       "      <th>color</th>\n",
       "      <th>click</th>\n",
       "      <th>freq</th>\n",
       "    </tr>\n",
       "  </thead>\n",
       "  <tbody>\n",
       "    <tr>\n",
       "      <th>0</th>\n",
       "      <td>blue</td>\n",
       "      <td>click</td>\n",
       "      <td>20</td>\n",
       "    </tr>\n",
       "    <tr>\n",
       "      <th>1</th>\n",
       "      <td>blue</td>\n",
       "      <td>not</td>\n",
       "      <td>230</td>\n",
       "    </tr>\n",
       "    <tr>\n",
       "      <th>2</th>\n",
       "      <td>red</td>\n",
       "      <td>click</td>\n",
       "      <td>10</td>\n",
       "    </tr>\n",
       "    <tr>\n",
       "      <th>3</th>\n",
       "      <td>red</td>\n",
       "      <td>not</td>\n",
       "      <td>40</td>\n",
       "    </tr>\n",
       "  </tbody>\n",
       "</table>\n",
       "</div>"
      ],
      "text/plain": [
       "  color  click  freq\n",
       "0  blue  click    20\n",
       "1  blue    not   230\n",
       "2   red  click    10\n",
       "3   red    not    40"
      ]
     },
     "execution_count": 2,
     "metadata": {},
     "output_type": "execute_result"
    }
   ],
   "source": [
    "import pandas as pd\n",
    "\n",
    "data = pd.DataFrame({'color':['blue', 'blue', 'red', 'red'],\n",
    "                     'click':['click', 'not', 'click', 'not'],\n",
    "                     'freq':[ 20, 230,  10,  40]})\n",
    "data             \n",
    "\n"
   ]
  },
  {
   "cell_type": "code",
   "execution_count": 3,
   "metadata": {},
   "outputs": [],
   "source": [
    "cross = pd.crosstab(data.color,data.click,data.freq, aggfunc='sum')"
   ]
  },
  {
   "cell_type": "code",
   "execution_count": 6,
   "metadata": {},
   "outputs": [
    {
     "data": {
      "text/html": [
       "<div>\n",
       "<style scoped>\n",
       "    .dataframe tbody tr th:only-of-type {\n",
       "        vertical-align: middle;\n",
       "    }\n",
       "\n",
       "    .dataframe tbody tr th {\n",
       "        vertical-align: top;\n",
       "    }\n",
       "\n",
       "    .dataframe thead th {\n",
       "        text-align: right;\n",
       "    }\n",
       "</style>\n",
       "<table border=\"1\" class=\"dataframe\">\n",
       "  <thead>\n",
       "    <tr style=\"text-align: right;\">\n",
       "      <th>click</th>\n",
       "      <th>click</th>\n",
       "      <th>not</th>\n",
       "    </tr>\n",
       "    <tr>\n",
       "      <th>color</th>\n",
       "      <th></th>\n",
       "      <th></th>\n",
       "    </tr>\n",
       "  </thead>\n",
       "  <tbody>\n",
       "    <tr>\n",
       "      <th>blue</th>\n",
       "      <td>20</td>\n",
       "      <td>230</td>\n",
       "    </tr>\n",
       "    <tr>\n",
       "      <th>red</th>\n",
       "      <td>10</td>\n",
       "      <td>40</td>\n",
       "    </tr>\n",
       "  </tbody>\n",
       "</table>\n",
       "</div>"
      ],
      "text/plain": [
       "click  click  not\n",
       "color            \n",
       "blue      20  230\n",
       "red       10   40"
      ]
     },
     "execution_count": 6,
     "metadata": {},
     "output_type": "execute_result"
    }
   ],
   "source": [
    "cross"
   ]
  },
  {
   "cell_type": "code",
   "execution_count": 7,
   "metadata": {},
   "outputs": [
    {
     "data": {
      "text/plain": [
       "(6.666666666666666,\n",
       " 0.009823274507519247,\n",
       " 1,\n",
       " array([[ 25., 225.],\n",
       "        [  5.,  45.]]))"
      ]
     },
     "execution_count": 7,
     "metadata": {},
     "output_type": "execute_result"
    }
   ],
   "source": [
    "from scipy import stats\n",
    "\n",
    "stats.chi2_contingency(cross, correction=False)"
   ]
  },
  {
   "cell_type": "code",
   "execution_count": null,
   "metadata": {},
   "outputs": [],
   "source": []
  }
 ],
 "metadata": {
  "kernelspec": {
   "display_name": "Python 3",
   "language": "python",
   "name": "python3"
  },
  "language_info": {
   "codemirror_mode": {
    "name": "ipython",
    "version": 3
   },
   "file_extension": ".py",
   "mimetype": "text/x-python",
   "name": "python",
   "nbconvert_exporter": "python",
   "pygments_lexer": "ipython3",
   "version": "3.9.5"
  }
 },
 "nbformat": 4,
 "nbformat_minor": 4
}

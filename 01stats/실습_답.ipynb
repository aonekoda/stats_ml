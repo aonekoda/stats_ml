{
  "nbformat": 4,
  "nbformat_minor": 0,
  "metadata": {
    "kernelspec": {
      "display_name": "Python 3",
      "language": "python",
      "name": "python3"
    },
    "language_info": {
      "codemirror_mode": {
        "name": "ipython",
        "version": 3
      },
      "file_extension": ".py",
      "mimetype": "text/x-python",
      "name": "python",
      "nbconvert_exporter": "python",
      "pygments_lexer": "ipython3",
      "version": "3.9.5"
    },
    "colab": {
      "name": "실습_답.ipynb",
      "provenance": []
    }
  },
  "cells": [
    {
      "cell_type": "markdown",
      "metadata": {
        "id": "T9HE7H1992v3"
      },
      "source": [
        "## 01실습\n",
        "\n",
        "다음의 ages를 bins의 구간으로 나누어 보세요. (hint. pd.cut()을 사용하세요.)\n",
        "```\n",
        "ages = [20, 22, 25, 27, 21, 23, 37, 31, 61, 45, 41, 32]\n",
        "bins = [18, 25, 35, 60, 100]\n",
        "\n",
        "```\n"
      ]
    },
    {
      "cell_type": "code",
      "metadata": {
        "id": "BEEG9p2MAEOW",
        "outputId": "a40b5445-6907-493a-ff36-f8afabb6c27b"
      },
      "source": [
        "import pandas as pd\n",
        "\n",
        "ages = [20, 22, 25, 27, 21, 23, 37, 31, 61, 45, 41, 32]\n",
        "bins = [18, 25, 35, 60, 100]\n",
        "\n",
        "pd.cut(ages, bins)"
      ],
      "execution_count": null,
      "outputs": [
        {
          "output_type": "execute_result",
          "data": {
            "text/plain": [
              "[(18, 25], (18, 25], (18, 25], (25, 35], (18, 25], ..., (25, 35], (60, 100], (35, 60], (35, 60], (25, 35]]\n",
              "Length: 12\n",
              "Categories (4, interval[int64]): [(18, 25] < (25, 35] < (35, 60] < (60, 100]]"
            ]
          },
          "metadata": {
            "tags": []
          },
          "execution_count": 7
        }
      ]
    },
    {
      "cell_type": "markdown",
      "metadata": {
        "id": "aTtOpJ686OwM"
      },
      "source": [
        "# 02실습\n",
        "\n",
        "다음과 같은 물고기의 크기와 관련된 데이터가 있다. \n",
        "\n",
        "```\n",
        "fish_data = np.array([2,3,3,4,4,4,4,5,5,6])\n",
        "fish_data\n",
        "```\n",
        "\n"
      ]
    },
    {
      "cell_type": "code",
      "metadata": {
        "id": "4TBI3gaVAEOY",
        "outputId": "48984a5f-1085-49f8-82fa-f1993906e39f"
      },
      "source": [
        "import numpy as np\n",
        "fish_data = np.array([2,3,3,4,4,4,4,5,5,6])\n",
        "fish_data"
      ],
      "execution_count": null,
      "outputs": [
        {
          "output_type": "execute_result",
          "data": {
            "text/plain": [
              "array([2, 3, 3, 4, 4, 4, 4, 5, 5, 6])"
            ]
          },
          "metadata": {
            "tags": []
          },
          "execution_count": 9
        }
      ]
    },
    {
      "cell_type": "markdown",
      "metadata": {
        "id": "9177QlzsAEOZ"
      },
      "source": [
        "1. fish_data의 합계와 fish_data의 사이즈를 구하시오. (np.sum(), len()) "
      ]
    },
    {
      "cell_type": "code",
      "metadata": {
        "id": "vJDghnKGAEOZ",
        "outputId": "c23ff92e-10cd-43f9-c11e-3ee30dc1c661"
      },
      "source": [
        "np.sum(fish_data), len(fish_data)"
      ],
      "execution_count": null,
      "outputs": [
        {
          "output_type": "execute_result",
          "data": {
            "text/plain": [
              "(40, 10)"
            ]
          },
          "metadata": {
            "tags": []
          },
          "execution_count": 10
        }
      ]
    },
    {
      "cell_type": "markdown",
      "metadata": {
        "id": "RiM8pcZ3AEOa"
      },
      "source": [
        "2. fish_data 의 평균을 구하시오."
      ]
    },
    {
      "cell_type": "code",
      "metadata": {
        "id": "ZXIkEhdQAEOa",
        "outputId": "a392ae85-0946-43ce-e24c-87a6e36f5903"
      },
      "source": [
        "np.sum(fish_data)/len(fish_data), np.mean(fish_data)"
      ],
      "execution_count": null,
      "outputs": [
        {
          "output_type": "execute_result",
          "data": {
            "text/plain": [
              "(4.0, 4.0)"
            ]
          },
          "metadata": {
            "tags": []
          },
          "execution_count": 11
        }
      ]
    },
    {
      "cell_type": "markdown",
      "metadata": {
        "id": "6n7Y1D_6AEOa"
      },
      "source": [
        "3. fish_data의 중위수(중앙값)을 구하시오."
      ]
    },
    {
      "cell_type": "code",
      "metadata": {
        "id": "B4i_udNQAEOa",
        "outputId": "71b3a986-8436-497d-efd0-a113098c0dde"
      },
      "source": [
        "np.median(fish_data)"
      ],
      "execution_count": null,
      "outputs": [
        {
          "output_type": "execute_result",
          "data": {
            "text/plain": [
              "4.0"
            ]
          },
          "metadata": {
            "tags": []
          },
          "execution_count": 12
        }
      ]
    },
    {
      "cell_type": "markdown",
      "metadata": {
        "id": "Bq_-p-_jAEOb"
      },
      "source": [
        "4. fish_data 의 최빈값을 구하시오."
      ]
    },
    {
      "cell_type": "code",
      "metadata": {
        "id": "fW5v-51qAEOc",
        "outputId": "7d32ac7c-ec4c-402d-c800-4daa98ad0349"
      },
      "source": [
        "from scipy import stats\n",
        "stats.mode(fish_data)"
      ],
      "execution_count": null,
      "outputs": [
        {
          "output_type": "execute_result",
          "data": {
            "text/plain": [
              "ModeResult(mode=array([4]), count=array([4]))"
            ]
          },
          "metadata": {
            "tags": []
          },
          "execution_count": 19
        }
      ]
    },
    {
      "cell_type": "code",
      "metadata": {
        "id": "pTUTPlLAAEOc",
        "outputId": "1c66039b-115d-423d-e6fb-44cc901fd1dc"
      },
      "source": [
        "pd.Series(fish_data).mode()"
      ],
      "execution_count": null,
      "outputs": [
        {
          "output_type": "execute_result",
          "data": {
            "text/plain": [
              "0    4\n",
              "dtype: int32"
            ]
          },
          "metadata": {
            "tags": []
          },
          "execution_count": 20
        }
      ]
    },
    {
      "cell_type": "markdown",
      "metadata": {
        "id": "Dtn_tSgGAEOd"
      },
      "source": [
        "# 03실습\n",
        "\n",
        "다음과 같은 물고기의 크기와 관련된 데이터가 있다. \n",
        "\n",
        "```\n",
        "fish_data = np.array([2,3,3,4,4,4,4,5,5,6])\n",
        "fish_data\n",
        "```\n",
        "\n"
      ]
    },
    {
      "cell_type": "code",
      "metadata": {
        "id": "IlwfzlswAEOd",
        "outputId": "595c9c91-8a94-44a5-c60b-d6ab6b5e5e97"
      },
      "source": [
        "fish_data = np.array([2,3,3,4,4,4,4,5,5,6])\n",
        "fish_data"
      ],
      "execution_count": null,
      "outputs": [
        {
          "output_type": "execute_result",
          "data": {
            "text/plain": [
              "array([2, 3, 3, 4, 4, 4, 4, 5, 5, 6])"
            ]
          },
          "metadata": {
            "tags": []
          },
          "execution_count": 21
        }
      ]
    },
    {
      "cell_type": "markdown",
      "metadata": {
        "id": "tOD2c85CAEOd"
      },
      "source": [
        "1. fish_data 의 분산을 구하시오"
      ]
    },
    {
      "cell_type": "code",
      "metadata": {
        "id": "1BxgTq-rAEOe",
        "outputId": "9ce82572-6337-4ccb-e1f4-7eeb56e34b5c"
      },
      "source": [
        "fish_data.var()"
      ],
      "execution_count": null,
      "outputs": [
        {
          "output_type": "execute_result",
          "data": {
            "text/plain": [
              "1.2"
            ]
          },
          "metadata": {
            "tags": []
          },
          "execution_count": 22
        }
      ]
    },
    {
      "cell_type": "markdown",
      "metadata": {
        "id": "NtvR2U3YAEOe"
      },
      "source": [
        "2. fish_data의 불편분산을 구하시오."
      ]
    },
    {
      "cell_type": "code",
      "metadata": {
        "id": "VQyU75LyAEOe",
        "outputId": "1e46efb3-a732-4784-f2bf-4c544ce2dc8b"
      },
      "source": [
        "fish_data.var(ddof=1)"
      ],
      "execution_count": null,
      "outputs": [
        {
          "output_type": "execute_result",
          "data": {
            "text/plain": [
              "1.3333333333333333"
            ]
          },
          "metadata": {
            "tags": []
          },
          "execution_count": 23
        }
      ]
    },
    {
      "cell_type": "markdown",
      "metadata": {
        "id": "ryr4IOwZAEOf"
      },
      "source": [
        "3. fish_data의 표준편차를 구하시오."
      ]
    },
    {
      "cell_type": "code",
      "metadata": {
        "id": "a31Xp_KHAEOf",
        "outputId": "7b74e9e5-cccc-4cab-dc0d-617d474e2b28"
      },
      "source": [
        "fish_data.std()"
      ],
      "execution_count": null,
      "outputs": [
        {
          "output_type": "execute_result",
          "data": {
            "text/plain": [
              "1.0954451150103321"
            ]
          },
          "metadata": {
            "tags": []
          },
          "execution_count": 24
        }
      ]
    },
    {
      "cell_type": "markdown",
      "metadata": {
        "id": "VS_qW2D1AEOf"
      },
      "source": [
        "4. fish_data의 사분위수를 구하시오."
      ]
    },
    {
      "cell_type": "code",
      "metadata": {
        "id": "XgEt8udPAEOf",
        "outputId": "08e361b5-ea54-4699-d6a0-6492e6735e9b"
      },
      "source": [
        "Q1,Q2,Q3 = np.percentile(fish_data, [0.25, 0.5, 0.75])\n",
        "print(Q1, Q2, Q3)"
      ],
      "execution_count": null,
      "outputs": [
        {
          "output_type": "stream",
          "text": [
            "2.0225 2.045 2.0675\n"
          ],
          "name": "stdout"
        }
      ]
    },
    {
      "cell_type": "markdown",
      "metadata": {
        "id": "kv_q8AL_AEOg"
      },
      "source": [
        "5. fish_data의 IQR값을 구하시오."
      ]
    },
    {
      "cell_type": "code",
      "metadata": {
        "id": "euXG5EisAEOg",
        "outputId": "19d13778-5569-4d66-b599-eb3d7081d613"
      },
      "source": [
        "IQR = Q3 - Q1\n",
        "IQR"
      ],
      "execution_count": null,
      "outputs": [
        {
          "output_type": "execute_result",
          "data": {
            "text/plain": [
              "0.04499999999999993"
            ]
          },
          "metadata": {
            "tags": []
          },
          "execution_count": 33
        }
      ]
    },
    {
      "cell_type": "markdown",
      "metadata": {
        "id": "FN2RLvRCAEOg"
      },
      "source": [
        "# 04실습 \n",
        "\n",
        "다음과 같이 물고기의 크기와 무게에 관련된 데이터가 있다.\n",
        "\n",
        "```\n",
        "data = pd.DataFrame({'length':[18.5, 18.7, 19.1, 19.7, 21.5, 21.7, 21.8, 22. , 23.4, 23.8], \n",
        "                     'weight':[34, 39, 41, 38, 45, 41, 52, 44, 44, 49]})\n",
        "data\n",
        "```"
      ]
    },
    {
      "cell_type": "code",
      "metadata": {
        "id": "GPWW7UFSAEOh",
        "outputId": "31121dd8-a4f9-457e-ae9c-b3df19d760e5"
      },
      "source": [
        "data = pd.DataFrame({'length':[18.5, 18.7, 19.1, 19.7, 21.5, 21.7, 21.8, 22. , 23.4, 23.8], \n",
        "                     'weight':[34, 39, 41, 38, 45, 41, 52, 44, 44, 49]})\n",
        "data"
      ],
      "execution_count": null,
      "outputs": [
        {
          "output_type": "execute_result",
          "data": {
            "text/html": [
              "<div>\n",
              "<style scoped>\n",
              "    .dataframe tbody tr th:only-of-type {\n",
              "        vertical-align: middle;\n",
              "    }\n",
              "\n",
              "    .dataframe tbody tr th {\n",
              "        vertical-align: top;\n",
              "    }\n",
              "\n",
              "    .dataframe thead th {\n",
              "        text-align: right;\n",
              "    }\n",
              "</style>\n",
              "<table border=\"1\" class=\"dataframe\">\n",
              "  <thead>\n",
              "    <tr style=\"text-align: right;\">\n",
              "      <th></th>\n",
              "      <th>length</th>\n",
              "      <th>weight</th>\n",
              "    </tr>\n",
              "  </thead>\n",
              "  <tbody>\n",
              "    <tr>\n",
              "      <th>0</th>\n",
              "      <td>18.5</td>\n",
              "      <td>34</td>\n",
              "    </tr>\n",
              "    <tr>\n",
              "      <th>1</th>\n",
              "      <td>18.7</td>\n",
              "      <td>39</td>\n",
              "    </tr>\n",
              "    <tr>\n",
              "      <th>2</th>\n",
              "      <td>19.1</td>\n",
              "      <td>41</td>\n",
              "    </tr>\n",
              "    <tr>\n",
              "      <th>3</th>\n",
              "      <td>19.7</td>\n",
              "      <td>38</td>\n",
              "    </tr>\n",
              "    <tr>\n",
              "      <th>4</th>\n",
              "      <td>21.5</td>\n",
              "      <td>45</td>\n",
              "    </tr>\n",
              "    <tr>\n",
              "      <th>5</th>\n",
              "      <td>21.7</td>\n",
              "      <td>41</td>\n",
              "    </tr>\n",
              "    <tr>\n",
              "      <th>6</th>\n",
              "      <td>21.8</td>\n",
              "      <td>52</td>\n",
              "    </tr>\n",
              "    <tr>\n",
              "      <th>7</th>\n",
              "      <td>22.0</td>\n",
              "      <td>44</td>\n",
              "    </tr>\n",
              "    <tr>\n",
              "      <th>8</th>\n",
              "      <td>23.4</td>\n",
              "      <td>44</td>\n",
              "    </tr>\n",
              "    <tr>\n",
              "      <th>9</th>\n",
              "      <td>23.8</td>\n",
              "      <td>49</td>\n",
              "    </tr>\n",
              "  </tbody>\n",
              "</table>\n",
              "</div>"
            ],
            "text/plain": [
              "   length  weight\n",
              "0    18.5      34\n",
              "1    18.7      39\n",
              "2    19.1      41\n",
              "3    19.7      38\n",
              "4    21.5      45\n",
              "5    21.7      41\n",
              "6    21.8      52\n",
              "7    22.0      44\n",
              "8    23.4      44\n",
              "9    23.8      49"
            ]
          },
          "metadata": {
            "tags": []
          },
          "execution_count": 42
        }
      ]
    },
    {
      "cell_type": "markdown",
      "metadata": {
        "id": "Kr_zYbasAEOh"
      },
      "source": [
        "1. 물고기 데이터에서 length와 weight 간의 공분산을 구하시오."
      ]
    },
    {
      "cell_type": "code",
      "metadata": {
        "id": "yNqYAsf6AEOh",
        "outputId": "b1dfd780-8e17-4ce9-d03b-b62b664f943d"
      },
      "source": [
        "np.cov(data.length, data.weight)"
      ],
      "execution_count": null,
      "outputs": [
        {
          "output_type": "execute_result",
          "data": {
            "text/plain": [
              "array([[ 3.64622222,  7.67333333],\n",
              "       [ 7.67333333, 28.01111111]])"
            ]
          },
          "metadata": {
            "tags": []
          },
          "execution_count": 43
        }
      ]
    },
    {
      "cell_type": "code",
      "metadata": {
        "id": "GyD3NpZxAEOi",
        "outputId": "ad714ff1-26fe-4fe5-a42b-63fb50ef99de"
      },
      "source": [
        "data.cov()"
      ],
      "execution_count": null,
      "outputs": [
        {
          "output_type": "execute_result",
          "data": {
            "text/html": [
              "<div>\n",
              "<style scoped>\n",
              "    .dataframe tbody tr th:only-of-type {\n",
              "        vertical-align: middle;\n",
              "    }\n",
              "\n",
              "    .dataframe tbody tr th {\n",
              "        vertical-align: top;\n",
              "    }\n",
              "\n",
              "    .dataframe thead th {\n",
              "        text-align: right;\n",
              "    }\n",
              "</style>\n",
              "<table border=\"1\" class=\"dataframe\">\n",
              "  <thead>\n",
              "    <tr style=\"text-align: right;\">\n",
              "      <th></th>\n",
              "      <th>length</th>\n",
              "      <th>weight</th>\n",
              "    </tr>\n",
              "  </thead>\n",
              "  <tbody>\n",
              "    <tr>\n",
              "      <th>length</th>\n",
              "      <td>3.646222</td>\n",
              "      <td>7.673333</td>\n",
              "    </tr>\n",
              "    <tr>\n",
              "      <th>weight</th>\n",
              "      <td>7.673333</td>\n",
              "      <td>28.011111</td>\n",
              "    </tr>\n",
              "  </tbody>\n",
              "</table>\n",
              "</div>"
            ],
            "text/plain": [
              "          length     weight\n",
              "length  3.646222   7.673333\n",
              "weight  7.673333  28.011111"
            ]
          },
          "metadata": {
            "tags": []
          },
          "execution_count": 45
        }
      ]
    },
    {
      "cell_type": "markdown",
      "metadata": {
        "id": "-6_TCyOAAEOi"
      },
      "source": [
        "2. 물고기 데이터에서  length와 weight 간의 상관계수를 구하시오."
      ]
    },
    {
      "cell_type": "code",
      "metadata": {
        "id": "pJznN0OgAEOi",
        "outputId": "3fcae015-96a4-4a1f-fd5d-d2314368e982"
      },
      "source": [
        "np.corrcoef(data.length, data.weight)"
      ],
      "execution_count": null,
      "outputs": [
        {
          "output_type": "execute_result",
          "data": {
            "text/plain": [
              "array([[1.       , 0.7592719],\n",
              "       [0.7592719, 1.       ]])"
            ]
          },
          "metadata": {
            "tags": []
          },
          "execution_count": 46
        }
      ]
    },
    {
      "cell_type": "code",
      "metadata": {
        "id": "sNhsCy1SAEOj",
        "outputId": "29214e64-0b81-485e-a8c2-1c2727a87cdf"
      },
      "source": [
        "data.corr()"
      ],
      "execution_count": null,
      "outputs": [
        {
          "output_type": "execute_result",
          "data": {
            "text/html": [
              "<div>\n",
              "<style scoped>\n",
              "    .dataframe tbody tr th:only-of-type {\n",
              "        vertical-align: middle;\n",
              "    }\n",
              "\n",
              "    .dataframe tbody tr th {\n",
              "        vertical-align: top;\n",
              "    }\n",
              "\n",
              "    .dataframe thead th {\n",
              "        text-align: right;\n",
              "    }\n",
              "</style>\n",
              "<table border=\"1\" class=\"dataframe\">\n",
              "  <thead>\n",
              "    <tr style=\"text-align: right;\">\n",
              "      <th></th>\n",
              "      <th>length</th>\n",
              "      <th>weight</th>\n",
              "    </tr>\n",
              "  </thead>\n",
              "  <tbody>\n",
              "    <tr>\n",
              "      <th>length</th>\n",
              "      <td>1.000000</td>\n",
              "      <td>0.759272</td>\n",
              "    </tr>\n",
              "    <tr>\n",
              "      <th>weight</th>\n",
              "      <td>0.759272</td>\n",
              "      <td>1.000000</td>\n",
              "    </tr>\n",
              "  </tbody>\n",
              "</table>\n",
              "</div>"
            ],
            "text/plain": [
              "          length    weight\n",
              "length  1.000000  0.759272\n",
              "weight  0.759272  1.000000"
            ]
          },
          "metadata": {
            "tags": []
          },
          "execution_count": 47
        }
      ]
    },
    {
      "cell_type": "markdown",
      "metadata": {
        "id": "NuhlqZFuAEOj"
      },
      "source": [
        "# 06.실습\n",
        "\n"
      ]
    },
    {
      "cell_type": "markdown",
      "metadata": {
        "id": "l2hI_gz_AEOj"
      },
      "source": [
        "1. 10개의 제비중에 4개의 당첨 제비가 포함되어 있다. 이 중 3개의 제비를 임의로 뽑을 때 다음을 구하시오.\n",
        "\n",
        "    1) 3개 모두가 당첨 제비가 아닐 확률은?  \n",
        "    2) 적어도 1개 이상이 제비일 확률은?"
      ]
    },
    {
      "cell_type": "code",
      "metadata": {
        "id": "7OXZxE3eAEOj"
      },
      "source": [
        "from itertools import combinations\n",
        "\n",
        "lottery = list(combinations([1,1,1,1,0,0,0,0,0,0], 3))\n",
        "N = len(list(lottery))"
      ],
      "execution_count": 1,
      "outputs": []
    },
    {
      "cell_type": "code",
      "metadata": {
        "id": "wVcQXeRyAEOk",
        "outputId": "a69e766e-e885-4f0e-e113-5680f9773569",
        "colab": {
          "base_uri": "https://localhost:8080/"
        }
      },
      "source": [
        "wins = 0\n",
        "\n",
        "for i in lottery:\n",
        "    if (i.count(0) == 3):\n",
        "        wins += 1\n",
        "\n",
        "print('3개 모두가 당첨 제비가 아닐 확률 = ', wins/N)"
      ],
      "execution_count": 3,
      "outputs": [
        {
          "output_type": "stream",
          "text": [
            "3개 모두가 당첨 제비가 아닐 확률 =  0.16666666666666666\n"
          ],
          "name": "stdout"
        }
      ]
    },
    {
      "cell_type": "code",
      "metadata": {
        "id": "LqS52KxLAEOk",
        "outputId": "4270386f-7634-4b9a-81d5-026c81512579",
        "colab": {
          "base_uri": "https://localhost:8080/"
        }
      },
      "source": [
        "wins = 0\n",
        "\n",
        "for i in lottery:\n",
        "    if (i.count(1) == 1) or (i.count(1) == 2) or (i.count(1) == 3):\n",
        "        wins += 1\n",
        "\n",
        "print('적어도 1개 이상이 제비일 확률 = ', wins/N)"
      ],
      "execution_count": 4,
      "outputs": [
        {
          "output_type": "stream",
          "text": [
            "적어도 1개 이상이 제비일 확률 =  0.8333333333333334\n"
          ],
          "name": "stdout"
        }
      ]
    },
    {
      "cell_type": "code",
      "metadata": {
        "id": "HItXQJIYAEOl",
        "outputId": "f4ea6fbd-654a-48f0-f0d6-23427db32837",
        "colab": {
          "base_uri": "https://localhost:8080/"
        }
      },
      "source": [
        "1-(20/120)"
      ],
      "execution_count": 5,
      "outputs": [
        {
          "output_type": "execute_result",
          "data": {
            "text/plain": [
              "0.8333333333333334"
            ]
          },
          "metadata": {
            "tags": []
          },
          "execution_count": 5
        }
      ]
    },
    {
      "cell_type": "markdown",
      "metadata": {
        "id": "gBnTfXXf5M8d"
      },
      "source": [
        "# 10실습\n",
        "\n",
        "1. 복권의 당첨률이 30% 라고 한다. 복권을 8장 구입했다. 이항분포로 다음의 확률을 구하시오.\n",
        "    - 4장이 당첨될 확률은? ($P=4$)\n",
        "    - 3장에서 7장 당첨될 확률은? ( $P(3\\le X \\le 7$ )\n",
        "    - 6장 이상 당첨될 확률은? ( $P \\ge 6$ )"
      ]
    },
    {
      "cell_type": "code",
      "metadata": {
        "id": "mKopx007AEOm",
        "outputId": "01d14e7f-4942-447b-9b9b-685848d21f71"
      },
      "source": [
        "rv = stats.binom(8, 0.3)\n",
        "rv.pmf(4), rv.cdf(7)-rv.cdf(2), 1-rv.cdf(5)"
      ],
      "execution_count": null,
      "outputs": [
        {
          "output_type": "execute_result",
          "data": {
            "text/plain": [
              "(0.1361367, 0.44816058000000014, 0.011292210000000025)"
            ]
          },
          "metadata": {
            "tags": []
          },
          "execution_count": 38
        }
      ]
    },
    {
      "cell_type": "markdown",
      "metadata": {
        "id": "6SPsXU0VVSKX"
      },
      "source": [
        "# 11실습\n",
        "\n",
        "1. 확률변수 X가 평균이 70, 표준편차가 10인 정규분포를 따를때 다음의 확률을 구하시오.\n",
        "    \n",
        "    - P(X < 94.3)\n",
        "    - P(X > 57.5)\n",
        "    - P(57.7 < X < 94.3)"
      ]
    },
    {
      "cell_type": "code",
      "metadata": {
        "id": "iS-MGidiAEOm",
        "outputId": "678b06d0-8098-43c0-e570-6c9ae554b8b5"
      },
      "source": [
        "rv = stats.norm(loc = 70, scale=10)\n",
        "\n",
        "rv.cdf(94.3), 1-rv.cdf(57.5), rv.cdf(94.3)-rv.cdf(57.5)"
      ],
      "execution_count": null,
      "outputs": [
        {
          "output_type": "execute_result",
          "data": {
            "text/plain": [
              "(0.9924505885836908, 0.8943502263331446, 0.8868008149168355)"
            ]
          },
          "metadata": {
            "tags": []
          },
          "execution_count": 35
        }
      ]
    }
  ]
}
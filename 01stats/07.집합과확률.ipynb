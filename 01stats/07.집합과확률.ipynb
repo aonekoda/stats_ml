{
  "nbformat": 4,
  "nbformat_minor": 0,
  "metadata": {
    "anaconda-cloud": {},
    "celltoolbar": "Raw Cell Format",
    "colab": {
      "name": "Copy of DoingMathWithPython.Ch05.ipynb",
      "provenance": [],
      "collapsed_sections": [
        "sLK25lj0fuhi",
        "NHwFfkFrfuhq"
      ]
    },
    "kernelspec": {
      "display_name": "Python 3",
      "language": "python",
      "name": "python3"
    },
    "language_info": {
      "codemirror_mode": {
        "name": "ipython",
        "version": 3
      },
      "file_extension": ".py",
      "mimetype": "text/x-python",
      "name": "python",
      "nbconvert_exporter": "python",
      "pygments_lexer": "ipython3",
      "version": "3.9.5"
    }
  },
  "cells": [
    {
      "cell_type": "markdown",
      "metadata": {
        "id": "_nrmyxSRfufE"
      },
      "source": [
        "# 집합과 확률\n",
        "\n",
        "#### 집합은 무엇인가 ?\n",
        "\n",
        "집합(set)은 개별 객체의 모음(collection)이다.\n",
        "통상 객체를 원소(element)나 구성원(member)라고 부른다.\n",
        "집합과 모음의 다른점으로는 집합은 동일한 2개의 원소를 가질 수 없다.\n",
        "\n",
        "`SymPy`를 사용해 파이썬에서 집합으로 작업할 수 있다.\n",
        "\n",
        "### 집합 생성\n",
        "\n",
        "수학기호로 집합을 표현할 때는 `{ 2, 4, 6 }`와 같이 중괄호를 사용한다.\n",
        "파이썬에서는 `FiniteSet` 클래스를 사용하여 표현할 수 있다."
      ]
    },
    {
      "cell_type": "code",
      "metadata": {
        "id": "VPbdwZAI_PAO",
        "outputId": "18fc866a-6e04-48d0-834f-6202dff9a107"
      },
      "source": [
        "%precision 3"
      ],
      "execution_count": null,
      "outputs": [
        {
          "output_type": "execute_result",
          "data": {
            "text/plain": [
              "'%.3f'"
            ]
          },
          "metadata": {
            "tags": []
          },
          "execution_count": 1
        }
      ]
    },
    {
      "cell_type": "code",
      "metadata": {
        "colab": {
          "base_uri": "https://localhost:8080/",
          "height": 36
        },
        "id": "lyUrL9GXfufI",
        "outputId": "095bdeaf-c959-4561-e19c-e8fe875a750c"
      },
      "source": [
        "from sympy import FiniteSet\n",
        "\n",
        "s = FiniteSet(2, 4, 6)\n",
        "s"
      ],
      "execution_count": null,
      "outputs": [
        {
          "output_type": "execute_result",
          "data": {
            "text/latex": "$\\displaystyle \\left\\{2, 4, 6\\right\\}$",
            "text/plain": [
              "FiniteSet(2, 4, 6)"
            ]
          },
          "metadata": {
            "tags": []
          },
          "execution_count": 1
        }
      ]
    },
    {
      "cell_type": "code",
      "metadata": {
        "colab": {
          "base_uri": "https://localhost:8080/"
        },
        "id": "Ek7UYLISfufP",
        "outputId": "b9f79610-87b8-4220-f9d9-338aa2fd9241"
      },
      "source": [
        "type(s)"
      ],
      "execution_count": null,
      "outputs": [
        {
          "output_type": "execute_result",
          "data": {
            "text/plain": [
              "sympy.sets.sets.FiniteSet"
            ]
          },
          "metadata": {
            "tags": []
          },
          "execution_count": 3
        }
      ]
    },
    {
      "cell_type": "markdown",
      "metadata": {
        "id": "AGWuqtadfufT"
      },
      "source": [
        "`카디널리티(cardinality)`란 집합의 구성원 수를 의미한다.\n",
        "`len()`함수를 이용해 계산이 가능하다."
      ]
    },
    {
      "cell_type": "code",
      "metadata": {
        "colab": {
          "base_uri": "https://localhost:8080/"
        },
        "id": "VjD8f8gYfufU",
        "outputId": "588cff9d-4ef5-45d3-af7d-ace9bf6414ba"
      },
      "source": [
        "len(s)"
      ],
      "execution_count": null,
      "outputs": [
        {
          "output_type": "execute_result",
          "data": {
            "text/plain": [
              "3"
            ]
          },
          "metadata": {
            "tags": []
          },
          "execution_count": 4
        }
      ]
    },
    {
      "cell_type": "markdown",
      "metadata": {
        "id": "0VQcaUTmfufW"
      },
      "source": [
        "`대상 집합에 숫자가 존재하는지 여부`는 `in`연산자를 사용해 알 수 있다."
      ]
    },
    {
      "cell_type": "code",
      "metadata": {
        "colab": {
          "base_uri": "https://localhost:8080/"
        },
        "id": "Mfc7yqmnfufX",
        "outputId": "1d6b91d7-dde4-44a6-ab6a-f7a87346536a"
      },
      "source": [
        "3 in s"
      ],
      "execution_count": null,
      "outputs": [
        {
          "output_type": "execute_result",
          "data": {
            "text/plain": [
              "False"
            ]
          },
          "metadata": {
            "tags": []
          },
          "execution_count": 5
        }
      ]
    },
    {
      "cell_type": "code",
      "metadata": {
        "colab": {
          "base_uri": "https://localhost:8080/"
        },
        "id": "f-Q3oQUlfufZ",
        "outputId": "cb2471db-a008-49b6-b81d-2a43243d74be"
      },
      "source": [
        "4 in s"
      ],
      "execution_count": null,
      "outputs": [
        {
          "output_type": "execute_result",
          "data": {
            "text/plain": [
              "True"
            ]
          },
          "metadata": {
            "tags": []
          },
          "execution_count": 6
        }
      ]
    },
    {
      "cell_type": "markdown",
      "metadata": {
        "id": "8TXRwrDlfufa"
      },
      "source": [
        "`공집합(empty set)`을 생성하기 위해서는 인자가 없이 생성하면 된다."
      ]
    },
    {
      "cell_type": "code",
      "metadata": {
        "colab": {
          "base_uri": "https://localhost:8080/",
          "height": 36
        },
        "id": "IHZFbgbWfufb",
        "outputId": "bc92ce59-e63d-4d26-c0a7-9b46d0e2de62"
      },
      "source": [
        "FiniteSet()"
      ],
      "execution_count": null,
      "outputs": [
        {
          "output_type": "execute_result",
          "data": {
            "text/latex": "$\\displaystyle \\emptyset$",
            "text/plain": [
              "EmptySet"
            ]
          },
          "metadata": {
            "tags": []
          },
          "execution_count": 7
        }
      ]
    },
    {
      "cell_type": "markdown",
      "metadata": {
        "id": "Gn2v0kFXfufc"
      },
      "source": [
        "`리스트`나 `튜플`을 인자로 전달해서 집합을 생성할 수도 있다."
      ]
    },
    {
      "cell_type": "code",
      "metadata": {
        "colab": {
          "base_uri": "https://localhost:8080/",
          "height": 36
        },
        "id": "YxVI2jMVfufc",
        "outputId": "73689a23-d2f3-434a-a521-238804fb53a9"
      },
      "source": [
        "members = [1, 2, 3]\n",
        "FiniteSet(*members)"
      ],
      "execution_count": null,
      "outputs": [
        {
          "output_type": "execute_result",
          "data": {
            "text/latex": "$\\displaystyle \\left\\{1, 2, 3\\right\\}$",
            "text/plain": [
              "FiniteSet(1, 2, 3)"
            ]
          },
          "metadata": {
            "tags": []
          },
          "execution_count": 8
        }
      ]
    },
    {
      "cell_type": "markdown",
      "metadata": {
        "id": "MtCVyMvjfufd"
      },
      "source": [
        "앞서 언급했듯이 집합 내에는 중복된 값을 허용하지 않는다.\n",
        "같은 값을 여러번 넣어도 한 번만 추가되고 나머지는 모두 무시된다."
      ]
    },
    {
      "cell_type": "code",
      "metadata": {
        "colab": {
          "base_uri": "https://localhost:8080/",
          "height": 36
        },
        "id": "6MtBUi0xfufe",
        "outputId": "0f0ac0e9-194c-4c66-a4c3-130eec79d1e8"
      },
      "source": [
        "s = FiniteSet(1, 3, 2, 3)\n",
        "s"
      ],
      "execution_count": null,
      "outputs": [
        {
          "output_type": "execute_result",
          "data": {
            "text/latex": "$\\displaystyle \\left\\{1, 2, 3\\right\\}$",
            "text/plain": [
              "FiniteSet(1, 2, 3)"
            ]
          },
          "metadata": {
            "tags": []
          },
          "execution_count": 9
        }
      ]
    },
    {
      "cell_type": "markdown",
      "metadata": {
        "id": "GSYvXxeIfufk"
      },
      "source": [
        "###  부분집합\n",
        "집합 s의 모든 구성원이 집합 t의 구성원일 경우 s는 t의 `부분집합(subset)`이라고 정의한다.\n",
        "파이썬에서는 `is_subset()` 함수를 사용해서 확인이 가능하다."
      ]
    },
    {
      "cell_type": "code",
      "metadata": {
        "colab": {
          "base_uri": "https://localhost:8080/"
        },
        "id": "MKugKg08fufl",
        "outputId": "5eeae5f4-eef6-4901-bf43-e0d44ae6f5b6"
      },
      "source": [
        "s = FiniteSet(1)\n",
        "t = FiniteSet(1, 2)\n",
        "\n",
        "s.is_subset(t)"
      ],
      "execution_count": null,
      "outputs": [
        {
          "output_type": "execute_result",
          "data": {
            "text/plain": [
              "True"
            ]
          },
          "metadata": {
            "tags": []
          },
          "execution_count": 10
        }
      ]
    },
    {
      "cell_type": "code",
      "metadata": {
        "colab": {
          "base_uri": "https://localhost:8080/"
        },
        "id": "aZ1VKUcGfufq",
        "outputId": "5cdbf967-8095-40d0-d995-51a881bca3ad"
      },
      "source": [
        "t.is_subset(s)"
      ],
      "execution_count": null,
      "outputs": [
        {
          "output_type": "execute_result",
          "data": {
            "text/plain": [
              "False"
            ]
          },
          "metadata": {
            "tags": []
          },
          "execution_count": 11
        }
      ]
    },
    {
      "cell_type": "code",
      "metadata": {
        "colab": {
          "base_uri": "https://localhost:8080/"
        },
        "id": "tz7isY9Ifufr",
        "outputId": "ff545bc7-f015-4fdb-ed49-6b78c29065e7"
      },
      "source": [
        "s.is_subset(s)"
      ],
      "execution_count": null,
      "outputs": [
        {
          "output_type": "execute_result",
          "data": {
            "text/plain": [
              "True"
            ]
          },
          "metadata": {
            "tags": []
          },
          "execution_count": 12
        }
      ]
    },
    {
      "cell_type": "markdown",
      "metadata": {
        "id": "dYQ15M3zfuft"
      },
      "source": [
        "공집합은 모든 집합의 부분집합이며, 모든 집합은 자기 자신이 부분집합이다.\n"
      ]
    },
    {
      "cell_type": "markdown",
      "metadata": {
        "id": "kPL_4d1Afufx"
      },
      "source": [
        "`파워집합(powerset)`은 모든 가능한 부분집합이다.\n",
        "모든 집합은 `2 ** cadinality` 만큼의 부분집합을 가진다. (공집합, 자기자신을 포함)\n",
        "파이썬에서는 `powerset()` 함수를 사용해 찾아낼 수 있다."
      ]
    },
    {
      "cell_type": "code",
      "metadata": {
        "colab": {
          "base_uri": "https://localhost:8080/",
          "height": 36
        },
        "id": "15y1aHmufuf7",
        "outputId": "d1a357ce-896a-41d8-c37f-ec27193b94a8"
      },
      "source": [
        "s = FiniteSet(1, 2, 3)\n",
        "ps = s.powerset()\n",
        "ps"
      ],
      "execution_count": null,
      "outputs": [
        {
          "output_type": "execute_result",
          "data": {
            "text/latex": "$\\displaystyle \\left\\{\\emptyset, \\left\\{1\\right\\}, \\left\\{2\\right\\}, \\left\\{3\\right\\}, \\left\\{1, 2\\right\\}, \\left\\{1, 3\\right\\}, \\left\\{2, 3\\right\\}, \\left\\{1, 2, 3\\right\\}\\right\\}$",
            "text/plain": [
              "FiniteSet(FiniteSet(1), FiniteSet(1, 2), FiniteSet(1, 3), FiniteSet(1, 2, 3), FiniteSet(2), FiniteSet(2, 3), FiniteSet(3), EmptySet)"
            ]
          },
          "metadata": {
            "tags": []
          },
          "execution_count": 13
        }
      ]
    },
    {
      "cell_type": "code",
      "metadata": {
        "colab": {
          "base_uri": "https://localhost:8080/"
        },
        "id": "0nfHhQ5Mfuf9",
        "outputId": "4affdb96-98ce-4546-bb34-344b7e188061"
      },
      "source": [
        "len(ps)"
      ],
      "execution_count": null,
      "outputs": [
        {
          "output_type": "execute_result",
          "data": {
            "text/plain": [
              "8"
            ]
          },
          "metadata": {
            "tags": []
          },
          "execution_count": 14
        }
      ]
    },
    {
      "cell_type": "markdown",
      "metadata": {
        "collapsed": true,
        "id": "cF9CUlSYfugL"
      },
      "source": [
        "### 집합 연산\n",
        "\n",
        "#### 합집합\n",
        "\n",
        "두 집합의 모든 구성원을 포함하는 집합이다. (중복된 구성원은 하나만 포함된다.)"
      ]
    },
    {
      "cell_type": "code",
      "metadata": {
        "colab": {
          "base_uri": "https://localhost:8080/",
          "height": 36
        },
        "id": "3fkfpNptfugM",
        "outputId": "a3e5ed03-43b8-4dfa-e933-c165774afe82"
      },
      "source": [
        "from sympy import FiniteSet\n",
        "\n",
        "s = FiniteSet(1, 2, 3)\n",
        "t = FiniteSet(2, 4, 6)\n",
        "\n",
        "s.union(t)"
      ],
      "execution_count": null,
      "outputs": [
        {
          "output_type": "execute_result",
          "data": {
            "text/latex": "$\\displaystyle \\left\\{1, 2, 3, 4, 6\\right\\}$",
            "text/plain": [
              "FiniteSet(1, 2, 3, 4, 6)"
            ]
          },
          "metadata": {
            "tags": []
          },
          "execution_count": 15
        }
      ]
    },
    {
      "cell_type": "markdown",
      "metadata": {
        "id": "Xp52hGuYfugN"
      },
      "source": [
        "#### 교집합\n",
        "\n",
        "두 집합에 공통적으로 존재하는 구성원들로만 이루어진 집합이다."
      ]
    },
    {
      "cell_type": "code",
      "metadata": {
        "colab": {
          "base_uri": "https://localhost:8080/",
          "height": 36
        },
        "id": "cXE1eY8zfugO",
        "outputId": "2f42ed2d-459f-465f-bca2-990bf5d71557"
      },
      "source": [
        "s.intersect(t)"
      ],
      "execution_count": null,
      "outputs": [
        {
          "output_type": "execute_result",
          "data": {
            "text/latex": "$\\displaystyle \\left\\{2\\right\\}$",
            "text/plain": [
              "FiniteSet(2)"
            ]
          },
          "metadata": {
            "tags": []
          },
          "execution_count": 16
        }
      ]
    },
    {
      "cell_type": "markdown",
      "metadata": {
        "id": "4tC58E2VlWNt"
      },
      "source": [
        "#### 차집합"
      ]
    },
    {
      "cell_type": "code",
      "metadata": {
        "colab": {
          "base_uri": "https://localhost:8080/",
          "height": 36
        },
        "id": "C05QlMDmlVnT",
        "outputId": "a025bcb8-846a-4b8f-8001-7f10fc54550f"
      },
      "source": [
        "s - t"
      ],
      "execution_count": null,
      "outputs": [
        {
          "output_type": "execute_result",
          "data": {
            "text/latex": "$\\displaystyle \\left\\{1, 3\\right\\}$",
            "text/plain": [
              "FiniteSet(1, 3)"
            ]
          },
          "metadata": {
            "tags": []
          },
          "execution_count": 17
        }
      ]
    },
    {
      "cell_type": "markdown",
      "metadata": {
        "id": "Ic-zuN9-lwng"
      },
      "source": [
        "#### 여집합\n",
        "\n",
        "전체집합 U가 정해져 있을때 U의 부분집합 A에 대해서 다음을 성립할 때 여집합이라고 한다.   \n",
        "\n",
        "$ A^c = U - A $"
      ]
    },
    {
      "cell_type": "code",
      "metadata": {
        "colab": {
          "base_uri": "https://localhost:8080/",
          "height": 36
        },
        "id": "9NV1sftEmIkz",
        "outputId": "581fde08-1ced-4f38-e304-42856076106e"
      },
      "source": [
        "from sympy import Complement\n",
        "\n",
        "U = FiniteSet(0,1,2,3)\n",
        "A = FiniteSet(1,3)\n",
        "\n",
        "Complement(U, A)"
      ],
      "execution_count": null,
      "outputs": [
        {
          "output_type": "execute_result",
          "data": {
            "text/latex": "$\\displaystyle \\left\\{0, 2\\right\\}$",
            "text/plain": [
              "FiniteSet(0, 2)"
            ]
          },
          "metadata": {
            "tags": []
          },
          "execution_count": 18
        }
      ]
    },
    {
      "cell_type": "code",
      "metadata": {
        "id": "2KAY8mT6_PAZ",
        "outputId": "c215b741-c1c0-460c-8282-66c6ad269393"
      },
      "source": [
        "U - A"
      ],
      "execution_count": null,
      "outputs": [
        {
          "output_type": "execute_result",
          "data": {
            "text/latex": "$\\displaystyle \\left\\{0, 2\\right\\}$",
            "text/plain": [
              "FiniteSet(0, 2)"
            ]
          },
          "metadata": {
            "tags": []
          },
          "execution_count": 19
        }
      ]
    },
    {
      "cell_type": "markdown",
      "metadata": {
        "id": "WRJOUUIBfugd"
      },
      "source": [
        "### 확률\n",
        "\n",
        "- **실험**(experiment) : 각각 가능한 확률에 대한 테스트, 실험을 한 번 실행하는 것을 시도(trial)이라고 함. 예를 들어 주사위 던지기, 카드 뽑기\n",
        "- **표본공간**(`S`) : 모든 가능한 실험 결과들의 집합. 예를 들어  6면 주사위를 한 번 던진 경우 표본공간 `S = {1, 2, 3, 4, 5, 6}`\n",
        "- **사건**(`E`) : 표본공간의 부분집합. 예를 들어 6면 주사위의 표본공간 중 숫자 3이 나올 확률\n",
        "\n",
        "$$ P(E) = \\frac{n(E)}{n(S)} $$\n",
        "\n",
        "특정 사건이 일어날 확률(`P(E)`)는 해당 사건의 개수(`n(E)`)를 전체 표본공간의 개수(`n(S)`)로 나눈 값이다.\n",
        "주사위를 던져서 3이 나올 확률은 다음과 같다.\n",
        "\n",
        "> S = { 1, 2, 3, 4, 5, 6 }  \n",
        "E = { 3 }  \n",
        "n(S) = 6  \n",
        "n(E) = 1  \n",
        "P(E) = 1 / 6  \n",
        "\n",
        "이를 함수로 작성해 보자."
      ]
    },
    {
      "cell_type": "code",
      "metadata": {
        "id": "72TPvfPrfugk"
      },
      "source": [
        "def probability(space, event):\n",
        "    return len(event) / len(space)"
      ],
      "execution_count": null,
      "outputs": []
    },
    {
      "cell_type": "markdown",
      "metadata": {
        "id": "_sPMOxfBfugl"
      },
      "source": [
        "위 함수를 이용해서 1 ~ 20 사이의 숫자 중 소수(Prime number)일 확률을 구해보도록 하자."
      ]
    },
    {
      "cell_type": "code",
      "metadata": {
        "id": "tpIb96acfugm"
      },
      "source": [
        "# 소수인지 확인하는 함수 \n",
        "def check_prime(number):\n",
        "    if number != 1:\n",
        "        for factor in range(2,number):\n",
        "            if number % factor == 0:\n",
        "                return False\n",
        "    else:\n",
        "        return False\n",
        "    return True\n",
        "\n",
        "# 소수를 집합으로 리턴한다.\n",
        "def get_primes(number):\n",
        "    primes = [x for x in range(2, number + 1) if check_prime(x) ]\n",
        "    \n",
        "    return FiniteSet(*primes)"
      ],
      "execution_count": null,
      "outputs": []
    },
    {
      "cell_type": "code",
      "metadata": {
        "colab": {
          "base_uri": "https://localhost:8080/"
        },
        "id": "R_4Uh5D0x5ek",
        "outputId": "dcf92d80-5459-47a6-894f-f992939e5c4e"
      },
      "source": [
        "space = FiniteSet(*range(1,21)) # 표본공간\n",
        "event = get_primes(20) # 사건\n",
        "probability(space, event) # 1 ~ 20 숫자 중 소수일 확률"
      ],
      "execution_count": null,
      "outputs": [
        {
          "output_type": "execute_result",
          "data": {
            "text/plain": [
              "0.400"
            ]
          },
          "metadata": {
            "tags": []
          },
          "execution_count": 22
        }
      ]
    },
    {
      "cell_type": "code",
      "metadata": {
        "colab": {
          "base_uri": "https://localhost:8080/",
          "height": 36
        },
        "id": "_RaF3iFufugo",
        "outputId": "5506c6b6-bfc4-4665-ec8a-f7231d2f153d"
      },
      "source": [
        "event"
      ],
      "execution_count": null,
      "outputs": [
        {
          "output_type": "execute_result",
          "data": {
            "text/latex": "$\\displaystyle \\left\\{2, 3, 5, 7, 11, 13, 17, 19\\right\\}$",
            "text/plain": [
              "FiniteSet(2, 3, 5, 7, 11, 13, 17, 19)"
            ]
          },
          "metadata": {
            "tags": []
          },
          "execution_count": 23
        }
      ]
    },
    {
      "cell_type": "markdown",
      "metadata": {
        "id": "p4QFr9jNfugq"
      },
      "source": [
        "#### 사건A 또는 사건B의 확률\n",
        "\n",
        "A 사건과 B 사건의 집합을 합집합(`union`)한 다음에 확률을 계산하면 된다.\n",
        "\n",
        "- S : 6면주사위를 1번 던짐 -> { 1, 2, 3, 4, 5, 6 }\n",
        "- A : 소수 -> { 2, 3, 5 }\n",
        "- B : 홀수 -> { 1, 3, 5 }\n",
        "\n",
        "일 경우의 사건 A나 B일 확률은 다음과 같다."
      ]
    },
    {
      "cell_type": "code",
      "metadata": {
        "colab": {
          "base_uri": "https://localhost:8080/"
        },
        "id": "9fZ5Grb-fugr",
        "outputId": "a7458a14-d3c8-4382-9521-895bed6bd5f9"
      },
      "source": [
        "S = FiniteSet(*range(1,7)) # 표본공간\n",
        "A = FiniteSet(2, 3, 5) # 소수인 사건\n",
        "B = FiniteSet(1, 3, 5) # 홀수인 사건\n",
        "\n",
        "len(A.union(B)) / len(S) # 소수 또는 홀수일 확률"
      ],
      "execution_count": null,
      "outputs": [
        {
          "output_type": "execute_result",
          "data": {
            "text/plain": [
              "0.667"
            ]
          },
          "metadata": {
            "tags": []
          },
          "execution_count": 24
        }
      ]
    },
    {
      "cell_type": "markdown",
      "metadata": {
        "id": "8rUVjf8Yfugs"
      },
      "source": [
        "#### 사건 A 이면서 사건 B일 확률\n",
        "\n",
        "두 집합의 교집합(`intersect`)의 확률을 계산하면 된다."
      ]
    },
    {
      "cell_type": "code",
      "metadata": {
        "colab": {
          "base_uri": "https://localhost:8080/"
        },
        "id": "cRwl3nZGfugt",
        "outputId": "5e8696c5-0edd-423c-d7ce-6313f8aadf92"
      },
      "source": [
        "len(A.intersect(B)) / len(S) # 소수이면서 홀수인 확률"
      ],
      "execution_count": null,
      "outputs": [
        {
          "output_type": "execute_result",
          "data": {
            "text/plain": [
              "0.333"
            ]
          },
          "metadata": {
            "tags": []
          },
          "execution_count": 25
        }
      ]
    },
    {
      "cell_type": "markdown",
      "metadata": {
        "id": "LyncT2E4fugu"
      },
      "source": [
        "### 랜덤 숫자 생성\n",
        "\n",
        "파이썬에서 랜덤숫자를 생성하려면 먼저 표준 라이브러리 `random`을 포함시켜야 한다.\n",
        "주로 사용되는 랜덤함수는 다음의 2가지 이다.\n",
        "- randint(from, to) : from 에서 to 사이의 숫자를 리턴한다. \n",
        "- random() : 0에서 1사이의 부동소수점 숫자를 생성한다.\n",
        "\n",
        "주사위를 굴려서 총합이 20될 때까지 몇 번을 던져야 하는지를 랜덤을 통해서 구현해 본다."
      ]
    },
    {
      "cell_type": "code",
      "metadata": {
        "colab": {
          "base_uri": "https://localhost:8080/"
        },
        "id": "s-UuYXyOfugw",
        "outputId": "313cc184-5d88-4300-c1e3-5da9b830e401"
      },
      "source": [
        "import random\n",
        "\n",
        "target_score = 20\n",
        "\n",
        "def roll():\n",
        "    return random.randint(1,6)\n",
        "\n",
        "def play_game():\n",
        "    score = 0\n",
        "    num_rolls = 0\n",
        "    while score < target_score:\n",
        "        dice = roll()\n",
        "        num_rolls += 1\n",
        "        print('#{0}: {1}'.format(num_rolls, dice))\n",
        "        score += dice\n",
        "\n",
        "    print('Score of {0} reached in {1} rolls'.format(score, num_rolls))\n",
        "\n",
        "play_game()"
      ],
      "execution_count": null,
      "outputs": [
        {
          "output_type": "stream",
          "text": [
            "#1: 2\n",
            "#2: 5\n",
            "#3: 5\n",
            "#4: 6\n",
            "#5: 4\n",
            "Score of 22 reached in 5 rolls\n"
          ],
          "name": "stdout"
        }
      ]
    },
    {
      "cell_type": "code",
      "metadata": {
        "colab": {
          "base_uri": "https://localhost:8080/"
        },
        "id": "P4Z-pp7Qfugx",
        "outputId": "49f950c2-bba7-42c7-d9b2-a3f837ba9be9"
      },
      "source": [
        "play_game()"
      ],
      "execution_count": null,
      "outputs": [
        {
          "output_type": "stream",
          "text": [
            "#1: 5\n",
            "#2: 4\n",
            "#3: 6\n",
            "#4: 5\n",
            "Score of 20 reached in 4 rolls\n"
          ],
          "name": "stdout"
        }
      ]
    },
    {
      "cell_type": "markdown",
      "metadata": {
        "id": "Dw46_x4lfugz"
      },
      "source": [
        "#### 목표점수 달성이 가능한가 ?\n",
        "\n",
        "이번에는 목표로 한 점수가 최대던지기 횟수 내에 달성이 가능한지 그 여부 및 확률을 계산해주는 프로그램을 작성한다."
      ]
    },
    {
      "cell_type": "code",
      "metadata": {
        "colab": {
          "base_uri": "https://localhost:8080/"
        },
        "id": "g1QUvR9ffug1",
        "outputId": "9b720969-d9f6-4323-c021-285ac826ba2f"
      },
      "source": [
        "from sympy import FiniteSet\n",
        "from random import randint\n",
        "\n",
        "def find_prob(target_score, max_rolls):\n",
        "    dice = FiniteSet(*range(1,7))\n",
        "    space = dice**max_rolls\n",
        "    event_num = 0\n",
        "    for e in space:\n",
        "        n = sum(e)\n",
        "        if (n >= target_score):\n",
        "            event_num += 1\n",
        "    return event_num / len(space)\n",
        "\n",
        "find_prob(10,2)"
      ],
      "execution_count": null,
      "outputs": [
        {
          "output_type": "execute_result",
          "data": {
            "text/plain": [
              "0.16666666666666666"
            ]
          },
          "metadata": {
            "tags": []
          },
          "execution_count": 4
        }
      ]
    },
    {
      "cell_type": "code",
      "metadata": {
        "colab": {
          "base_uri": "https://localhost:8080/"
        },
        "id": "j--zaNn-fug2",
        "outputId": "8fcf91ee-6439-4f73-b119-4453e35b63f9"
      },
      "source": [
        "find_prob(20, 3)"
      ],
      "execution_count": null,
      "outputs": [
        {
          "output_type": "execute_result",
          "data": {
            "text/plain": [
              "0.000"
            ]
          },
          "metadata": {
            "tags": []
          },
          "execution_count": 29
        }
      ]
    },
    {
      "cell_type": "markdown",
      "metadata": {
        "id": "Iw0_7BbSfug4"
      },
      "source": [
        "주사위를 3번 던져서 최고값은 18이므로 20이 나올 수 있는 확률은 0% 이다.\n",
        "\n",
        "위에서 사용한 랜덤은 균일 랜덤 숫자(uniform random number)였다.\n",
        "비균일 랜덤을 생성하려면 어떻게 해야 할까?\n",
        "\n",
        ">동전을 던졌을 때 앞면(True)이 나올 확률이 2/3이고, 뒷면(False)가 나올 확률이 1/3일 경우"
      ]
    },
    {
      "cell_type": "code",
      "metadata": {
        "id": "vuuNKIZ2fug5",
        "outputId": "83f0ad27-065c-431d-9ea5-1653f1635e21"
      },
      "source": [
        "import random\n",
        "\n",
        "def non_uniform_toss():\n",
        "    if random.random() < 2/3:\n",
        "        return True\n",
        "    return False\n",
        "\n",
        "# 동전을 던져 앞면이 나올 확률이 2/3일때 10000번 동전을 던저셔 앞면이 나오는 횟수\n",
        "true_num = 0\n",
        "for i in range(10000):\n",
        "    if non_uniform_toss() == True:\n",
        "        true_num += 1\n",
        "true_num"
      ],
      "execution_count": null,
      "outputs": [
        {
          "output_type": "execute_result",
          "data": {
            "text/plain": [
              "6722"
            ]
          },
          "metadata": {
            "tags": []
          },
          "execution_count": 30
        }
      ]
    },
    {
      "cell_type": "markdown",
      "metadata": {
        "id": "q4LguMgX_PAd"
      },
      "source": [
        "### 조건부 확률\n",
        "\n",
        "조건부 확률 P(A|B)는 어떤 사건 B가 일어났을 때 사건 A가 일어날 확률을 의미한다.\n",
        "\n",
        "$$ P(A|B) = \\frac{P(A \\cap B)} {P(B)} $$"
      ]
    },
    {
      "cell_type": "markdown",
      "metadata": {
        "id": "4wtgw8_e_PAe"
      },
      "source": [
        "itertools의 `product` 메소드의 특징은 두 개 이상의 리스트의 모든 조합을 구할 때 사용된다."
      ]
    },
    {
      "cell_type": "code",
      "metadata": {
        "id": "RwRfRlVD_PAe"
      },
      "source": [
        "from itertools import product"
      ],
      "execution_count": null,
      "outputs": []
    },
    {
      "cell_type": "code",
      "metadata": {
        "id": "3c1ixrEk_PAe",
        "outputId": "4a9334ba-2e70-428e-b818-6b6b5a0a1746"
      },
      "source": [
        "list(product([1,2], ['a','b','c'])) # 두 리스트의 모든 조합"
      ],
      "execution_count": null,
      "outputs": [
        {
          "output_type": "execute_result",
          "data": {
            "text/plain": [
              "[(1, 'a'), (1, 'b'), (1, 'c'), (2, 'a'), (2, 'b'), (2, 'c')]"
            ]
          },
          "metadata": {
            "tags": []
          },
          "execution_count": 32
        }
      ]
    },
    {
      "cell_type": "markdown",
      "metadata": {
        "id": "6J_B2j27_PAe"
      },
      "source": [
        "동전을 3회 던지는 실험에서 'H':동전 앞면인 사건, 'T':동전 뒷면인 사건 이라고 하자. 이때 표본공간은 다음과 같다."
      ]
    },
    {
      "cell_type": "code",
      "metadata": {
        "id": "u3tfGj_8_PAe",
        "outputId": "c1f471aa-2119-442f-db43-fa54304f8e3e"
      },
      "source": [
        "n = 3 # 동전 던지는 횟수\n",
        "coin = set(product(['H','T'], repeat = n))\n",
        "coin # 표본공간"
      ],
      "execution_count": null,
      "outputs": [
        {
          "output_type": "execute_result",
          "data": {
            "text/plain": [
              "{('H', 'H', 'H'),\n",
              " ('H', 'H', 'T'),\n",
              " ('H', 'T', 'H'),\n",
              " ('H', 'T', 'T'),\n",
              " ('T', 'H', 'H'),\n",
              " ('T', 'H', 'T'),\n",
              " ('T', 'T', 'H'),\n",
              " ('T', 'T', 'T')}"
            ]
          },
          "metadata": {
            "tags": []
          },
          "execution_count": 33
        }
      ]
    },
    {
      "cell_type": "code",
      "metadata": {
        "id": "4j_FH5tj_PAf",
        "outputId": "4b96dce6-5251-4ece-fe27-a71f96445c9c"
      },
      "source": [
        "len(coin) # 표본공간의 크기"
      ],
      "execution_count": null,
      "outputs": [
        {
          "output_type": "execute_result",
          "data": {
            "text/plain": [
              "8"
            ]
          },
          "metadata": {
            "tags": []
          },
          "execution_count": 34
        }
      ]
    },
    {
      "cell_type": "code",
      "metadata": {
        "id": "wRoCgocR_PAf"
      },
      "source": [
        "A = {a for a in coin if a[0] =='T'} # 첫번째 동전이 뒷면인 사건\n",
        "B = {b for b in coin if b.count('T') == 2} # 두 번 모두 뒷면이 나온 사건"
      ],
      "execution_count": null,
      "outputs": []
    },
    {
      "cell_type": "code",
      "metadata": {
        "id": "AwToxTJu_PAf",
        "outputId": "56781fa8-d357-4cd7-ba27-95f4aa2e6f60"
      },
      "source": [
        "A"
      ],
      "execution_count": null,
      "outputs": [
        {
          "output_type": "execute_result",
          "data": {
            "text/plain": [
              "{('T', 'H', 'H'), ('T', 'H', 'T'), ('T', 'T', 'H'), ('T', 'T', 'T')}"
            ]
          },
          "metadata": {
            "tags": []
          },
          "execution_count": 36
        }
      ]
    },
    {
      "cell_type": "code",
      "metadata": {
        "id": "XOmJ0f6B_PAf",
        "outputId": "9bbb8ebc-58e4-40d8-88c2-a51e4c36d99e"
      },
      "source": [
        "B"
      ],
      "execution_count": null,
      "outputs": [
        {
          "output_type": "execute_result",
          "data": {
            "text/plain": [
              "{('H', 'T', 'T'), ('T', 'H', 'T'), ('T', 'T', 'H')}"
            ]
          },
          "metadata": {
            "tags": []
          },
          "execution_count": 37
        }
      ]
    },
    {
      "cell_type": "code",
      "metadata": {
        "id": "Dq0N6o1-_PAf"
      },
      "source": [
        "# 동전 던지기 확률\n",
        "\n",
        "def prob(X):\n",
        "    return len(X) / len(coin)"
      ],
      "execution_count": null,
      "outputs": []
    },
    {
      "cell_type": "code",
      "metadata": {
        "id": "oO6wsEXI_PAg"
      },
      "source": [
        "# 조건부 확률\n",
        "\n",
        "def cond_prob(X, Y):\n",
        "    return len(X.intersection(Y)) / len(Y)"
      ],
      "execution_count": null,
      "outputs": []
    },
    {
      "cell_type": "code",
      "metadata": {
        "id": "ds8qTpbg_PAg",
        "outputId": "2839b2f3-1398-4fa2-d8ff-f7cec59f635e"
      },
      "source": [
        "prob(A) # A 사건의 확률"
      ],
      "execution_count": null,
      "outputs": [
        {
          "output_type": "execute_result",
          "data": {
            "text/plain": [
              "0.500"
            ]
          },
          "metadata": {
            "tags": []
          },
          "execution_count": 40
        }
      ]
    },
    {
      "cell_type": "code",
      "metadata": {
        "id": "hFMGIpDe_PAg",
        "outputId": "3e9e31f8-f632-415d-ec4b-35a449af0eb1"
      },
      "source": [
        "prob(B) # B 사건의 확률"
      ],
      "execution_count": null,
      "outputs": [
        {
          "output_type": "execute_result",
          "data": {
            "text/plain": [
              "0.375"
            ]
          },
          "metadata": {
            "tags": []
          },
          "execution_count": 41
        }
      ]
    },
    {
      "cell_type": "code",
      "metadata": {
        "id": "NvKivzM6_PAg",
        "outputId": "7708f45b-6428-4324-dfac-27ef33685a80"
      },
      "source": [
        "cond_prob(A, B) #  P(A|B) 조건부 확률"
      ],
      "execution_count": null,
      "outputs": [
        {
          "output_type": "execute_result",
          "data": {
            "text/plain": [
              "0.667"
            ]
          },
          "metadata": {
            "tags": []
          },
          "execution_count": 42
        }
      ]
    },
    {
      "cell_type": "markdown",
      "metadata": {
        "id": "9B6Vzmzb_PAg"
      },
      "source": [
        "#### 독립사건 \n",
        "\n",
        "만약 P(B|A) = P(B) 라면 즉 사건 A가 일어난 일과 사건 B가 일어날 확률이 상관 없다는 뜻이다. 이 때 사건 A와 B는 서로 독립사건(independent event)이다.\n",
        "\n",
        "$$ P(A|B) = P(A) \\iff \\frac{P(A \\cap B)}{P(B)} = P(A) $$\n",
        "$$ \\therefore P(A \\cap B) = P(A)P(B) $$"
      ]
    },
    {
      "cell_type": "code",
      "metadata": {
        "id": "z8jBw_Vz_PAh",
        "outputId": "957647e5-b3cb-4fe8-bff4-a707473f519d"
      },
      "source": [
        "prob(A.intersection(B))"
      ],
      "execution_count": null,
      "outputs": [
        {
          "output_type": "execute_result",
          "data": {
            "text/plain": [
              "0.250"
            ]
          },
          "metadata": {
            "tags": []
          },
          "execution_count": 43
        }
      ]
    },
    {
      "cell_type": "code",
      "metadata": {
        "id": "SVzaXDl8_PAh",
        "outputId": "ce9fedd7-d5d7-4e55-d08d-6ab7031d2ce4"
      },
      "source": [
        "prob(A) * prob(B)"
      ],
      "execution_count": null,
      "outputs": [
        {
          "output_type": "execute_result",
          "data": {
            "text/plain": [
              "0.188"
            ]
          },
          "metadata": {
            "tags": []
          },
          "execution_count": 44
        }
      ]
    },
    {
      "cell_type": "markdown",
      "metadata": {
        "id": "YC8leTwj_PAh"
      },
      "source": [
        "prob(A.intersection(B)) $ \\neq $  prob(A) * prob(B) 이므로 두 사건은 독립이 아니다."
      ]
    },
    {
      "cell_type": "markdown",
      "metadata": {
        "id": "Lq2h3Ijz_PAh"
      },
      "source": [
        "두 사건의 독립여부를 판단하는 함수를 다음과 같이 생성한다."
      ]
    },
    {
      "cell_type": "code",
      "metadata": {
        "id": "FdyfSB37_PAh"
      },
      "source": [
        "def independant(X, Y):\n",
        "    return prob(X.intersection(Y)) == prob(X)*prob(Y)"
      ],
      "execution_count": null,
      "outputs": []
    },
    {
      "cell_type": "code",
      "metadata": {
        "id": "7i5KJZxS_PAi",
        "outputId": "fb93b4f0-ba20-46bc-80b4-fd2c64cd415f"
      },
      "source": [
        "independant(A, B)"
      ],
      "execution_count": null,
      "outputs": [
        {
          "output_type": "execute_result",
          "data": {
            "text/plain": [
              "False"
            ]
          },
          "metadata": {
            "tags": []
          },
          "execution_count": 46
        }
      ]
    },
    {
      "cell_type": "code",
      "metadata": {
        "id": "FSKYRieB_PAi"
      },
      "source": [
        "C = {c for c in coin if c[1] == 'H'} # 두번째 동전이 앞면인 사건"
      ],
      "execution_count": null,
      "outputs": []
    },
    {
      "cell_type": "code",
      "metadata": {
        "id": "NP_L5Hrr_PAi",
        "outputId": "af8e639f-ab68-4693-f0f5-6b16bccee155"
      },
      "source": [
        "independant(A, C)"
      ],
      "execution_count": null,
      "outputs": [
        {
          "output_type": "execute_result",
          "data": {
            "text/plain": [
              "True"
            ]
          },
          "metadata": {
            "tags": []
          },
          "execution_count": 48
        }
      ]
    },
    {
      "cell_type": "markdown",
      "metadata": {
        "id": "qTlAHQ4X_PAi"
      },
      "source": [
        "A사건(첫번째 동전이 뒷면인 사건)과 C사건(두번째 동전이 앞면인 사건)은 독립사건이다."
      ]
    },
    {
      "cell_type": "code",
      "metadata": {
        "id": "FdOE35D4_PAj"
      },
      "source": [
        ""
      ],
      "execution_count": null,
      "outputs": []
    }
  ]
}
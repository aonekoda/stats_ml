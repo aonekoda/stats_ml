{
 "cells": [
  {
   "cell_type": "markdown",
   "metadata": {
    "id": "ZUacpupTVSKE"
   },
   "source": [
    "# 연속형 확률 분포"
   ]
  },
  {
   "cell_type": "code",
   "execution_count": 1,
   "metadata": {
    "ExecuteTime": {
     "end_time": "2018-08-11T14:40:49.564080Z",
     "start_time": "2018-08-11T14:40:49.294680Z"
    },
    "id": "Xjap-vG9VSKH"
   },
   "outputs": [],
   "source": [
    "import numpy as np\n",
    "import matplotlib.pyplot as plt\n",
    "from scipy import stats, integrate\n",
    "from scipy.optimize import minimize_scalar\n",
    "\n",
    "%precision 3\n",
    "%matplotlib inline\n"
   ]
  },
  {
   "cell_type": "markdown",
   "metadata": {
    "id": "xnDYSnpNVSKI"
   },
   "source": [
    "연속확률분포의 성질을 확인하기 위하여 다음과 같은 함수를 생성한다. "
   ]
  },
  {
   "cell_type": "code",
   "execution_count": 2,
   "metadata": {
    "ExecuteTime": {
     "end_time": "2018-08-11T14:40:49.605993Z",
     "start_time": "2018-08-11T14:40:49.565532Z"
    },
    "id": "NUnwDTMoVSKJ"
   },
   "outputs": [],
   "source": [
    "linestyles = ['-', '--', ':']\n",
    "\n",
    "\n",
    "# 기대값함수\n",
    "def E(X, g=lambda x: x):\n",
    "    x_range, f = X\n",
    "    def integrand(x):\n",
    "        return g(x) * f(x)\n",
    "    return integrate.quad(integrand, -np.inf, np.inf)[0]\n",
    "\n",
    "# 분산함수\n",
    "def V(X, g=lambda x: x):\n",
    "    x_range, f = X\n",
    "    mean = E(X, g)\n",
    "    def integrand(x):\n",
    "        return (g(x) - mean) ** 2 * f(x)\n",
    "    return integrate.quad(integrand, -np.inf, np.inf)[0]\n",
    "\n",
    "# 확률변수가 확률의 성질을 만족하는지 확인하고 기대값과 분산을 리턴\n",
    "def check_prob(X):\n",
    "    x_range, f = X\n",
    "    f_min = minimize_scalar(f).fun\n",
    "    assert f_min >= 0, 'density function is minus value'\n",
    "    prob_sum = np.round(integrate.quad(f, -np.inf, np.inf)[0], 6)\n",
    "    assert prob_sum == 1, f'sum of probability is {prob_sum}'\n",
    "    print(f'expected vaue {E(X):.3f}')\n",
    "    print(f'variance {V(X):.3f}')\n",
    "    \n",
    "# 확률변수와 구간을 입력으로 받아 확률변수의 밀도함수와 분포함수를 그래프로 표시    \n",
    "def plot_prob(X, x_min, x_max):\n",
    "    x_range, f = X\n",
    "    def F(x):\n",
    "        return integrate.quad(f, -np.inf, x)[0]\n",
    "\n",
    "    xs = np.linspace(x_min, x_max, 100)\n",
    "\n",
    "    fig = plt.figure(figsize=(10, 6))\n",
    "    ax = fig.add_subplot(111)\n",
    "    ax.plot(xs, [f(x) for x in xs],\n",
    "            label='f(x)', color='gray')\n",
    "    ax.plot(xs, [F(x) for x in xs],\n",
    "            label='F(x)', ls='--', color='gray')\n",
    "\n",
    "    ax.legend()\n",
    "    plt.show()"
   ]
  },
  {
   "cell_type": "markdown",
   "metadata": {
    "id": "RhRd7eHZVSKK"
   },
   "source": [
    "# 정규분포\n",
    "\n",
    "대표적인 연속형 확률분포이다. 정규분포의 모수는 $\\mu, \\sigma^2$ 이다.\n",
    "\n",
    "$$ f(x) = \\frac{1}{\\sqrt{2\\pi\\sigma^2}}exp\\left( -\\frac{(x-\\mu)^2}{2\\sigma^2} \\right)$$\n",
    "\n",
    "\n",
    "numpy를 사용하여 정규분포를 다음과 같이 생성한다."
   ]
  },
  {
   "cell_type": "code",
   "execution_count": 3,
   "metadata": {
    "ExecuteTime": {
     "end_time": "2018-08-11T14:40:49.611086Z",
     "start_time": "2018-08-11T14:40:49.607370Z"
    },
    "id": "y8ehDb2mVSKK"
   },
   "outputs": [],
   "source": [
    "def N(mu, sigma):\n",
    "    x_range = [- np.inf, np.inf]\n",
    "    def f(x):\n",
    "        return 1 / np.sqrt(2 * np.pi * sigma**2) *\\\n",
    "                    np.exp(-(x-mu)**2 / (2 * sigma**2))\n",
    "    return x_range, f"
   ]
  },
  {
   "cell_type": "markdown",
   "metadata": {
    "id": "wOqlfENTVSKK"
   },
   "source": [
    "$N(2, 0.5^2)$을 따르는 확률변수 X는 다음과 같다."
   ]
  },
  {
   "cell_type": "code",
   "execution_count": 4,
   "metadata": {
    "ExecuteTime": {
     "end_time": "2018-08-11T14:40:49.615097Z",
     "start_time": "2018-08-11T14:40:49.612596Z"
    },
    "id": "3zk3znUgVSKL"
   },
   "outputs": [],
   "source": [
    "mu, sigma = 2, 0.5\n",
    "X = N(mu, sigma)"
   ]
  },
  {
   "cell_type": "code",
   "execution_count": 5,
   "metadata": {
    "ExecuteTime": {
     "end_time": "2018-08-11T14:40:49.623516Z",
     "start_time": "2018-08-11T14:40:49.616477Z"
    },
    "colab": {
     "base_uri": "https://localhost:8080/"
    },
    "id": "mQqbs06EVSKL",
    "outputId": "ab360ecd-bcbb-4873-a281-6a367177b45f"
   },
   "outputs": [
    {
     "name": "stdout",
     "output_type": "stream",
     "text": [
      "expected vaue 2.000\n",
      "variance 0.250\n"
     ]
    }
   ],
   "source": [
    "# 기대값과 분산\n",
    "check_prob(X)"
   ]
  },
  {
   "cell_type": "code",
   "execution_count": 6,
   "metadata": {
    "ExecuteTime": {
     "end_time": "2018-08-11T14:40:49.733482Z",
     "start_time": "2018-08-11T14:40:49.624900Z"
    },
    "colab": {
     "base_uri": "https://localhost:8080/",
     "height": 374
    },
    "id": "ByGkOADTVSKM",
    "outputId": "074abe5a-f28d-4767-cb97-df17b73d1f89"
   },
   "outputs": [
    {
     "data": {
      "image/png": "[encoded data removed]",
      "text/plain": [
       "<Figure size 720x432 with 1 Axes>"
      ]
     },
     "metadata": {
      "needs_background": "light"
     },
     "output_type": "display_data"
    }
   ],
   "source": [
    "# 0~4 사이 구간의 밀도함수와 누적분포함수\n",
    "plot_prob(X, 0, 4)"
   ]
  },
  {
   "cell_type": "markdown",
   "metadata": {
    "id": "zpFMUokrVSKN"
   },
   "source": [
    "## scipy.stats로 구현하기\n",
    "\n",
    "정규분포를 따르는 확률변수는 norm 함수로 생성할 수 있다. 첫번째 인수는 $\\mu$ 두번째 인수는 표준편차$\\sigma$를 지정한다. 각각 기본값이 0,1 이므로 아무것도 지정하지 않으면 표준정규분포를 따르는 확률변수를 생성한다."
   ]
  },
  {
   "cell_type": "code",
   "execution_count": 7,
   "metadata": {
    "ExecuteTime": {
     "end_time": "2018-08-11T14:40:49.737689Z",
     "start_time": "2018-08-11T14:40:49.735056Z"
    },
    "id": "-OF_0QfFVSKN"
   },
   "outputs": [],
   "source": [
    "rv = stats.norm(2, 0.5)"
   ]
  },
  {
   "cell_type": "code",
   "execution_count": 8,
   "metadata": {
    "ExecuteTime": {
     "end_time": "2018-08-11T14:40:49.741973Z",
     "start_time": "2018-08-11T14:40:49.738668Z"
    },
    "colab": {
     "base_uri": "https://localhost:8080/"
    },
    "id": "M5CYl8VDVSKO",
    "outputId": "389febed-0cd0-4486-9a82-d46d10c94398"
   },
   "outputs": [
    {
     "data": {
      "text/plain": [
       "(2.0, 0.25)"
      ]
     },
     "execution_count": 8,
     "metadata": {},
     "output_type": "execute_result"
    }
   ],
   "source": [
    "rv.mean(), rv.var() # 평균과 분산"
   ]
  },
  {
   "cell_type": "markdown",
   "metadata": {
    "id": "eIg_zmb2VSKO"
   },
   "source": [
    "####  pdf 메소드\n",
    "확률밀도함수는 pdf메소드로 계산할 수 있다.\n",
    "<img src = \"./images/pdf.png\" width=\"40%\">\n"
   ]
  },
  {
   "cell_type": "code",
   "execution_count": 9,
   "metadata": {
    "ExecuteTime": {
     "end_time": "2018-08-11T14:40:49.745679Z",
     "start_time": "2018-08-11T14:40:49.742957Z"
    },
    "colab": {
     "base_uri": "https://localhost:8080/"
    },
    "id": "Ym2h1EbwVSKO",
    "outputId": "c00137d7-0356-4f10-912e-a7adcb9c47bf"
   },
   "outputs": [
    {
     "data": {
      "text/plain": [
       "0.7978845608028654"
      ]
     },
     "execution_count": 9,
     "metadata": {},
     "output_type": "execute_result"
    }
   ],
   "source": [
    "rv.pdf(2) # PDF X=2 일때의 리턴값"
   ]
  },
  {
   "cell_type": "markdown",
   "metadata": {
    "id": "vO6enJ_MVSKP"
   },
   "source": [
    "#### cdf 메소드, 누적분포함수\n",
    "누적분포함수는 CDF 메서드로 계산할 수 있다.   \n",
    "$ P(X \\le x)$를 계산하는 함수이다. \n",
    "\n",
    "<img src = \"./images/cdf.png\" width=\"40%\">"
   ]
  },
  {
   "cell_type": "code",
   "execution_count": 10,
   "metadata": {
    "ExecuteTime": {
     "end_time": "2018-08-11T14:40:49.749453Z",
     "start_time": "2018-08-11T14:40:49.746706Z"
    },
    "colab": {
     "base_uri": "https://localhost:8080/"
    },
    "id": "voZSqXUSVSKP",
    "outputId": "f91bd37b-7db9-4b1c-f345-cd728ae381bf"
   },
   "outputs": [
    {
     "data": {
      "text/plain": [
       "0.27425311775007355"
      ]
     },
     "execution_count": 10,
     "metadata": {},
     "output_type": "execute_result"
    }
   ],
   "source": [
    "rv.cdf(1.7) # P(x<=1.7)"
   ]
  },
  {
   "cell_type": "markdown",
   "metadata": {
    "id": "IQgOZ-N5VSKP"
   },
   "source": [
    "#### ppf 메소드, percent point function \n",
    "\n",
    "데이터가 어떤 값 이하가 될 확률을 하측확률이라고 한다. 하측확률은 누적분포함수를 사용하여 구할 수 있다. 반대로 어떤 확률이 될 기준치를 퍼센트포인트라고 한다.  퍼센트 포인트 함수 ppf는 cdf의 역함수라고 할 수 있다. \n",
    "\n",
    "<img src = \"./images/ppf.png\" width=\"40%\">\n",
    "하측확률이 30%가 되는 지점의 퍼센트포인트는 다음과 같이 구할 수 있다. "
   ]
  },
  {
   "cell_type": "code",
   "execution_count": 11,
   "metadata": {
    "colab": {
     "base_uri": "https://localhost:8080/"
    },
    "id": "uRUFC-TjVSKP",
    "outputId": "e887ca50-dfff-4963-8d22-37c4d00466c5"
   },
   "outputs": [
    {
     "data": {
      "text/plain": [
       "1.7377997436459796"
      ]
     },
     "execution_count": 11,
     "metadata": {},
     "output_type": "execute_result"
    }
   ],
   "source": [
    "rv.ppf(0.3)"
   ]
  },
  {
   "cell_type": "markdown",
   "metadata": {
    "id": "dqjeJB7hVSKQ"
   },
   "source": [
    "하측확률과 퍼센트포인트는 다음과 같은 관계가 성립한다."
   ]
  },
  {
   "cell_type": "code",
   "execution_count": 12,
   "metadata": {
    "colab": {
     "base_uri": "https://localhost:8080/"
    },
    "id": "eBjowse4VSKQ",
    "outputId": "d1d77142-f427-4695-ea10-47297d2d803a"
   },
   "outputs": [
    {
     "data": {
      "text/plain": [
       "3.0000000000000004"
      ]
     },
     "execution_count": 12,
     "metadata": {},
     "output_type": "execute_result"
    }
   ],
   "source": [
    "lower = stats.norm.cdf(loc=4, scale=0.8, x=3) # P(x<=3) 3이하일 확률\n",
    "\n",
    "stats.norm.ppf(loc=4, scale=0.8, q=lower) # ppf는 cdf의 역함수, 확률이 다시 확률변수의 값으로 리턴"
   ]
  },
  {
   "cell_type": "markdown",
   "metadata": {
    "id": "7FCwdTuTVSKQ"
   },
   "source": [
    "#### isf 메소드, Inverse Survival function\n",
    "\n",
    "$P(X \\ge x) = \\alpha$를 만족하는 x값으로 그림에서 색이 칠해진 영역의 면적이 $\\alpha$일때 왼쪽 끝의 x좌표에 해당한다.\n",
    "<img src = \"./images/isf.png\" width=\"40%\">"
   ]
  },
  {
   "cell_type": "code",
   "execution_count": 13,
   "metadata": {
    "ExecuteTime": {
     "end_time": "2018-08-11T14:40:49.753482Z",
     "start_time": "2018-08-11T14:40:49.750532Z"
    },
    "colab": {
     "base_uri": "https://localhost:8080/"
    },
    "id": "u3mJgjU0VSKQ",
    "outputId": "f7c9ab8a-ebfb-434c-cfb4-605bd4fb3d87"
   },
   "outputs": [
    {
     "data": {
      "text/plain": [
       "2.2622002563540207"
      ]
     },
     "execution_count": 13,
     "metadata": {},
     "output_type": "execute_result"
    }
   ],
   "source": [
    "rv.isf(0.3) # 상위 30%에 해당하는 값"
   ]
  },
  {
   "cell_type": "markdown",
   "metadata": {
    "id": "x_ACyjVUVSKR"
   },
   "source": [
    "#### interval 메소드\n",
    "\n",
    "확률이 $\\alpha$가 되는 가운데 부분의 구간을 구할 수 있다.   \n",
    "그림에서 색이 칠해진 영역의 면적이 alpha가 되는 a와 b의 값을 구하는 것이다. \n",
    "<img src = \"./images/interval.png\" width=\"40%\">"
   ]
  },
  {
   "cell_type": "code",
   "execution_count": 14,
   "metadata": {
    "ExecuteTime": {
     "end_time": "2018-08-11T14:40:49.757444Z",
     "start_time": "2018-08-11T14:40:49.754480Z"
    },
    "colab": {
     "base_uri": "https://localhost:8080/"
    },
    "id": "A2tfMnGxVSKR",
    "outputId": "f4888362-fce6-471f-869a-9573350be5ed"
   },
   "outputs": [
    {
     "data": {
      "text/plain": [
       "(1.1775731865242636, 2.822426813475736)"
      ]
     },
     "execution_count": 14,
     "metadata": {},
     "output_type": "execute_result"
    }
   ],
   "source": [
    "rv.interval(0.9) # 90%에 해당하는 구간"
   ]
  },
  {
   "cell_type": "markdown",
   "metadata": {
    "id": "8GPGeIrTVSKR"
   },
   "source": [
    "오른쪽과 왼쪽에 5%씩 남아 있기 때문에 a, b의 값을 다음과 같이 구할 수도 있다."
   ]
  },
  {
   "cell_type": "code",
   "execution_count": 15,
   "metadata": {
    "ExecuteTime": {
     "end_time": "2018-08-11T14:40:49.761437Z",
     "start_time": "2018-08-11T14:40:49.758414Z"
    },
    "colab": {
     "base_uri": "https://localhost:8080/"
    },
    "id": "vRbEKbyAVSKR",
    "outputId": "380147ed-0e10-4233-ec96-a1f7e72a781e"
   },
   "outputs": [
    {
     "data": {
      "text/plain": [
       "(1.1775731865242638, 2.8224268134757367)"
      ]
     },
     "execution_count": 15,
     "metadata": {},
     "output_type": "execute_result"
    }
   ],
   "source": [
    "rv.isf(0.95), rv.isf(0.05)"
   ]
  },
  {
   "cell_type": "markdown",
   "metadata": {
    "id": "YTsngxRUVSKS"
   },
   "source": [
    "stats.norm을 사용하여 모수에 따라 정규분포의 형태가 어떻게 변화하는지 살펴보자.\n",
    "\n",
    "$\\sigma^2$이 커짐에 따라 분포가 넓어지고 $\\mu$가 변화하면 중심위치가 이동하는 것을 확인할 수 있다."
   ]
  },
  {
   "cell_type": "code",
   "execution_count": 16,
   "metadata": {
    "ExecuteTime": {
     "end_time": "2018-08-11T14:40:49.857068Z",
     "start_time": "2018-08-11T14:40:49.762445Z"
    },
    "colab": {
     "base_uri": "https://localhost:8080/",
     "height": 374
    },
    "id": "NUiU63RTVSKS",
    "outputId": "e2fd2e35-b195-4453-8075-ddc32af347b9"
   },
   "outputs": [
    {
     "data": {
      "image/png": "[encoded data removed]",
      "text/plain": [
       "<Figure size 720x432 with 1 Axes>"
      ]
     },
     "metadata": {
      "needs_background": "light"
     },
     "output_type": "display_data"
    }
   ],
   "source": [
    "fig = plt.figure(figsize=(10, 6))\n",
    "ax = fig.add_subplot(111)\n",
    "\n",
    "xs = np.linspace(-5, 5, 100)\n",
    "params = [(0, 1), (0, 2), (1, 1)]\n",
    "for param, ls in zip(params, linestyles):\n",
    "    mu, sigma = param\n",
    "    rv = stats.norm(mu, sigma)\n",
    "    ax.plot(xs, rv.pdf(xs),\n",
    "            label=f'N({mu}, {sigma**2})', ls=ls, color='gray')\n",
    "ax.legend()\n",
    "\n",
    "plt.show()"
   ]
  },
  {
   "cell_type": "markdown",
   "metadata": {
    "id": "-sLyM8OBxLwF"
   },
   "source": [
    "#### 정규 분포 예제\n",
    "\n",
    "한 회사의 건전지 수명은 평균이 110시간, 표준편차가 10인 정규분포를 따른다고 하자.\n",
    "* (1) 건전지 수명이 90시간 이하일 확률은?\n",
    "* (2) 건전지 수명이 100시간 이상, 115시간 이하일 확률은?\n",
    "* (3) 건전지 수명이 120시간 이상일 확률은?\n"
   ]
  },
  {
   "cell_type": "code",
   "execution_count": 17,
   "metadata": {
    "colab": {
     "base_uri": "https://localhost:8080/"
    },
    "id": "rQve6i6sxaer",
    "outputId": "5275a7a5-1dbd-42cc-f193-f7a283e095d8"
   },
   "outputs": [
    {
     "name": "stdout",
     "output_type": "stream",
     "text": [
      "건전지 수명이 90시간 이하일 확률은?  0.022750131948179195\n",
      "건전지 수명이 100시간 이상, 115시간 이하일 확률은?  0.532807207342556\n",
      "건전지 수명이 120시간 이상일 확률은?  0.15865525393145707\n"
     ]
    }
   ],
   "source": [
    "X = stats.norm(loc=110, scale=10)\n",
    "\n",
    "print('건전지 수명이 90시간 이하일 확률은? ', X.cdf(90))\n",
    "print('건전지 수명이 100시간 이상, 115시간 이하일 확률은? ', X.cdf(115)-X.cdf(100))\n",
    "print('건전지 수명이 120시간 이상일 확률은? ', 1-X.cdf(120))"
   ]
  },
  {
   "cell_type": "markdown",
   "metadata": {
    "id": "R09CqhuDVaK1"
   },
   "source": [
    "## 표준 정규 분포와 표준화\n",
    "\n",
    "표준 정규 분포란 평균이 0 이고 분산이 1인 정규 분포를 말한다. \n",
    "\n",
    "정규화란 일반적인 정규분포를 표준 정규 분포로 변환하는 것을 말한다. 표준정규분포는 보통 Z 라는 기호를 사용하여 나타낸다. \n",
    "\n",
    "$$ Z = \\dfrac{X - \\mu}{\\sigma} \\thicksim N(0,1)$$"
   ]
  },
  {
   "cell_type": "code",
   "execution_count": 18,
   "metadata": {
    "colab": {
     "base_uri": "https://localhost:8080/"
    },
    "id": "-LOZWtacZUIP",
    "outputId": "8297914a-848e-4955-eb31-a683c1ba7bc1"
   },
   "outputs": [
    {
     "name": "stdout",
     "output_type": "stream",
     "text": [
      "평균= 51.22685575956939  표준편차= 15.504695663267825\n"
     ]
    }
   ],
   "source": [
    "X = stats.norm(loc=50, scale=15).rvs(300)\n",
    "\n",
    "print('평균=', X.mean(), ' 표준편차=', X.std())"
   ]
  },
  {
   "cell_type": "code",
   "execution_count": 19,
   "metadata": {
    "colab": {
     "base_uri": "https://localhost:8080/"
    },
    "id": "fsIcrbWhm-x6",
    "outputId": "afe8eb1a-4479-4369-dd05-187a2d644990"
   },
   "outputs": [
    {
     "name": "stdout",
     "output_type": "stream",
     "text": [
      "평균= -3.671137468093851e-16  표준편차= 1.0\n"
     ]
    }
   ],
   "source": [
    "Z = (X - X.mean()) / X.std()\n",
    "print('평균=', Z.mean(), ' 표준편차=', Z.std())"
   ]
  },
  {
   "cell_type": "markdown",
   "metadata": {
    "id": "-W_GG72p0SuU"
   },
   "source": [
    "다음과 같은 함수를 작성하면 특정 정규 분포에서 표준화 점수(Z-score)를 확인할 수 있다. \n",
    "\n",
    "만약 예를 들어 한 고등학교 1학년 수학성적의 분포가 평균 50점이고 표준편차는 15점 일때 A 학생이 69점 맞았다면 표준화 점수는 1.267 이고 상위 10.264%에 해당하는 점수임을 알 수 있다. "
   ]
  },
  {
   "cell_type": "code",
   "execution_count": 20,
   "metadata": {
    "id": "JnRSZruUoV5o"
   },
   "outputs": [],
   "source": [
    "def Z(mean, std, score):\n",
    "    z = (score - mean)/std\n",
    "    percent = (1 - stats.norm(mean, std).cdf(score)) * 100\n",
    "    return z, percent\n"
   ]
  },
  {
   "cell_type": "code",
   "execution_count": 21,
   "metadata": {
    "colab": {
     "base_uri": "https://localhost:8080/"
    },
    "id": "bBMxBcb9otDn",
    "outputId": "aa6aea8c-646c-433e-eef5-c93247c0d674"
   },
   "outputs": [
    {
     "data": {
      "text/plain": [
       "(1.267, 10.263725183213579)"
      ]
     },
     "execution_count": 21,
     "metadata": {},
     "output_type": "execute_result"
    }
   ],
   "source": [
    "Z(50, 15, 69)"
   ]
  },
  {
   "cell_type": "markdown",
   "metadata": {
    "id": "6SPsXU0VVSKX"
   },
   "source": [
    "# 실습\n",
    "\n",
    "1. 확률변수 X가 평균이 70, 표준편차가 10인 정규분포를 따를때 다음의 확률을 구하시오.\n",
    "    \n",
    "    - P(X $\\le$ 94.3)\n",
    "    - P(X > 57.5)\n",
    "    - P(57.7 < X $\\le$ 94.3)"
   ]
  },
  {
   "cell_type": "code",
   "execution_count": null,
   "metadata": {},
   "outputs": [],
   "source": []
  }
 ],
 "metadata": {
  "colab": {
   "name": "정규분포.ipynb",
   "provenance": []
  },
  "kernelspec": {
   "display_name": "Python 3",
   "language": "python",
   "name": "python3"
  },
  "language_info": {
   "codemirror_mode": {
    "name": "ipython",
    "version": 3
   },
   "file_extension": ".py",
   "mimetype": "text/x-python",
   "name": "python",
   "nbconvert_exporter": "python",
   "pygments_lexer": "ipython3",
   "version": "3.9.5"
  },
  "toc": {
   "nav_menu": {},
   "number_sections": true,
   "sideBar": true,
   "skip_h1_title": false,
   "toc_cell": false,
   "toc_position": {},
   "toc_section_display": "block",
   "toc_window_display": false
  }
 },
 "nbformat": 4,
 "nbformat_minor": 1
}

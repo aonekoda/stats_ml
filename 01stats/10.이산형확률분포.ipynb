{
 "cells": [
  {
   "cell_type": "markdown",
   "metadata": {
    "id": "nep3nvkk5M7W"
   },
   "source": [
    "# 대표적인 이산형 확률분포"
   ]
  },
  {
   "cell_type": "code",
   "execution_count": 1,
   "metadata": {
    "ExecuteTime": {
     "end_time": "2018-08-11T04:29:52.526093Z",
     "start_time": "2018-08-11T04:29:52.243215Z"
    },
    "executionInfo": {
     "elapsed": 26,
     "status": "ok",
     "timestamp": 1621751282423,
     "user": {
      "displayName": "이선화",
      "photoUrl": "https://lh3.googleusercontent.com/a-/AOh14GiGEcSuxiespWUAaMC6eXljdm2fXmv29ZXuZ14n=s64",
      "userId": "08084686575025891086"
     },
     "user_tz": -540
    },
    "id": "HixV-5ak5M7k"
   },
   "outputs": [],
   "source": [
    "import numpy as np\n",
    "import matplotlib.pyplot as plt\n",
    "from scipy import stats\n",
    "\n",
    "%precision 3\n",
    "%matplotlib inline"
   ]
  },
  {
   "cell_type": "markdown",
   "metadata": {},
   "source": [
    "다양한 이산형 확률 분포를 소개한다.  \n",
    "이산형 확률분포의 성질을 이해하기 쉽도록 다음의 함수를 생성한다."
   ]
  },
  {
   "cell_type": "code",
   "execution_count": 2,
   "metadata": {
    "ExecuteTime": {
     "end_time": "2018-08-11T04:29:52.564269Z",
     "start_time": "2018-08-11T04:29:52.527251Z"
    },
    "executionInfo": {
     "elapsed": 314,
     "status": "ok",
     "timestamp": 1621751292197,
     "user": {
      "displayName": "이선화",
      "photoUrl": "https://lh3.googleusercontent.com/a-/AOh14GiGEcSuxiespWUAaMC6eXljdm2fXmv29ZXuZ14n=s64",
      "userId": "08084686575025891086"
     },
     "user_tz": -540
    },
    "id": "c2v_DsiF5M7o"
   },
   "outputs": [],
   "source": [
    "# 그래프 선의 종류\n",
    "linestyles = ['-', '--', ':']\n",
    "\n",
    "# 기대값 함수\n",
    "def E(X, g=lambda x: x):\n",
    "    x_set, f = X\n",
    "    return np.sum([g(x_k) * f(x_k) for x_k in x_set])\n",
    "\n",
    "# 분산 함수\n",
    "def V(X, g=lambda x: x):\n",
    "    x_set, f = X\n",
    "    mean = E(X, g)\n",
    "    return np.sum([(g(x_k)-mean)**2 * f(x_k) for x_k in x_set])\n",
    "\n",
    "# 확률변수가 확률의 성질을 만족하는지 확인한고 기대값과 분산을 계산\n",
    "def check_prob(X):\n",
    "    x_set, f = X\n",
    "    prob = np.array([f(x_k) for x_k in x_set])\n",
    "    assert np.all(prob >= 0), 'minus probability'\n",
    "    prob_sum = np.round(np.sum(prob), 6)\n",
    "    assert prob_sum == 1, f'sum of probability{prob_sum}'\n",
    "    print(f'expected value {E(X):.4}')\n",
    "    print(f'variance {(V(X)):.4}')\n",
    "\n",
    "# 확률함수와 기대값을 그림으로 표시\n",
    "def plot_prob(X):\n",
    "    x_set, f = X\n",
    "    prob = np.array([f(x_k) for x_k in x_set])\n",
    "    \n",
    "    fig = plt.figure(figsize=(10, 6))\n",
    "    ax = fig.add_subplot(111)\n",
    "    ax.bar(x_set, prob, label='prob')\n",
    "    ax.vlines(E(X), 0, 1, label='mean', colors='black')\n",
    "    ax.set_xticks(np.append(x_set, E(X)))\n",
    "    ax.set_ylim(0, prob.max()*1.2)\n",
    "    ax.legend()\n",
    "    \n",
    "    plt.show()"
   ]
  },
  {
   "cell_type": "markdown",
   "metadata": {
    "id": "cMrxxg_35M7s"
   },
   "source": [
    "## 베르누이 분포\n",
    "\n",
    "대표적인 이산형 분포로 확률변수가 취할 수 있는 값이 0 또는 1 밖에 없다. 베르누이 시행을 하여 1이 나오면 성공, 0이 나오면 실패라고 한다.\n",
    "\n",
    "$$ f(x) = p^x(1-p)^{(1-x)} , (x \\in \\{0,1\\})$$\n",
    "\n",
    "베르누이 분포를 numpy로 구현하면 다음과 같다."
   ]
  },
  {
   "cell_type": "code",
   "execution_count": 3,
   "metadata": {
    "ExecuteTime": {
     "end_time": "2018-08-11T04:29:52.569321Z",
     "start_time": "2018-08-11T04:29:52.565434Z"
    },
    "executionInfo": {
     "elapsed": 629,
     "status": "ok",
     "timestamp": 1621751735232,
     "user": {
      "displayName": "이선화",
      "photoUrl": "https://lh3.googleusercontent.com/a-/AOh14GiGEcSuxiespWUAaMC6eXljdm2fXmv29ZXuZ14n=s64",
      "userId": "08084686575025891086"
     },
     "user_tz": -540
    },
    "id": "3e3avE3p5M7t"
   },
   "outputs": [],
   "source": [
    "def Bern(p):\n",
    "    x_set = np.array([0, 1])\n",
    "    def f(x):\n",
    "        if x in x_set:\n",
    "            return p ** x * (1-p) ** (1-x)\n",
    "        else:\n",
    "            return 0\n",
    "    return x_set, f"
   ]
  },
  {
   "cell_type": "markdown",
   "metadata": {
    "id": "B027vgpR8Sqb"
   },
   "source": [
    "Bern(0.3) 분포를 따르는 확률분포 X를 작성하면 다음과 같다."
   ]
  },
  {
   "cell_type": "code",
   "execution_count": 4,
   "metadata": {
    "ExecuteTime": {
     "end_time": "2018-08-11T04:29:52.573425Z",
     "start_time": "2018-08-11T04:29:52.570272Z"
    },
    "executionInfo": {
     "elapsed": 333,
     "status": "ok",
     "timestamp": 1621751892283,
     "user": {
      "displayName": "이선화",
      "photoUrl": "https://lh3.googleusercontent.com/a-/AOh14GiGEcSuxiespWUAaMC6eXljdm2fXmv29ZXuZ14n=s64",
      "userId": "08084686575025891086"
     },
     "user_tz": -540
    },
    "id": "ycVMnj1B5M7u"
   },
   "outputs": [],
   "source": [
    "p = 0.3\n",
    "X = Bern(p)"
   ]
  },
  {
   "cell_type": "markdown",
   "metadata": {
    "id": "pK7NO01Y8saE"
   },
   "source": [
    "#### 베르누이 분포의 기대값과 분산\n",
    "X ~ Bern(p) 일때,\n",
    "$$ E(X) = p , \\qquad Var(X) = p(1-p) $$"
   ]
  },
  {
   "cell_type": "code",
   "execution_count": 5,
   "metadata": {
    "ExecuteTime": {
     "end_time": "2018-08-11T04:29:52.577547Z",
     "start_time": "2018-08-11T04:29:52.574372Z"
    },
    "colab": {
     "base_uri": "https://localhost:8080/"
    },
    "executionInfo": {
     "elapsed": 421,
     "status": "ok",
     "timestamp": 1621752231120,
     "user": {
      "displayName": "이선화",
      "photoUrl": "https://lh3.googleusercontent.com/a-/AOh14GiGEcSuxiespWUAaMC6eXljdm2fXmv29ZXuZ14n=s64",
      "userId": "08084686575025891086"
     },
     "user_tz": -540
    },
    "id": "0tAgFA9J5M7v",
    "outputId": "6d9d31eb-435e-4fb7-96de-fc40a4a53009"
   },
   "outputs": [
    {
     "name": "stdout",
     "output_type": "stream",
     "text": [
      "expected value 0.3\n",
      "variance 0.21\n"
     ]
    }
   ],
   "source": [
    "check_prob(X)"
   ]
  },
  {
   "cell_type": "markdown",
   "metadata": {
    "id": "HQ2RczPe9fNf"
   },
   "source": [
    "#### 베르누이 확률분포의 그래프 \n",
    "\n",
    "중앙의 세로선이 확률변수 X의 기대값을 나타낸다."
   ]
  },
  {
   "cell_type": "code",
   "execution_count": 6,
   "metadata": {
    "ExecuteTime": {
     "end_time": "2018-08-11T04:29:52.655382Z",
     "start_time": "2018-08-11T04:29:52.578567Z"
    },
    "colab": {
     "base_uri": "https://localhost:8080/",
     "height": 374
    },
    "executionInfo": {
     "elapsed": 656,
     "status": "ok",
     "timestamp": 1621752239618,
     "user": {
      "displayName": "이선화",
      "photoUrl": "https://lh3.googleusercontent.com/a-/AOh14GiGEcSuxiespWUAaMC6eXljdm2fXmv29ZXuZ14n=s64",
      "userId": "08084686575025891086"
     },
     "user_tz": -540
    },
    "id": "wCqt184B5M7z",
    "outputId": "518d2d9a-e24c-4f80-eea5-6722a9989f26",
    "scrolled": false
   },
   "outputs": [
    {
     "data": {
      "image/png": "[encoded data removed]",
      "text/plain": [
       "<Figure size 720x432 with 1 Axes>"
      ]
     },
     "metadata": {
      "needs_background": "light"
     },
     "output_type": "display_data"
    }
   ],
   "source": [
    "plot_prob(X)"
   ]
  },
  {
   "cell_type": "markdown",
   "metadata": {
    "id": "zx-_EfD893X0"
   },
   "source": [
    "## scipy.stat를 사용하여 구현하기\n",
    "\n",
    "SciPy('사이파이'라고 읽음)는 과학기술계산을 위한 Python 라이브러리이다.  \n",
    "scipy.stats 서브패키지는 여러가지 확률 분포 분석을 위한 기능을 제공한다.\n",
    "\n",
    "```\n",
    "X = stats.binom(10, 0.2) # Declare X to be a binomial random variable\n",
    "\n",
    "print(X.pmf(3))           # P(X = 3)\n",
    "print(X.cdf(4))           # P(X <= 4)\n",
    "print(X.mean())           # E[X]\n",
    "print(X.var())            # Var(X)\n",
    "print(X.std())            # Std(X)\n",
    "print(X.rvs())            # Get a random sample from X\n",
    "print(X.rvs(10))          # Get 10 random samples form X\n",
    "```"
   ]
  },
  {
   "cell_type": "code",
   "execution_count": 45,
   "metadata": {
    "id": "h23l8p8SFmEs"
   },
   "outputs": [],
   "source": [
    "p = 0.3"
   ]
  },
  {
   "cell_type": "code",
   "execution_count": 46,
   "metadata": {
    "ExecuteTime": {
     "end_time": "2018-08-11T04:29:52.659593Z",
     "start_time": "2018-08-11T04:29:52.656761Z"
    },
    "executionInfo": {
     "elapsed": 617,
     "status": "ok",
     "timestamp": 1621752210097,
     "user": {
      "displayName": "이선화",
      "photoUrl": "https://lh3.googleusercontent.com/a-/AOh14GiGEcSuxiespWUAaMC6eXljdm2fXmv29ZXuZ14n=s64",
      "userId": "08084686575025891086"
     },
     "user_tz": -540
    },
    "id": "FCJPdByH5M72"
   },
   "outputs": [],
   "source": [
    "rv = stats.bernoulli(p)    # 베르누이 확률변수를 선언"
   ]
  },
  {
   "cell_type": "code",
   "execution_count": 47,
   "metadata": {
    "ExecuteTime": {
     "end_time": "2018-08-11T04:29:52.664760Z",
     "start_time": "2018-08-11T04:29:52.660932Z"
    },
    "id": "2D5KCrEE5M73",
    "outputId": "7332e798-8fc4-402d-9217-fa1f6a3f09c1"
   },
   "outputs": [
    {
     "data": {
      "text/plain": [
       "(0.7, 0.3)"
      ]
     },
     "execution_count": 47,
     "metadata": {},
     "output_type": "execute_result"
    }
   ],
   "source": [
    "rv.pmf(0), rv.pmf(1)       # P(X=0), P(X=1)"
   ]
  },
  {
   "cell_type": "code",
   "execution_count": 48,
   "metadata": {
    "ExecuteTime": {
     "end_time": "2018-08-11T04:29:52.670243Z",
     "start_time": "2018-08-11T04:29:52.666156Z"
    },
    "id": "GON4aGWp5M75",
    "outputId": "46e96a83-5ab6-4cba-b0b3-ab39c4708593"
   },
   "outputs": [
    {
     "data": {
      "text/plain": [
       "array([0.7, 0.3])"
      ]
     },
     "execution_count": 48,
     "metadata": {},
     "output_type": "execute_result"
    }
   ],
   "source": [
    "rv.pmf([0, 1])"
   ]
  },
  {
   "cell_type": "code",
   "execution_count": 49,
   "metadata": {
    "ExecuteTime": {
     "end_time": "2018-08-11T04:29:52.676172Z",
     "start_time": "2018-08-11T04:29:52.671550Z"
    },
    "id": "pGYMqKLf5M76",
    "outputId": "ee3e986d-fff3-4eb8-b36b-c321757da8c1"
   },
   "outputs": [
    {
     "data": {
      "text/plain": [
       "array([0.7, 1. ])"
      ]
     },
     "execution_count": 49,
     "metadata": {},
     "output_type": "execute_result"
    }
   ],
   "source": [
    "rv.cdf([0, 1])             # 누적밀도함수를 계산"
   ]
  },
  {
   "cell_type": "code",
   "execution_count": 50,
   "metadata": {
    "ExecuteTime": {
     "end_time": "2018-08-11T04:29:52.680896Z",
     "start_time": "2018-08-11T04:29:52.677529Z"
    },
    "id": "v5FBv9eB5M78",
    "outputId": "3fbff24b-2c2b-4e34-a92a-83c478a5f61c"
   },
   "outputs": [
    {
     "data": {
      "text/plain": [
       "(0.3, 0.21)"
      ]
     },
     "execution_count": 50,
     "metadata": {},
     "output_type": "execute_result"
    }
   ],
   "source": [
    "rv.mean(), rv.var()        # 기대값과 분산을 계산"
   ]
  },
  {
   "cell_type": "code",
   "execution_count": 62,
   "metadata": {},
   "outputs": [
    {
     "data": {
      "text/plain": [
       "array([0, 0, 0, 1, 1, 0, 0, 0, 0, 0])"
      ]
     },
     "execution_count": 62,
     "metadata": {},
     "output_type": "execute_result"
    }
   ],
   "source": [
    "rv.rvs(10) # 해당 분포에서 임의로 10개를 샘플링함"
   ]
  },
  {
   "cell_type": "code",
   "execution_count": null,
   "metadata": {},
   "outputs": [],
   "source": []
  },
  {
   "cell_type": "markdown",
   "metadata": {
    "id": "E_zQOiP25M79"
   },
   "source": [
    "## 이항분포\n",
    "\n",
    "동일한 성공확률을 가진 베르누이 시행을 독립적으로 반복하여 실시할 때의 ‘X =성공횟수’의 분포를 이항분포(binomial distribution)라 한다.\n",
    "\n",
    "성공확류 p와 시행횟수 n이 모수이다. \n",
    "\n",
    "$$ f(x) = _{n}\\mathrm{C}_{x} p^x(1-p)^{(n-x)} \\qquad (x \\in \\{0,1,2,...,n\\}) $$\n",
    "\n",
    "이때 기호 $ _{n}\\mathrm{C}_{x}$는 combination으로 n개의 서로 다른 것 중에서 x개를 고를 수 있는 조합의 수이다.   $  _{n}\\mathrm{C}_{x} = \\frac{n!}{x!(n-x)!}$\n",
    "\n",
    "이항분포의 평균 E(X) = np, 분산은 Var(X) = np(1-p) 이다."
   ]
  },
  {
   "cell_type": "code",
   "execution_count": 14,
   "metadata": {
    "ExecuteTime": {
     "end_time": "2018-08-11T04:29:52.688424Z",
     "start_time": "2018-08-11T04:29:52.682189Z"
    },
    "id": "jdN_GNT05M7-"
   },
   "outputs": [],
   "source": [
    "from scipy.special import comb\n",
    "\n",
    "def Bin(n, p):\n",
    "    x_set = np.arange(n+1)\n",
    "    def f(x):\n",
    "        if x in x_set:\n",
    "            return comb(n, x) * p**x * (1-p)**(n-x)\n",
    "        else:\n",
    "            return 0\n",
    "    return x_set, f"
   ]
  },
  {
   "cell_type": "markdown",
   "metadata": {},
   "source": [
    "동전을 10회 던져 앞면이 3번 나오는 확률은?"
   ]
  },
  {
   "cell_type": "code",
   "execution_count": 15,
   "metadata": {
    "ExecuteTime": {
     "end_time": "2018-08-11T04:29:52.692070Z",
     "start_time": "2018-08-11T04:29:52.689659Z"
    },
    "id": "E25CXoql5M7_"
   },
   "outputs": [],
   "source": [
    "n = 10\n",
    "p = 0.5\n",
    "X = Bin(n, p)"
   ]
  },
  {
   "cell_type": "code",
   "execution_count": 16,
   "metadata": {},
   "outputs": [
    {
     "data": {
      "text/plain": [
       "0.1171875"
      ]
     },
     "execution_count": 16,
     "metadata": {},
     "output_type": "execute_result"
    }
   ],
   "source": [
    "X[1](3) # 동전을 10회 던져 앞면이 3번 나오는 확률 = 15/128"
   ]
  },
  {
   "cell_type": "code",
   "execution_count": 17,
   "metadata": {
    "ExecuteTime": {
     "end_time": "2018-08-11T04:29:52.696902Z",
     "start_time": "2018-08-11T04:29:52.693401Z"
    },
    "id": "ofAKaoQM5M8M",
    "outputId": "13c272a8-98bc-49ed-a4d2-0746a8de1d25"
   },
   "outputs": [
    {
     "name": "stdout",
     "output_type": "stream",
     "text": [
      "expected value 5.0\n",
      "variance 2.5\n"
     ]
    }
   ],
   "source": [
    "check_prob(X)"
   ]
  },
  {
   "cell_type": "code",
   "execution_count": 18,
   "metadata": {
    "ExecuteTime": {
     "end_time": "2018-08-11T04:29:52.816191Z",
     "start_time": "2018-08-11T04:29:52.698235Z"
    },
    "id": "yZJ8w6Lf5M8O",
    "outputId": "2a4ab522-e7b6-4e80-bc07-17f81ca4b7de"
   },
   "outputs": [
    {
     "data": {
      "image/png": "[encoded data removed]",
      "text/plain": [
       "<Figure size 720x432 with 1 Axes>"
      ]
     },
     "metadata": {
      "needs_background": "light"
     },
     "output_type": "display_data"
    }
   ],
   "source": [
    "plot_prob(X)"
   ]
  },
  {
   "cell_type": "markdown",
   "metadata": {},
   "source": [
    "scipy.stats 에서 이항분포의 확률변수는 `binom 함수`로 생성한다.  \n",
    "n을 10으로 고정하고 p를 0.3, 0.5, 0.7 로 변화시켜 이항분포가 어떤 형태가 되는지 살며보자."
   ]
  },
  {
   "cell_type": "code",
   "execution_count": 19,
   "metadata": {
    "ExecuteTime": {
     "end_time": "2018-08-11T04:29:52.923246Z",
     "start_time": "2018-08-11T04:29:52.817283Z"
    },
    "id": "yanDVKT15M8P",
    "outputId": "a04575ab-145b-4cb5-9b31-139b862fe358"
   },
   "outputs": [
    {
     "data": {
      "image/png": "[encoded data removed]",
      "text/plain": [
       "<Figure size 720x432 with 1 Axes>"
      ]
     },
     "metadata": {
      "needs_background": "light"
     },
     "output_type": "display_data"
    }
   ],
   "source": [
    "fig = plt.figure(figsize=(10, 6))\n",
    "ax = fig.add_subplot(111)\n",
    "\n",
    "x_set = np.arange(n+1)\n",
    "for p, ls in zip([0.3, 0.5, 0.7], linestyles):\n",
    "    rv = stats.binom(n, p)\n",
    "    ax.plot(x_set, rv.pmf(x_set),\n",
    "            label=f'p:{p}', ls=ls, color='gray')\n",
    "ax.set_xticks(x_set)\n",
    "ax.legend()\n",
    "\n",
    "plt.show()"
   ]
  },
  {
   "cell_type": "markdown",
   "metadata": {},
   "source": [
    "## 초기하분포\n",
    "\n",
    "초기하분포(Hypergeometric distribution)란 비복원추출에서 N개 중에 n번 추출했을때 원하는 것 x개가 뽑힐 확률의 분포이다.\n",
    "\n",
    "$$ f(x) = \\frac{{D \\choose x}{N-D \\choose n-x}}{{N \\choose n}}  \\qquad (x \\in \\{0,1,2,...,n\\})$$\n",
    "\n",
    "초기하분포의 평균 E(X) = np, 분산은 $ Var(X)= np(1-p)\\frac{N-n}{N-1}$\n",
    "\n",
    "20 마리의 동물 모음이 있다고 가정 해 보자. 그 중 7 마리는 개이다. 그런 다음 20 마리 중 무작위로 12 마리를 선택하면 주어진 개수의 개를 찾을 확률을 알고 싶다."
   ]
  },
  {
   "cell_type": "code",
   "execution_count": 20,
   "metadata": {},
   "outputs": [],
   "source": [
    "from scipy.stats import hypergeom\n",
    "\n",
    "[M, n, N] = [20, 7, 12]  # 20마리중 7마리는 개. 이중 12마리를 선택할때 x마리의 개를 뽑을 확률\n",
    "rv = hypergeom(M, n, N)\n",
    "x = np.arange(0, n+1)\n",
    "pmf_dogs = rv.pmf(x)"
   ]
  },
  {
   "cell_type": "code",
   "execution_count": 21,
   "metadata": {},
   "outputs": [
    {
     "data": {
      "image/png": "[encoded data removed]",
      "text/plain": [
       "<Figure size 432x288 with 1 Axes>"
      ]
     },
     "metadata": {
      "needs_background": "light"
     },
     "output_type": "display_data"
    }
   ],
   "source": [
    "fig = plt.figure()\n",
    "ax = fig.add_subplot(111)\n",
    "ax.plot(x, pmf_dogs, 'bo')\n",
    "ax.vlines(x, 0, pmf_dogs, lw=2)\n",
    "ax.set_xlabel('# of dogs in our group of chosen animals')\n",
    "ax.set_ylabel('hypergeom PMF')\n",
    "plt.show()"
   ]
  },
  {
   "cell_type": "markdown",
   "metadata": {
    "id": "IMjMveuJ5M8X"
   },
   "source": [
    "## 포아송 분포\n",
    "\n",
    "단위시간 동안 혹은 단위공간에서 어떤 사건이 발생하는 횟수를 나타내는 확률분포이다.  \n",
    "\n",
    "$$ f(x) = \\frac{e^{-\\lambda}\\lambda^x}{x!} \\qquad x= 1,2,3...$$\n",
    "\n",
    "이때 $\\lambda$ 는 평균 출현 횟수이다.\n",
    "\n",
    "포아송 분포의 기대값 E(X) = $\\lambda$, 분산 Var(X) = $\\lambda$ 이다."
   ]
  },
  {
   "cell_type": "code",
   "execution_count": 22,
   "metadata": {
    "ExecuteTime": {
     "end_time": "2018-08-11T04:29:53.289297Z",
     "start_time": "2018-08-11T04:29:53.284830Z"
    },
    "id": "ofQI7W_W5M8X"
   },
   "outputs": [],
   "source": [
    "from scipy.special import factorial\n",
    "\n",
    "def Poi(lam):\n",
    "    x_set = np.arange(20)\n",
    "    def f(x):\n",
    "        if x in x_set:\n",
    "            return np.power(lam, x) / factorial(x) * np.exp(-lam)\n",
    "        else:\n",
    "            return 0\n",
    "    return x_set, f"
   ]
  },
  {
   "cell_type": "markdown",
   "metadata": {},
   "source": [
    "하루 평균 3건의 교통사고가 발생하는 지역의 포아송 분포는 다음과 같다."
   ]
  },
  {
   "cell_type": "code",
   "execution_count": 23,
   "metadata": {
    "ExecuteTime": {
     "end_time": "2018-08-11T04:29:53.295486Z",
     "start_time": "2018-08-11T04:29:53.290292Z"
    },
    "id": "58OAB73c5M8Y"
   },
   "outputs": [],
   "source": [
    "lam = 3\n",
    "X = Poi(lam)"
   ]
  },
  {
   "cell_type": "code",
   "execution_count": 24,
   "metadata": {
    "ExecuteTime": {
     "end_time": "2018-08-11T04:29:53.302299Z",
     "start_time": "2018-08-11T04:29:53.296503Z"
    },
    "id": "MCgLqG-T5M8Z",
    "outputId": "09c984bb-c0e0-4ec4-ac6a-b3281b77d3be"
   },
   "outputs": [
    {
     "name": "stdout",
     "output_type": "stream",
     "text": [
      "expected value 3.0\n",
      "variance 3.0\n"
     ]
    }
   ],
   "source": [
    "check_prob(X)"
   ]
  },
  {
   "cell_type": "code",
   "execution_count": 25,
   "metadata": {
    "ExecuteTime": {
     "end_time": "2018-08-11T04:29:53.451672Z",
     "start_time": "2018-08-11T04:29:53.303359Z"
    },
    "id": "jmTxcoM55M8a",
    "outputId": "169c32d0-c948-4cee-f749-8163a3c5abf7"
   },
   "outputs": [
    {
     "data": {
      "image/png": "[encoded data removed]",
      "text/plain": [
       "<Figure size 720x432 with 1 Axes>"
      ]
     },
     "metadata": {
      "needs_background": "light"
     },
     "output_type": "display_data"
    }
   ],
   "source": [
    "plot_prob(X)"
   ]
  },
  {
   "cell_type": "markdown",
   "metadata": {},
   "source": [
    "scipy.stats에서 포아송 분포는 poisson 함수로 생성할 수 있다. 이때 $\\lambda$를 3,5,8로 변화할 때 포아송 분포의 형태가 어떻게 될지 그래프로 나타낸다. $\\lambda$가 커질수록 경사면이 완만해 진다."
   ]
  },
  {
   "cell_type": "code",
   "execution_count": 26,
   "metadata": {
    "ExecuteTime": {
     "end_time": "2018-08-11T04:29:53.580909Z",
     "start_time": "2018-08-11T04:29:53.453029Z"
    },
    "id": "IRZ8yT8Q5M8c",
    "outputId": "ebea39fe-f4a9-49e7-ea5c-69567ecbaa51"
   },
   "outputs": [
    {
     "data": {
      "image/png": "[encoded data removed]",
      "text/plain": [
       "<Figure size 720x432 with 1 Axes>"
      ]
     },
     "metadata": {
      "needs_background": "light"
     },
     "output_type": "display_data"
    }
   ],
   "source": [
    "fig = plt.figure(figsize=(10, 6))\n",
    "ax = fig.add_subplot(111)\n",
    "\n",
    "x_set = np.arange(20)\n",
    "for lam, ls in zip([3, 5, 8], linestyles):\n",
    "    rv = stats.poisson(lam)\n",
    "    ax.plot(x_set, rv.pmf(x_set),\n",
    "            label=f'lam:{lam}', ls=ls, color='gray')\n",
    "ax.set_xticks(x_set)\n",
    "ax.legend()\n",
    "\n",
    "plt.show()"
   ]
  },
  {
   "cell_type": "markdown",
   "metadata": {
    "id": "gBnTfXXf5M8d"
   },
   "source": [
    "# 실습\n",
    "\n",
    "1. 복권의 당첨률이 30% 라고 한다. 복권을 8장 구입했다. 이항분포로 다음의 확률을 구하시오.\n",
    "    - 4장이 당첨될 확률은? ($P=4$)\n",
    "    - 3장에서 7장 당첨될 확률은? ( $P(3\\le X \\le 7$ )\n",
    "    - 6장 이상 당첨될 확률은? ( $P \\ge 6$ )"
   ]
  },
  {
   "cell_type": "code",
   "execution_count": null,
   "metadata": {},
   "outputs": [],
   "source": []
  }
 ],
 "metadata": {
  "colab": {
   "collapsed_sections": [],
   "name": "이산형확률분포.ipynb",
   "provenance": []
  },
  "kernelspec": {
   "display_name": "Python 3",
   "language": "python",
   "name": "python3"
  },
  "language_info": {
   "codemirror_mode": {
    "name": "ipython",
    "version": 3
   },
   "file_extension": ".py",
   "mimetype": "text/x-python",
   "name": "python",
   "nbconvert_exporter": "python",
   "pygments_lexer": "ipython3",
   "version": "3.9.5"
  },
  "toc": {
   "nav_menu": {},
   "number_sections": true,
   "sideBar": true,
   "skip_h1_title": false,
   "toc_cell": false,
   "toc_position": {},
   "toc_section_display": "block",
   "toc_window_display": false
  }
 },
 "nbformat": 4,
 "nbformat_minor": 1
}

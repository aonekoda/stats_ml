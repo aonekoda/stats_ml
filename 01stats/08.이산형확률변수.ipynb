{
 "cells": [
  {
   "cell_type": "markdown",
   "metadata": {
    "id": "no_39fOjI81c"
   },
   "source": [
    "# 이산형 확률분포"
   ]
  },
  {
   "cell_type": "markdown",
   "metadata": {
    "id": "_Vy_MhL9I81h"
   },
   "source": [
    "## 이산형 확률분포"
   ]
  },
  {
   "cell_type": "code",
   "execution_count": 1,
   "metadata": {
    "ExecuteTime": {
     "end_time": "2018-08-07T04:43:23.771523Z",
     "start_time": "2018-08-07T04:43:23.575758Z"
    },
    "executionInfo": {
     "elapsed": 33,
     "status": "ok",
     "timestamp": 1621671407212,
     "user": {
      "displayName": "이선화",
      "photoUrl": "https://lh3.googleusercontent.com/a-/AOh14GiGEcSuxiespWUAaMC6eXljdm2fXmv29ZXuZ14n=s64",
      "userId": "08084686575025891086"
     },
     "user_tz": -540
    },
    "id": "BFtgZK0EI81j"
   },
   "outputs": [],
   "source": [
    "import numpy as np\n",
    "import matplotlib.pyplot as plt\n",
    "\n",
    "%precision 3\n",
    "%matplotlib inline\n"
   ]
  },
  {
   "cell_type": "markdown",
   "metadata": {
    "id": "37cZ8XGcI81u"
   },
   "source": [
    "### 이산확률분포의 정의\n",
    "불공정한 주사위는 다음의 확률 분포를 따른다.\n",
    "\n",
    "|눈 |1 | 2 | 3 | 4 | 5 | 6 |\n",
    "|---|---|---|---|---|---|---|\n",
    "|확률|1/21|2/21|3/21|4/21|5/21|6/21|\n",
    "\n",
    "확률변수를 다음과 같이 구현한다."
   ]
  },
  {
   "cell_type": "code",
   "execution_count": 2,
   "metadata": {
    "ExecuteTime": {
     "end_time": "2018-08-07T04:43:23.775156Z",
     "start_time": "2018-08-07T04:43:23.772847Z"
    },
    "executionInfo": {
     "elapsed": 519,
     "status": "ok",
     "timestamp": 1621672098658,
     "user": {
      "displayName": "이선화",
      "photoUrl": "https://lh3.googleusercontent.com/a-/AOh14GiGEcSuxiespWUAaMC6eXljdm2fXmv29ZXuZ14n=s64",
      "userId": "08084686575025891086"
     },
     "user_tz": -540
    },
    "id": "7MTenKYjI81v"
   },
   "outputs": [],
   "source": [
    "x_set = np.array([1, 2, 3, 4, 5, 6])"
   ]
  },
  {
   "cell_type": "code",
   "execution_count": 3,
   "metadata": {
    "ExecuteTime": {
     "end_time": "2018-08-07T04:43:23.779344Z",
     "start_time": "2018-08-07T04:43:23.776685Z"
    },
    "executionInfo": {
     "elapsed": 23,
     "status": "ok",
     "timestamp": 1621672099784,
     "user": {
      "displayName": "이선화",
      "photoUrl": "https://lh3.googleusercontent.com/a-/AOh14GiGEcSuxiespWUAaMC6eXljdm2fXmv29ZXuZ14n=s64",
      "userId": "08084686575025891086"
     },
     "user_tz": -540
    },
    "id": "M-kRwv2NI813"
   },
   "outputs": [],
   "source": [
    "def f(x):\n",
    "    if x in x_set:\n",
    "        return x / 21\n",
    "    else:\n",
    "        return 0"
   ]
  },
  {
   "cell_type": "code",
   "execution_count": 4,
   "metadata": {
    "ExecuteTime": {
     "end_time": "2018-08-07T04:43:23.783380Z",
     "start_time": "2018-08-07T04:43:23.780556Z"
    },
    "executionInfo": {
     "elapsed": 17,
     "status": "ok",
     "timestamp": 1621672100458,
     "user": {
      "displayName": "이선화",
      "photoUrl": "https://lh3.googleusercontent.com/a-/AOh14GiGEcSuxiespWUAaMC6eXljdm2fXmv29ZXuZ14n=s64",
      "userId": "08084686575025891086"
     },
     "user_tz": -540
    },
    "id": "qD_DGlQVI814"
   },
   "outputs": [],
   "source": [
    "# 확률변수가 취할 수 있는 값의 집합과 확률변수의 세트가 확률분포이다. \n",
    "X = [x_set, f]"
   ]
  },
  {
   "cell_type": "markdown",
   "metadata": {
    "id": "zkuK3P5nMZdW"
   },
   "source": [
    "확률변수로부터 확률을 구할 수 있다. 확률변수와 확률을 dictionary 형태로 표시한다."
   ]
  },
  {
   "cell_type": "code",
   "execution_count": 5,
   "metadata": {
    "ExecuteTime": {
     "end_time": "2018-08-07T04:43:23.795835Z",
     "start_time": "2018-08-07T04:43:23.784515Z"
    },
    "colab": {
     "base_uri": "https://localhost:8080/"
    },
    "executionInfo": {
     "elapsed": 31,
     "status": "ok",
     "timestamp": 1621671407222,
     "user": {
      "displayName": "이선화",
      "photoUrl": "https://lh3.googleusercontent.com/a-/AOh14GiGEcSuxiespWUAaMC6eXljdm2fXmv29ZXuZ14n=s64",
      "userId": "08084686575025891086"
     },
     "user_tz": -540
    },
    "id": "7Rx5r2nMI815",
    "outputId": "85e7dd09-2437-4067-c908-5b7e7d07a18f"
   },
   "outputs": [
    {
     "data": {
      "text/plain": [
       "{1: 0.047619047619047616,\n",
       " 2: 0.09523809523809523,\n",
       " 3: 0.14285714285714285,\n",
       " 4: 0.19047619047619047,\n",
       " 5: 0.23809523809523808,\n",
       " 6: 0.2857142857142857}"
      ]
     },
     "execution_count": 5,
     "metadata": {},
     "output_type": "execute_result"
    }
   ],
   "source": [
    "# 확률 p_k를 구한다\n",
    "prob = np.array([f(x_k) for x_k in x_set])\n",
    "# x_k와 p_k의 대응을 사전식으로 표시\n",
    "dict(zip(x_set, prob))"
   ]
  },
  {
   "cell_type": "code",
   "execution_count": 6,
   "metadata": {
    "ExecuteTime": {
     "end_time": "2018-08-07T04:43:23.911086Z",
     "start_time": "2018-08-07T04:43:23.796855Z"
    },
    "colab": {
     "base_uri": "https://localhost:8080/",
     "height": 392
    },
    "executionInfo": {
     "elapsed": 840,
     "status": "ok",
     "timestamp": 1621671413241,
     "user": {
      "displayName": "이선화",
      "photoUrl": "https://lh3.googleusercontent.com/a-/AOh14GiGEcSuxiespWUAaMC6eXljdm2fXmv29ZXuZ14n=s64",
      "userId": "08084686575025891086"
     },
     "user_tz": -540
    },
    "id": "2i0TikxSI81-",
    "outputId": "6dd7fb5f-b742-4d7d-e278-64c07526ddab"
   },
   "outputs": [
    {
     "data": {
      "image/png": "[encoded data removed]",
      "text/plain": [
       "<Figure size 720x432 with 1 Axes>"
      ]
     },
     "metadata": {
      "needs_background": "light"
     },
     "output_type": "display_data"
    }
   ],
   "source": [
    "fig = plt.figure(figsize=(10, 6))\n",
    "ax = fig.add_subplot(111)\n",
    "ax.bar(x_set, prob)\n",
    "ax.set_xlabel('value')\n",
    "ax.set_ylabel('probability')\n",
    "\n",
    "plt.show()"
   ]
  },
  {
   "cell_type": "markdown",
   "metadata": {
    "id": "CQCIjARXMmbA"
   },
   "source": [
    "### 이산형 확률 분포의 성질\n",
    "확률은 0 ~ 1 사이이 값을 가진다.  \n",
    "확률의 총합은 1이다. "
   ]
  },
  {
   "cell_type": "code",
   "execution_count": 7,
   "metadata": {
    "ExecuteTime": {
     "end_time": "2018-08-07T04:43:23.915961Z",
     "start_time": "2018-08-07T04:43:23.912531Z"
    },
    "colab": {
     "base_uri": "https://localhost:8080/"
    },
    "executionInfo": {
     "elapsed": 17,
     "status": "ok",
     "timestamp": 1621671425927,
     "user": {
      "displayName": "이선화",
      "photoUrl": "https://lh3.googleusercontent.com/a-/AOh14GiGEcSuxiespWUAaMC6eXljdm2fXmv29ZXuZ14n=s64",
      "userId": "08084686575025891086"
     },
     "user_tz": -540
    },
    "id": "a0tR5hkyI82W",
    "outputId": "12b93102-bba5-4ffb-d31f-92ce6da16082"
   },
   "outputs": [
    {
     "data": {
      "text/plain": [
       "True"
      ]
     },
     "execution_count": 7,
     "metadata": {},
     "output_type": "execute_result"
    }
   ],
   "source": [
    "np.all(prob >= 0)"
   ]
  },
  {
   "cell_type": "code",
   "execution_count": 8,
   "metadata": {
    "ExecuteTime": {
     "end_time": "2018-08-07T04:43:23.920725Z",
     "start_time": "2018-08-07T04:43:23.917448Z"
    },
    "colab": {
     "base_uri": "https://localhost:8080/"
    },
    "executionInfo": {
     "elapsed": 32,
     "status": "ok",
     "timestamp": 1621671427695,
     "user": {
      "displayName": "이선화",
      "photoUrl": "https://lh3.googleusercontent.com/a-/AOh14GiGEcSuxiespWUAaMC6eXljdm2fXmv29ZXuZ14n=s64",
      "userId": "08084686575025891086"
     },
     "user_tz": -540
    },
    "id": "D_pPbM6RI82Y",
    "outputId": "18ec8055-be03-4e1c-ed80-7880887e809b"
   },
   "outputs": [
    {
     "data": {
      "text/plain": [
       "0.9999999999999999"
      ]
     },
     "execution_count": 8,
     "metadata": {},
     "output_type": "execute_result"
    }
   ],
   "source": [
    "np.sum(prob)"
   ]
  },
  {
   "cell_type": "markdown",
   "metadata": {
    "id": "EBfnKPTyM9sp"
   },
   "source": [
    "### 누적분포 함수 \n",
    "확률변수 X가 x 이하가 될 확률을 반환한다.\n",
    "$$ F(x) = P(X \\le x ) = \\sum_{ x_i\\le x}P(x)$$"
   ]
  },
  {
   "cell_type": "code",
   "execution_count": 9,
   "metadata": {
    "ExecuteTime": {
     "end_time": "2018-08-07T04:43:23.924982Z",
     "start_time": "2018-08-07T04:43:23.922208Z"
    },
    "executionInfo": {
     "elapsed": 648,
     "status": "ok",
     "timestamp": 1621672943739,
     "user": {
      "displayName": "이선화",
      "photoUrl": "https://lh3.googleusercontent.com/a-/AOh14GiGEcSuxiespWUAaMC6eXljdm2fXmv29ZXuZ14n=s64",
      "userId": "08084686575025891086"
     },
     "user_tz": -540
    },
    "id": "--a5ocjSI82Z"
   },
   "outputs": [],
   "source": [
    "def F(x):\n",
    "    return np.sum([f(x_k) for x_k in x_set if x_k <= x])"
   ]
  },
  {
   "cell_type": "code",
   "execution_count": 10,
   "metadata": {
    "ExecuteTime": {
     "end_time": "2018-08-07T04:43:23.935804Z",
     "start_time": "2018-08-07T04:43:23.926354Z"
    },
    "colab": {
     "base_uri": "https://localhost:8080/"
    },
    "executionInfo": {
     "elapsed": 22,
     "status": "ok",
     "timestamp": 1621672946809,
     "user": {
      "displayName": "이선화",
      "photoUrl": "https://lh3.googleusercontent.com/a-/AOh14GiGEcSuxiespWUAaMC6eXljdm2fXmv29ZXuZ14n=s64",
      "userId": "08084686575025891086"
     },
     "user_tz": -540
    },
    "id": "E3YEEy9FI82w",
    "outputId": "0c094541-996d-4416-f8c6-46187d0c0b36"
   },
   "outputs": [
    {
     "data": {
      "text/plain": [
       "0.2857142857142857"
      ]
     },
     "execution_count": 10,
     "metadata": {},
     "output_type": "execute_result"
    }
   ],
   "source": [
    "# 주사위의 눈이 3이하가 될 확률\n",
    "F(3)"
   ]
  },
  {
   "cell_type": "markdown",
   "metadata": {
    "id": "Zv6hGzusI82z"
   },
   "source": [
    "### 이산형 확률변수의 기대값과 분산"
   ]
  },
  {
   "cell_type": "markdown",
   "metadata": {
    "id": "0voANi62I820"
   },
   "source": [
    "#### 기대값\n",
    "관측될 것이라고 기대되는 관측값에 대한 평균이므로 기대값이라고 한다.  \n",
    "확률변수의 값과 그 확률의 곱의 총합이 기대값이다. \n",
    "$$ E(X) = \\sum_k x_k f(x_k)$$"
   ]
  },
  {
   "cell_type": "markdown",
   "metadata": {
    "id": "CSVSJZQvRJIT"
   },
   "source": [
    "앞선 불공정한 주사위의 기대값을 계산하면 다음과 같다."
   ]
  },
  {
   "cell_type": "code",
   "execution_count": 11,
   "metadata": {
    "ExecuteTime": {
     "end_time": "2018-08-06T11:25:17.701479Z",
     "start_time": "2018-08-06T11:25:17.698316Z"
    },
    "colab": {
     "base_uri": "https://localhost:8080/"
    },
    "executionInfo": {
     "elapsed": 1021,
     "status": "ok",
     "timestamp": 1621673484962,
     "user": {
      "displayName": "이선화",
      "photoUrl": "https://lh3.googleusercontent.com/a-/AOh14GiGEcSuxiespWUAaMC6eXljdm2fXmv29ZXuZ14n=s64",
      "userId": "08084686575025891086"
     },
     "user_tz": -540
    },
    "id": "vaB7fdIQI820",
    "outputId": "07a700e8-f371-4376-abb7-95a6c9f26cfa"
   },
   "outputs": [
    {
     "data": {
      "text/plain": [
       "4.333333333333333"
      ]
     },
     "execution_count": 11,
     "metadata": {},
     "output_type": "execute_result"
    }
   ],
   "source": [
    "np.sum([x_k * f(x_k) for x_k in x_set])"
   ]
  },
  {
   "cell_type": "markdown",
   "metadata": {
    "id": "V-8Ga8vjRiKS"
   },
   "source": [
    "10000번 주사위를 굴렸을때 주사위의 평균은 같은 값이 나오는가?"
   ]
  },
  {
   "cell_type": "code",
   "execution_count": 12,
   "metadata": {
    "ExecuteTime": {
     "end_time": "2018-08-06T11:25:17.737094Z",
     "start_time": "2018-08-06T11:25:17.702621Z"
    },
    "colab": {
     "base_uri": "https://localhost:8080/"
    },
    "executionInfo": {
     "elapsed": 525,
     "status": "ok",
     "timestamp": 1621673584949,
     "user": {
      "displayName": "이선화",
      "photoUrl": "https://lh3.googleusercontent.com/a-/AOh14GiGEcSuxiespWUAaMC6eXljdm2fXmv29ZXuZ14n=s64",
      "userId": "08084686575025891086"
     },
     "user_tz": -540
    },
    "id": "afQHHD76I822",
    "outputId": "87591cea-da66-4452-cacc-8c16a2550bb9"
   },
   "outputs": [
    {
     "data": {
      "text/plain": [
       "4.3531"
      ]
     },
     "execution_count": 12,
     "metadata": {},
     "output_type": "execute_result"
    }
   ],
   "source": [
    "sample = np.random.choice(x_set, 10000, p=prob)\n",
    "np.mean(sample)"
   ]
  },
  {
   "cell_type": "markdown",
   "metadata": {
    "id": "qejEzF-mVEMI"
   },
   "source": [
    "#### 기대값의 성질\n",
    "\n",
    "$$ E(aX +b) = aE(X) + b$$"
   ]
  },
  {
   "cell_type": "markdown",
   "metadata": {
    "id": "QqcLIKMPR-z5"
   },
   "source": [
    "이산형 확률변수의 기대값을 리턴하는 함수를 만들자. 이때 g인수는 확률변수의 변환함수이다. "
   ]
  },
  {
   "cell_type": "code",
   "execution_count": 13,
   "metadata": {
    "ExecuteTime": {
     "end_time": "2018-08-06T11:25:17.740722Z",
     "start_time": "2018-08-06T11:25:17.738306Z"
    },
    "executionInfo": {
     "elapsed": 1043,
     "status": "ok",
     "timestamp": 1621674502327,
     "user": {
      "displayName": "이선화",
      "photoUrl": "https://lh3.googleusercontent.com/a-/AOh14GiGEcSuxiespWUAaMC6eXljdm2fXmv29ZXuZ14n=s64",
      "userId": "08084686575025891086"
     },
     "user_tz": -540
    },
    "id": "mqE9NT8jI83W"
   },
   "outputs": [],
   "source": [
    "def E(X, g=lambda x: x):\n",
    "    x_set, f = X\n",
    "    return np.sum([g(x_k) * f(x_k) for x_k in x_set])"
   ]
  },
  {
   "cell_type": "code",
   "execution_count": 14,
   "metadata": {
    "ExecuteTime": {
     "end_time": "2018-08-06T11:25:17.745675Z",
     "start_time": "2018-08-06T11:25:17.741807Z"
    },
    "colab": {
     "base_uri": "https://localhost:8080/"
    },
    "executionInfo": {
     "elapsed": 37,
     "status": "ok",
     "timestamp": 1621674505434,
     "user": {
      "displayName": "이선화",
      "photoUrl": "https://lh3.googleusercontent.com/a-/AOh14GiGEcSuxiespWUAaMC6eXljdm2fXmv29ZXuZ14n=s64",
      "userId": "08084686575025891086"
     },
     "user_tz": -540
    },
    "id": "ry5-9T2oI83X",
    "outputId": "55c0fc74-af3e-4e17-bf93-2d7120691f89"
   },
   "outputs": [
    {
     "data": {
      "text/plain": [
       "4.333333333333333"
      ]
     },
     "execution_count": 14,
     "metadata": {},
     "output_type": "execute_result"
    }
   ],
   "source": [
    "E(X)"
   ]
  },
  {
   "cell_type": "markdown",
   "metadata": {
    "id": "ruPRbsqoSjHf"
   },
   "source": [
    "Y = 2X + 3의 기대값은 다음과 같이 계산할 수 있다. "
   ]
  },
  {
   "cell_type": "code",
   "execution_count": 15,
   "metadata": {
    "ExecuteTime": {
     "end_time": "2018-08-06T11:25:17.750269Z",
     "start_time": "2018-08-06T11:25:17.746911Z"
    },
    "colab": {
     "base_uri": "https://localhost:8080/"
    },
    "executionInfo": {
     "elapsed": 641,
     "status": "ok",
     "timestamp": 1621674509460,
     "user": {
      "displayName": "이선화",
      "photoUrl": "https://lh3.googleusercontent.com/a-/AOh14GiGEcSuxiespWUAaMC6eXljdm2fXmv29ZXuZ14n=s64",
      "userId": "08084686575025891086"
     },
     "user_tz": -540
    },
    "id": "q3yd8DyyI83Y",
    "outputId": "525ec967-2c3d-419c-f4da-4f2ff239faf4"
   },
   "outputs": [
    {
     "data": {
      "text/plain": [
       "11.666666666666664"
      ]
     },
     "execution_count": 15,
     "metadata": {},
     "output_type": "execute_result"
    }
   ],
   "source": [
    "E(X, g=lambda x: 2*x + 3)"
   ]
  },
  {
   "cell_type": "markdown",
   "metadata": {
    "id": "vW6a3HJDVXN5"
   },
   "source": [
    "E(2X+3)은 2E(x)+3과 같은 값을 가진다."
   ]
  },
  {
   "cell_type": "code",
   "execution_count": 16,
   "metadata": {
    "ExecuteTime": {
     "end_time": "2018-08-06T11:25:17.754447Z",
     "start_time": "2018-08-06T11:25:17.751181Z"
    },
    "colab": {
     "base_uri": "https://localhost:8080/"
    },
    "executionInfo": {
     "elapsed": 12,
     "status": "ok",
     "timestamp": 1621674511440,
     "user": {
      "displayName": "이선화",
      "photoUrl": "https://lh3.googleusercontent.com/a-/AOh14GiGEcSuxiespWUAaMC6eXljdm2fXmv29ZXuZ14n=s64",
      "userId": "08084686575025891086"
     },
     "user_tz": -540
    },
    "id": "SyRJFeRDI83k",
    "outputId": "3f7dc1d8-367d-4379-ecad-2de3ff441e8e"
   },
   "outputs": [
    {
     "data": {
      "text/plain": [
       "11.666666666666666"
      ]
     },
     "execution_count": 16,
     "metadata": {},
     "output_type": "execute_result"
    }
   ],
   "source": [
    "2 * E(X) + 3"
   ]
  },
  {
   "cell_type": "markdown",
   "metadata": {
    "id": "HeGfbDhcI83l"
   },
   "source": [
    "#### 이산형 확률 분포의 분산\n",
    "확률변수의 분사으로 분포의 산포도를 나타내는 지표이다. 이산형 확률분포의 분산은 다음 식과 같이 편차제곱의 기대값으로 정의된다. 여기서 $ \\mu $는 확률 변수 X의 기대값(평균)을 말한다. \n",
    "\n",
    "$$ Var(X) = \\sum_k (x_k - \\mu)^2 f(x_k) $$\n",
    "\n"
   ]
  },
  {
   "cell_type": "code",
   "execution_count": 17,
   "metadata": {
    "ExecuteTime": {
     "end_time": "2018-08-06T11:25:17.759274Z",
     "start_time": "2018-08-06T11:25:17.755396Z"
    },
    "id": "YLx4WPJfI83m",
    "outputId": "f9436d79-0712-4b01-d7b7-55c80652bece"
   },
   "outputs": [
    {
     "data": {
      "text/plain": [
       "2.2222222222222223"
      ]
     },
     "execution_count": 17,
     "metadata": {},
     "output_type": "execute_result"
    }
   ],
   "source": [
    "mean = E(X)\n",
    "np.sum([(x_k-mean)**2 * f(x_k) for x_k in x_set])"
   ]
  },
  {
   "cell_type": "markdown",
   "metadata": {
    "id": "izmR_3lXombf"
   },
   "source": [
    "이 수식을 다음과 같은 분산의 함수로 구현할 수 있다. 여기서 인수 g는 확률변수에 대한 변환이다.  "
   ]
  },
  {
   "cell_type": "code",
   "execution_count": 18,
   "metadata": {
    "ExecuteTime": {
     "end_time": "2018-08-06T11:25:17.763465Z",
     "start_time": "2018-08-06T11:25:17.760361Z"
    },
    "id": "H9vc4WdJI83n"
   },
   "outputs": [],
   "source": [
    "def V(X, g=lambda x: x):\n",
    "    x_set, f = X\n",
    "    mean = E(X, g)\n",
    "    return np.sum([(g(x_k)-mean)**2 * f(x_k) for x_k in x_set])"
   ]
  },
  {
   "cell_type": "code",
   "execution_count": 19,
   "metadata": {
    "ExecuteTime": {
     "end_time": "2018-08-06T11:25:17.768386Z",
     "start_time": "2018-08-06T11:25:17.764699Z"
    },
    "id": "gjABGAGPI83o",
    "outputId": "d8557d22-4950-4c2b-946b-bf0783c55cef"
   },
   "outputs": [
    {
     "data": {
      "text/plain": [
       "2.2222222222222223"
      ]
     },
     "execution_count": 19,
     "metadata": {},
     "output_type": "execute_result"
    }
   ],
   "source": [
    "V(X)"
   ]
  },
  {
   "cell_type": "markdown",
   "metadata": {
    "id": "xKT6jab2o24v"
   },
   "source": [
    "#### 분산의 성질\n",
    "\n",
    "$$ Var(aX + b) = a^2Var(X) $$"
   ]
  },
  {
   "cell_type": "markdown",
   "metadata": {
    "id": "kALFUMiNoo52"
   },
   "source": [
    "확률변수 Y = 2X + 3의 분산은 다음과 같이 계산할 수 있다."
   ]
  },
  {
   "cell_type": "code",
   "execution_count": 20,
   "metadata": {
    "ExecuteTime": {
     "end_time": "2018-08-06T11:25:17.773328Z",
     "start_time": "2018-08-06T11:25:17.769350Z"
    },
    "id": "-DkmA-29I83q",
    "outputId": "c6c28b0f-3641-439d-bda9-c33d650c935c"
   },
   "outputs": [
    {
     "data": {
      "text/plain": [
       "8.88888888888889"
      ]
     },
     "execution_count": 20,
     "metadata": {},
     "output_type": "execute_result"
    }
   ],
   "source": [
    "V(X, lambda x: 2*x + 3)"
   ]
  },
  {
   "cell_type": "markdown",
   "metadata": {
    "id": "oSn4ayRppWvX"
   },
   "source": [
    "Y = 2X + 3 의 분산은 $ 2^2 Var(X) $가 됨을 알 수 있다."
   ]
  },
  {
   "cell_type": "code",
   "execution_count": 21,
   "metadata": {
    "ExecuteTime": {
     "end_time": "2018-08-06T11:25:17.778674Z",
     "start_time": "2018-08-06T11:25:17.774588Z"
    },
    "id": "rfw4AUP8I83s",
    "outputId": "865d12de-3482-402d-e892-48793a717b2d"
   },
   "outputs": [
    {
     "data": {
      "text/plain": [
       "8.88888888888889"
      ]
     },
     "execution_count": 21,
     "metadata": {},
     "output_type": "execute_result"
    }
   ],
   "source": [
    "2**2 * V(X)"
   ]
  }
 ],
 "metadata": {
  "colab": {
   "collapsed_sections": [
    "tDBXtjTJI84P"
   ],
   "name": "이산형확률분포.ipynb",
   "provenance": []
  },
  "kernelspec": {
   "display_name": "Python 3",
   "language": "python",
   "name": "python3"
  },
  "language_info": {
   "codemirror_mode": {
    "name": "ipython",
    "version": 3
   },
   "file_extension": ".py",
   "mimetype": "text/x-python",
   "name": "python",
   "nbconvert_exporter": "python",
   "pygments_lexer": "ipython3",
   "version": "3.8.5"
  },
  "toc": {
   "nav_menu": {},
   "number_sections": true,
   "sideBar": true,
   "skip_h1_title": false,
   "toc_cell": false,
   "toc_position": {
    "height": "911px",
    "left": "0px",
    "right": "1493px",
    "top": "107px",
    "width": "212px"
   },
   "toc_section_display": "block",
   "toc_window_display": false
  }
 },
 "nbformat": 4,
 "nbformat_minor": 1
}
